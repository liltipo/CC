{
 "cells": [
  {
   "cell_type": "code",
   "execution_count": 7,
   "id": "9149e7cf-514e-4a44-9c94-24f35ecd64a8",
   "metadata": {},
   "outputs": [],
   "source": [
    "import numpy as np\n",
    "import matplotlib.pyplot as plt"
   ]
  },
  {
   "cell_type": "code",
   "execution_count": 8,
   "id": "0b85f9e8-a98e-4867-aa46-77c8e0357e0d",
   "metadata": {},
   "outputs": [],
   "source": [
    "f1 = lambda x: x[0]**2+x[1]**2-1\n",
    "f2 = lambda x: x[1]-x[0]**2\n",
    "F  = lambda x: np.array([f1(x),f2(x)], dtype=float)\n",
    "J  = lambda x: np.array([[2*x[0], 2*x[1]],[-2*x[0], 1.0]], dtype=float)"
   ]
  },
  {
   "cell_type": "code",
   "execution_count": 9,
   "id": "bc7a5591-d408-46e0-a806-d23af1cd44ba",
   "metadata": {},
   "outputs": [],
   "source": [
    "# Here we use 'np.linalg.solve', but we could use LU or PALU! Or iterative methods!\n",
    "NewtonStep = lambda xi: xi-np.linalg.solve(J(xi),F(xi))"
   ]
  },
  {
   "cell_type": "code",
   "execution_count": 13,
   "id": "e473ab83-bc6d-468c-a02b-47d28c7485a4",
   "metadata": {},
   "outputs": [],
   "source": [
    "def Show_Newton(x0,y0,n):\n",
    "    x_pre = np.array([x0,y0])\n",
    "    print('Initial guess: [%.10f, %.10f]' % (x0,y0))\n",
    "    for i in np.arange(n):\n",
    "        x_next=NewtonStep(x_pre)\n",
    "        x_pre = x_next\n",
    "\n",
    "        x1,y1 = x_next\n",
    "        print('Iteration %d  : [%.10f, %.10f]' % (i+1,x1,y1))"
   ]
  },
  {
   "cell_type": "code",
   "execution_count": 14,
   "id": "8ba722ac-e349-45a2-ae9e-f3fe81987f32",
   "metadata": {},
   "outputs": [
    {
     "name": "stdout",
     "output_type": "stream",
     "text": [
      "Initial guess: [1.5000000000, 2.0000000000]\n",
      "Iteration 1  : [1.0833333333, 1.0000000000]\n",
      "Iteration 2  : [0.8493589744, 0.6666666667]\n",
      "Iteration 3  : [0.7890999724, 0.6190476190]\n",
      "Iteration 4  : [0.7861571776, 0.6180344478]\n",
      "Iteration 5  : [0.7861513778, 0.6180339887]\n",
      "Iteration 6  : [0.7861513778, 0.6180339887]\n",
      "Iteration 7  : [0.7861513778, 0.6180339887]\n",
      "Iteration 8  : [0.7861513778, 0.6180339887]\n",
      "Iteration 9  : [0.7861513778, 0.6180339887]\n",
      "Iteration 10  : [0.7861513778, 0.6180339887]\n"
     ]
    }
   ],
   "source": [
    "Show_Newton(x0=1.5,y0=2.,n=10)"
   ]
  }
 ],
 "metadata": {
  "kernelspec": {
   "display_name": "Python 3 (ipykernel)",
   "language": "python",
   "name": "python3"
  },
  "language_info": {
   "codemirror_mode": {
    "name": "ipython",
    "version": 3
   },
   "file_extension": ".py",
   "mimetype": "text/x-python",
   "name": "python",
   "nbconvert_exporter": "python",
   "pygments_lexer": "ipython3",
   "version": "3.11.7"
  }
 },
 "nbformat": 4,
 "nbformat_minor": 5
}
