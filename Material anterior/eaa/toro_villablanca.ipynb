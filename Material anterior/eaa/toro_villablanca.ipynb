{
  "cells": [
    {
      "cell_type": "markdown",
      "metadata": {
        "cell_id": "f1f75e92f79a429b8279985025560e3f",
        "deepnote_cell_type": "markdown",
        "id": "KXCAQ7fLmMyQ"
      },
      "source": [
        "<center>\n",
        "    <img src=\"http://sct.inf.utfsm.cl/wp-content/uploads/2020/04/logo_di.png\" style=\"width:60%\">\n",
        "    <h1> INF285 - Computación Científica </h1>\n",
        "    <h2> Parte 2 EAA - Código Base</h2>\n",
        "    <h2> [S]cientific [C]omputing [T]eam </a> </h2>\n",
        "    <h2> Versión: 1.01</h2>\n",
        "</center>"
      ]
    },
    {
      "cell_type": "markdown",
      "metadata": {
        "cell_id": "340822c1e4464ed4bf501a72bd8efa6a",
        "deepnote_cell_type": "markdown",
        "id": "udOikXaJmMyT"
      },
      "source": [
        "## Librerías a utilizar - No modificar"
      ]
    },
    {
      "cell_type": "code",
      "execution_count": 17,
      "metadata": {
        "cell_id": "e7079052816b443383a5ea487d259cb4",
        "deepnote_cell_type": "code",
        "id": "2l2BPcqQmMyU"
      },
      "outputs": [],
      "source": [
        "import numpy as np\n",
        "import pandas as pd\n",
        "\n",
        "'''\n",
        "    Inputs\n",
        "    x: ndarray\n",
        "       vector of inputs [x1, x2, ..., xm]\n",
        "\n",
        "    N: integer\n",
        "        number of columns of matrix\n",
        "\n",
        "    ---\n",
        "    Returns\n",
        "    M: ndarray\n",
        "       matrix of size(x) X N corresponding vandermonde's matrix\n",
        "    '''\n",
        "def vandermonde(x,N):\n",
        "    M = np.vander(x,N,increasing=True)\n",
        "    return M\n",
        "\n",
        "df = pd.read_csv('https://raw.githubusercontent.com/Howlhoff/Archivos/main/muestras.csv')"
      ]
    },
    {
      "cell_type": "markdown",
      "metadata": {
        "cell_id": "9572fdc6076440969eb24f557896f494",
        "deepnote_cell_type": "markdown",
        "id": "WlBV_-EJmMyY"
      },
      "source": [
        "## Enunciado:\n",
        "\n",
        "En un laboratorio de medición de una empresa, se ha producido un accidente en el cual se han perdido el valor nominal de la resistencia. y usted, como ingeniero de la UTFSM, propone realizar un experimento en donde solo dispone de cable, una fuente de voltaje continua, y un multímetro que mide la corriente que pasa por la resistencia. Como no quiere perder tiempo, usted arma un circuito sencillo como se muestra a continuacion.\n",
        "\n",
        "<p align='center'><img src='https://thumbs.dreamstime.com/b/circuito-el%C3%A9ctrico-simple-amperaci%C3%B3n-de-tensi%C3%B3n-y-resistencia-ilustraci%C3%B3n-vectorial-aislada-en-blanco-246882155.jpg' style=\"width:30%\"></p>"
      ]
    },
    {
      "cell_type": "markdown",
      "metadata": {
        "cell_id": "e3366a8b5fb144b68d218e62a4b94d16",
        "deepnote_cell_type": "markdown",
        "id": "hhS0aeHlmMyZ"
      },
      "source": [
        "#### 1. (20%) Propongan un modelo que permita estimar el valor de la resistencia $R$, teniendo solamente los valores de la corriente $i$ y el voltaje $v(i)$, y teniendo en cuenta que el modelo debe tener al menos 2 parámetros a ajustar. Explique explícitamente cómo piensa encontrar el valor de $R$ dentro del modelo, y explique el porqué de su razonamiento."
      ]
    },
    {
      "cell_type": "markdown",
      "metadata": {
        "cell_id": "ff4aa0c6abf84aaeaf2f6394262a313b",
        "deepnote_cell_type": "markdown",
        "id": "wrXxRC9bmMyZ"
      },
      "source": [
        "Respuesta: Dado que la relación entre Voltaje $V$, Corriente $I$ y Resistencia $R$, sigue la siguiente ecuación:\n",
        "\n",
        "$V = I × R$  \n",
        "\n",
        "Osea se puede reescribir como:\n",
        "\n",
        "$v(i) = i × R $\n",
        "\n",
        "Y dado que tiene un comportamiento similar a una recta, podemos parametrizar haciendo una regresión de la ecuación:\n",
        "  \n",
        "$ v(i) = i × a + b$\n",
        "\n",
        "Así podemos calcular los valores que mejor se adapten para a y b, donde nuestro valor de interés será la pendiente o en este caso, a = R"
      ]
    },
    {
      "cell_type": "markdown",
      "metadata": {
        "cell_id": "6413b82400664a4f8d23821145c50185",
        "deepnote_cell_type": "markdown",
        "id": "KH_KOaBamMya"
      },
      "source": [
        "#### 2. (20%) Implemente la función <em>least_squared</em>, la cual recibe como parámetros un vector de datos de entrada\n",
        "${x} = (x_1, x_2, ..., x_m)$ y un vector de datos de salida ${y} = (y_1, y_2, ..., y_m)$, y debe retornar los valores para $a$ y $b$ que mejor ajusten al modelo $y = f(x)$ propuesto en el inciso anterior a los datos $(x_i, y_i)$ entregados, utilizando el método de analisis de error para la estimacion.\n",
        "\n",
        "<div class=\"alert alert-block alert-danger\"><b>Está prohibido usar la función de NumPy np.linalg.lstsq o cualquier otra función predefinida que implemente mínimos cuadrados.</b>\n",
        "</div>\n",
        "\n",
        "<div class=\"alert alert-block alert-info\">Sí está permitido usar la función np.linalg.solve para resolver un sistema de ecuaciones. </a>\n",
        "</div>"
      ]
    },
    {
      "cell_type": "code",
      "execution_count": 18,
      "metadata": {
        "cell_id": "668804dffd3e4e9e9f0814b2cdff4884",
        "deepnote_cell_type": "code",
        "id": "EpLiTuljmMya"
      },
      "outputs": [],
      "source": [
        "def least_squared_error(x,y):\n",
        "    '''\n",
        "    Inputs\n",
        "    x: ndarray\n",
        "       vector of inputs [x1, x2, ..., xm]\n",
        "\n",
        "    y: ndarray\n",
        "       vector of inputs [y1, y2, ..., ym]\n",
        "\n",
        "    ---\n",
        "    Returns\n",
        "    s: ndarray\n",
        "       vector of outputs [b, a]\n",
        "    '''\n",
        "    #Aqui va su codigo\n",
        "    #-------------------------\n",
        " # Calcular las sumas necesarias\n",
        "    m = x.shape[0]\n",
        "    sum_x = np.sum(x)\n",
        "    sum_y = np.sum(y)\n",
        "    sum_xx = np.sum(x * x)\n",
        "    sum_xy = np.sum(x * y)\n",
        "\n",
        "    # Formar el sistema de ecuaciones\n",
        "    A = np.array([\n",
        "        [m, sum_x],\n",
        "        [sum_x, sum_xx]\n",
        "    ])\n",
        "    b = np.array([sum_y, sum_xy])\n",
        "\n",
        "    # Resolver el sistema de ecuaciones\n",
        "    s = np.linalg.solve(A, b)\n",
        "    #-------------------------\n",
        "    return s"
      ]
    },
    {
      "cell_type": "markdown",
      "metadata": {
        "cell_id": "ba32d27c49c8408ebbfa8a410f496359",
        "deepnote_cell_type": "markdown",
        "id": "_tOxo0g_mMyb"
      },
      "source": [
        "#### 3. (20%) Implemente la función <em>least_squared</em>, la cual recibe como parámetros un vector de datos de entrada ${x} = (x_1, x_2, ..., x_m)$ y un vector de datos de salida ${y} = (y_1, y_2, ..., y_m)$, y debe retornar los valores para $a$ y $b$ que mejor ajusten al modelo $y = f(x)$ propuesto en el inciso anterior a los datos $(x_i, y_i)$ entregados, utilizando las ecuaciones normales para la estimación. (*Hint: Try using the function defined earlier to create a vandermonde matrix*)\n",
        "\n",
        "<div class=\"alert alert-block alert-danger\"><b>Está prohibido usar la función de NumPy np.linalg.lstsq o cualquier otra función predefinida que implemente mínimos cuadrados.</b>\n",
        "</div>\n",
        "\n",
        "<div class=\"alert alert-block alert-info\">Sí está permitido usar la función np.linalg.solve para resolver un sistema de ecuaciones. </a>\n",
        "</div>"
      ]
    },
    {
      "cell_type": "code",
      "execution_count": 19,
      "metadata": {
        "allow_embed": false,
        "cell_id": "3c63fbb993e14505b57f8b0ee3a37ad7",
        "deepnote_cell_type": "code",
        "id": "I-EPrNKsmMyb"
      },
      "outputs": [],
      "source": [
        "def least_squared_normal(x,y):\n",
        "    '''\n",
        "    Inputs\n",
        "    x: ndarray\n",
        "       vector of inputs [x1, x2, ..., xm]\n",
        "\n",
        "    y: ndarray\n",
        "       vector of inputs [y1, y2, ..., ym]\n",
        "\n",
        "    ---\n",
        "    Returns\n",
        "    s: ndarray\n",
        "       vector of outputs [b, a]\n",
        "    '''\n",
        "    #Aqui va su codigo\n",
        "    #-------------------------\n",
        "    X = vandermonde(x, 2)\n",
        "\n",
        "    # Calcular X^T X y X^T y\n",
        "    XT = X.T\n",
        "    XT_X = XT @ X\n",
        "    XT_y = XT @ y\n",
        "\n",
        "    # Resolver el sistema de ecuaciones normales\n",
        "    s = np.linalg.solve(XT_X, XT_y)\n",
        "\n",
        "    #-------------------------\n",
        "    return s"
      ]
    },
    {
      "cell_type": "markdown",
      "metadata": {
        "cell_id": "3a13557fd6c94890bbe5e0c566a4395a",
        "deepnote_cell_type": "markdown",
        "id": "Cy7plmlBmMyc"
      },
      "source": [
        "#### 3. (10%) Utilizando los valores del dataset <em>muestras.csv</em> y las funciones $\\verb|least_squared_error|$ y $\\verb|least_squared_normal|$, entregue una aproximación de la resistencia $R$ con dos cifras significativas. (*Hint: Try converting the dataset onto 2 vector arrays.*)"
      ]
    },
    {
      "cell_type": "code",
      "execution_count": 20,
      "metadata": {
        "cell_id": "a158809c815f41a2b10f2e1d747b204e",
        "deepnote_cell_type": "code",
        "colab": {
          "base_uri": "https://localhost:8080/"
        },
        "id": "qy2Gfu2DmMyd",
        "outputId": "df48fd68-1b7b-46f6-e458-e34b8e93ead8"
      },
      "outputs": [
        {
          "output_type": "execute_result",
          "data": {
            "text/plain": [
              "(2.46, 2.46)"
            ]
          },
          "metadata": {},
          "execution_count": 20
        }
      ],
      "source": [
        "#Aqui va su codigo\n",
        "#-------------------------\n",
        "i = df['ampere'].values\n",
        "v = df['voltage'].values\n",
        "error = least_squared_error(i,v)\n",
        "normal = least_squared_normal(i,v)\n",
        "\n",
        "v_i = lambda i: error[1]*i + error[0]\n",
        "v_ivec = np.vectorize(v_i)\n",
        "v_eval = v_ivec(i)\n",
        "\n",
        "v_in = lambda i: normal[1]*i + normal[0]\n",
        "v_invec = np.vectorize(v_i)\n",
        "v_evaln = v_invec(i)\n",
        "\n",
        "round(error[1],2),round(normal[1],2)\n",
        "#-------------------------"
      ]
    },
    {
      "cell_type": "markdown",
      "metadata": {
        "cell_id": "008273c8b35d432bbdf753118491a0fe",
        "deepnote_cell_type": "markdown",
        "id": "6Lp2QaKDmMyd"
      },
      "source": [
        "#### 4. (30%) ¿Cual de los dos métodos estudiados es el mejor para uso práctico? Justifique."
      ]
    },
    {
      "cell_type": "markdown",
      "metadata": {
        "cell_id": "1a7d230945bb40e889b321a738ede639",
        "deepnote_cell_type": "markdown",
        "id": "XF9WkUIZmMyd"
      },
      "source": [
        "Respuesta: Para el uso práctico el método de error es mejor, ya que calcular la matriz de vandermonde es costoso, y en el otro se busca minimizar basándose en una función vectorial que depende de los valores que se ajustan"
      ]
    },
    {
      "cell_type": "markdown",
      "metadata": {
        "created_in_deepnote_cell": true,
        "deepnote_cell_type": "markdown",
        "id": "-qA5nHvemMye"
      },
      "source": [
        "<a style='text-decoration:none;line-height:16px;display:flex;color:#5B5B62;padding:10px;justify-content:end;' href='https://deepnote.com?utm_source=created-in-deepnote-cell&projectId=e31ea224-f9ff-4299-b82e-1b6c259ca607' target=\"_blank\">\n",
        "<img alt='Created in deepnote.com' style='display:inline;max-height:16px;margin:0px;margin-right:7.5px;' src='data:image/svg+xml;base64,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' > </img>\n",
        "Created in <span style='font-weight:600;margin-left:4px;'>Deepnote</span></a>"
      ]
    },
    {
      "cell_type": "code",
      "source": [],
      "metadata": {
        "id": "gbE02urDsT_A"
      },
      "execution_count": 20,
      "outputs": []
    }
  ],
  "metadata": {
    "deepnote_execution_queue": [],
    "deepnote_notebook_id": "e6e92fcec46449979ae3f6a120245c2d",
    "kernelspec": {
      "display_name": "Python 3 (ipykernel)",
      "language": "python",
      "name": "python3"
    },
    "language_info": {
      "codemirror_mode": {
        "name": "ipython",
        "version": 3
      },
      "file_extension": ".py",
      "mimetype": "text/x-python",
      "name": "python",
      "nbconvert_exporter": "python",
      "pygments_lexer": "ipython3",
      "version": "3.8.15"
    },
    "colab": {
      "provenance": []
    }
  },
  "nbformat": 4,
  "nbformat_minor": 0
}