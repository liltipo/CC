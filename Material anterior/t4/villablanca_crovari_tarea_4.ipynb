{
  "cells": [
    {
      "cell_type": "markdown",
      "id": "5965150c-7b80-49e0-9267-9560754c152d",
      "metadata": {
        "id": "5965150c-7b80-49e0-9267-9560754c152d"
      },
      "source": [
        "<center>\n",
        "    <h1> INF285 - Computación Científica </h1>\n",
        "    <h2> Tarea 4 - Código Base</h2>\n",
        "    <h2> [S]cientific [C]omputing [T]eam </a> </h2>\n",
        "    <h2> 2024-1</h2>\n",
        "</center>"
      ]
    },
    {
      "cell_type": "markdown",
      "id": "2fc283ff-723a-409e-a198-4bea80ca2388",
      "metadata": {
        "id": "2fc283ff-723a-409e-a198-4bea80ca2388"
      },
      "source": [
        "# Consultas\n",
        "\n",
        "* Enviar a: **tareas.inf285@gmail.com**\n",
        "* Se recibirán consultas en **tres** bloques. i) El primer bloque será desde las 12:15 hrs. hasta las 17:00 hrs. del día jueves, donde todas las preguntas recibidas dentro de este bloque se responderán con seguridad a partir de las 17:01 hrs. del día jueves. (ii) El segundo bloque de consultas será desde las 17:01 hrs. del día jueves hasta las 08:15 hrs. del día viernes, donde las preguntas recibidas dentro de este bloque horario se responderán con seguridad a partir de las 08:16 hrs. del día viernes. (iii) El tercer, y último bloque, de consultas será desde las 08:16 hrs. hasta las 14:30 hrs. del día viernes, donde las preguntas recibidas dentro de este bloque horario se responderán con seguridad a partir de las 14:31 hrs. del día viernes."
      ]
    },
    {
      "cell_type": "markdown",
      "id": "4beec7f5-9da4-498a-831f-8b229ce4bb9d",
      "metadata": {
        "id": "4beec7f5-9da4-498a-831f-8b229ce4bb9d"
      },
      "source": [
        "# Librerías (no utilizar liberías adicionales)"
      ]
    },
    {
      "cell_type": "code",
      "execution_count": 1,
      "id": "ff73dff5-ef8e-4f2d-b551-07dc88ffa520",
      "metadata": {
        "id": "ff73dff5-ef8e-4f2d-b551-07dc88ffa520"
      },
      "outputs": [],
      "source": [
        "import numpy as np\n",
        "import matplotlib.pyplot as plt"
      ]
    },
    {
      "cell_type": "markdown",
      "id": "d8c06b3c-8ee8-40d2-9406-f43f4bf87a83",
      "metadata": {
        "id": "d8c06b3c-8ee8-40d2-9406-f43f4bf87a83"
      },
      "source": [
        "# Contexto\n",
        "\n",
        "Indiana Jones ha viajado al pasado! Específicamente ha viajado a la antigua Grecia donde se ha encontrado frente a frente con el mismísimo Arquímedes de Siracusa. Este último al ver que el arqueólogo claramente no es de la época decide ayudarlo para regresar, pero ¿Cómo lo puede ayudar?\n",
        "\n",
        "Arquímedes ha inventado la Anticitera, un dispositivo que permite encontrar grietas temporales para poder viajar en el tiempo. Mediante la ubicación que indica el dispositivo, Indiana podrá dirigirse a ese punto y poder volver. ¿Cuál es el problema? La Anticitera funciona mediante polinomios específicos que permiten calcular las coordenadas. Más aún, el dispositivo **muestra una función** y, en caso de que sea un **polinomio**, se debe estimar su **grado**. Para la época de Arquímedes aún no se desarrollaban algoritmos avanzados para este tipo de desafíos, pero Indiana Jones viene del futuro junto con su joven asistente Short Round, quien tiene conocimientos en Computación Científica!"
      ]
    },
    {
      "cell_type": "markdown",
      "id": "d3305180-7215-4780-92f8-69f6a64667bf",
      "metadata": {
        "id": "d3305180-7215-4780-92f8-69f6a64667bf"
      },
      "source": [
        "# Funciones Entregadas (No debe modificarlas)"
      ]
    },
    {
      "cell_type": "code",
      "execution_count": 2,
      "id": "38a180ea-5c32-41b5-8b5d-1dfc7f12f2d3",
      "metadata": {
        "id": "38a180ea-5c32-41b5-8b5d-1dfc7f12f2d3"
      },
      "outputs": [],
      "source": [
        "def gaussian_nodes_and_weights(m, a, b):\n",
        "    if m==1:\n",
        "        return np.array([1]), np.array([2])\n",
        "    beta = .5 / np.sqrt(1.-(2.*np.arange(1.,m))**(-2))\n",
        "    T = np.diag(beta,1) + np.diag(beta,-1)\n",
        "    D, V = np.linalg.eigh(T)\n",
        "    x = D\n",
        "    x = .5 * ((b-a)*x + b + a)\n",
        "    w = 2*V[0,:]**2\n",
        "    w = .5*(b-a)*w\n",
        "    return x, w\n",
        "\n",
        "def gaussianquad(myfun, m, a, b):\n",
        "    f = np.vectorize(myfun)\n",
        "    x, w = gaussian_nodes_and_weights(m, a, b)\n",
        "    int_val = np.dot(f(x),w)\n",
        "    return int_val"
      ]
    },
    {
      "cell_type": "markdown",
      "id": "cdc9615f-b3db-4131-84c2-5d89eb3dbd73",
      "metadata": {
        "id": "cdc9615f-b3db-4131-84c2-5d89eb3dbd73"
      },
      "source": [
        "Consideremos la siguiente función:\n",
        "\n",
        "$$\n",
        "f_1(x) = \\sin\\left(\\dfrac{1}{x}\\right), \\quad x \\in [0,1]\n",
        "$$\n",
        "\n",
        "y la integral:\n",
        "\n",
        "$$\n",
        "I_1 = \\int_{0}^{1}f_1(x)\\,\\mathrm{d}x\n",
        "$$\n",
        "\n",
        "Vamos a calcular la aproximación de $I_1$ mediante *Cuadratura Gaussiana* con $m$ nodos para $ m = \\{2,\\dots,500\\}$. En el siguiente gráfico se observa, mediante los puntos azules, los valores de las aproximaciones y cada punto rojo representa el valor exacto de la integral."
      ]
    },
    {
      "cell_type": "code",
      "execution_count": 3,
      "id": "d8e32a37-8891-42a6-a46e-859bf26dddf1",
      "metadata": {
        "colab": {
          "base_uri": "https://localhost:8080/",
          "height": 449
        },
        "id": "d8e32a37-8891-42a6-a46e-859bf26dddf1",
        "outputId": "535b7f4d-3dd5-417d-c182-7f08530c6f3b"
      },
      "outputs": [
        {
          "output_type": "display_data",
          "data": {
            "text/plain": [
              "<Figure size 640x480 with 1 Axes>"
            ],
            "image/png": "[encoded data removed]"
          },
          "metadata": {}
        }
      ],
      "source": [
        "#No modificar la celda, solo ejecutar.\n",
        "gaussianquad_vec = np.vectorize(gaussianquad)\n",
        "m_range = range(2,501)\n",
        "size_m = len(m_range)\n",
        "exact_int = (0.504067)*np.ones(size_m)\n",
        "\n",
        "f1 = lambda x: np.sin(1./x)\n",
        "a,b = 0.,1.\n",
        "quad = gaussianquad_vec(f1,m_range,a,b)\n",
        "plt.plot(m_range,quad,'.b')\n",
        "plt.plot(m_range,exact_int,'.r')\n",
        "plt.xlabel(r\"$m$\")\n",
        "plt.ylabel(r\"$I_1$\")\n",
        "plt.grid()\n",
        "plt.show()"
      ]
    },
    {
      "cell_type": "markdown",
      "id": "fd8bfb90-6425-480e-bde0-4cb1bf28bc25",
      "metadata": {
        "id": "fd8bfb90-6425-480e-bde0-4cb1bf28bc25"
      },
      "source": [
        "Consideremos ahora la siguiente función:\n",
        "\n",
        "$$\n",
        "f_2(x) = x^{15} - 2\\,x^{10} + x^{3} - x + 1, \\quad x \\in [0,1]\n",
        "$$\n",
        "\n",
        "y la integral:\n",
        "\n",
        "$$\n",
        "I_2 = \\int_{0}^{1}f_2(x)\\,\\mathrm{d}x\n",
        "$$\n",
        "\n",
        "Vamos a calcular la aproximación de $I_2$ mediante *Cuadratura Gaussiana* con $m$ nodos para $ m = \\{2,\\dots,50\\}$. Al igual que en el gráfico anterior, se observa mediante los puntos azules, los valores de las aproximaciones y cada punto rojo representa el valor exacto de la integral."
      ]
    },
    {
      "cell_type": "code",
      "execution_count": 4,
      "id": "ed9698b6-47e5-41c1-a0ae-2151bbdd2496",
      "metadata": {
        "colab": {
          "base_uri": "https://localhost:8080/",
          "height": 449
        },
        "id": "ed9698b6-47e5-41c1-a0ae-2151bbdd2496",
        "outputId": "6267bf52-a40c-4f6c-faf6-57e29c999831"
      },
      "outputs": [
        {
          "output_type": "display_data",
          "data": {
            "text/plain": [
              "<Figure size 640x480 with 1 Axes>"
            ],
            "image/png": "[encoded data removed]"
          },
          "metadata": {}
        }
      ],
      "source": [
        "#No modificar la celda, solo ejecutar.\n",
        "gaussianquad_vec = np.vectorize(gaussianquad)\n",
        "m_range = range(2,51)\n",
        "size_m = len(m_range)\n",
        "exact_int = (111./176.)*np.ones(size_m)\n",
        "\n",
        "f2 = lambda x: np.power(x,15) - 2.*np.power(x,10) + np.power(x,3) - x + 1.\n",
        "a,b = 0.,1.\n",
        "quad = gaussianquad_vec(f2,m_range,a,b)\n",
        "plt.plot(m_range,quad,'.b')\n",
        "plt.plot(m_range,exact_int,'.r')\n",
        "plt.xlabel(r\"$m$\")\n",
        "plt.ylabel(r\"$I_2$\")\n",
        "plt.grid()\n",
        "plt.show()"
      ]
    },
    {
      "cell_type": "markdown",
      "id": "09259be0-3c34-4420-bd2d-351eb1472918",
      "metadata": {
        "id": "09259be0-3c34-4420-bd2d-351eb1472918"
      },
      "source": [
        "Como usted puede observar, las aproximaciones en ambos casos se comportan de forma diferente. Esto puede llevar a una pista que permita a Indiana Jones y su asistente Short Round a completar la misión!"
      ]
    },
    {
      "cell_type": "markdown",
      "id": "96323b01-e506-45ee-898f-0cfa3de843fb",
      "metadata": {
        "id": "96323b01-e506-45ee-898f-0cfa3de843fb"
      },
      "source": [
        "# Pregunta 1 (40 puntos)\n",
        "\n",
        "Como a la Anticitera se le debe indicar una estimación del grado de una función $f(x)$ en caso de que sea un polinomio, se le encomienda a usted confeccionar la función `check_poly(f,a,b,tol=1e-14)` que recibe una función $f(x)$, el intervalo $[a,b]$ y considerando una tolerancia `tol` determine si la función $f(x)$ es un polinomio y estime el grado $n$ que puede tener. La función debe retornar la estimación del grado $n$ y en caso de que la función no sea un polinomio, debe retornar $-1$. Considere que las funciones a entregar como input, pueden ser polinomios de grado $n \\leq 500$.\n",
        "\n",
        "*Hint 1: Short Round knows Gaussian Quadrature a lot!*\n",
        "\n",
        "*Hint 2: in this case relative error is useful than absolute one.*"
      ]
    },
    {
      "cell_type": "code",
      "execution_count": 5,
      "id": "9b987ff7-0ea8-4ce2-9a88-859393d946c0",
      "metadata": {
        "id": "9b987ff7-0ea8-4ce2-9a88-859393d946c0"
      },
      "outputs": [],
      "source": [
        "def check_poly(f,a,b,tol=1e-14):\n",
        "    #acá va su codigo\n",
        "    #--------------------------------\n",
        "    exact_aprox = gaussianquad(f,251,a,b) #cuad gauss aproxima exacto hasta grado 500 <= 2*m - 1 ----> m >= (500 + 1)/2    puntos, osea -> 250.5 que se aproxima a techo 251\n",
        "    n = -1 #asumimos que al no encontrar un grado retornamos -1, por lo que no se puede aproximar este\n",
        "    for i in range(1,251):\n",
        "      aprox = gaussianquad(f,i,a,b)\n",
        "      err = np.abs((aprox - exact_aprox)/exact_aprox)\n",
        "      if err < tol:\n",
        "        n = (2*i) - 1\n",
        "        break\n",
        "\n",
        "    #--------------------------------\n",
        "    return n"
      ]
    },
    {
      "cell_type": "markdown",
      "id": "f3a3b569-3667-4aca-b60d-7cbce93b4449",
      "metadata": {
        "id": "f3a3b569-3667-4aca-b60d-7cbce93b4449"
      },
      "source": [
        "# Pregunta 2\n",
        "\n",
        "## Pregunta 2.1 (20 puntos)\n",
        "\n",
        "Para las siguientes funciones $f_i(x)$ para $i = \\{1,\\dots,4\\}$ en el intervalo $[0,1]$ y utilizando el procedimiento de la pregunta anterior `check_poly`, verifique si la función es un polinomio o no, y en caso de serlo determine la estimación del grado.\n",
        "\n",
        "- $f_1(x) = \\sin\\left(\\dfrac{1}{x}\\right)$\n",
        "- $f_2(x) = x^{15} - 2\\,x^{10} + x^{3} - x + 1$\n",
        "- $f_3(x) = \\dfrac{\\exp(x)}{x + 1}$\n",
        "- $f_4(x) = x^5 - x^4 + 10\\,x^2 - 1$"
      ]
    },
    {
      "cell_type": "code",
      "execution_count": 17,
      "id": "14ba6106-823d-4c27-9009-e49ac39f8f27",
      "metadata": {
        "colab": {
          "base_uri": "https://localhost:8080/"
        },
        "id": "14ba6106-823d-4c27-9009-e49ac39f8f27",
        "outputId": "ec2f9a66-fcd0-44cc-ffe0-d5248f3f87dc"
      },
      "outputs": [
        {
          "output_type": "execute_result",
          "data": {
            "text/plain": [
              "(-1, 15, 17, 5)"
            ]
          },
          "metadata": {},
          "execution_count": 17
        }
      ],
      "source": [
        "#acá va su codigo\n",
        "#--------------------------------\n",
        "F1 = lambda x: np.sin(1/x)\n",
        "F2 = lambda x: x**15 - 2*x**10 + x**3 - x + 1\n",
        "F3 = lambda x: np.exp(x)/(x+1)\n",
        "F4 = lambda x: x**5 - x**4 + 10*x**2 - 1\n",
        "\n",
        "x1 = check_poly(F1,0,1)\n",
        "x2 = check_poly(F2,0,1)\n",
        "x3 = check_poly(F3,0,1)\n",
        "x4 = check_poly(F4,0,1)\n",
        "\n",
        "x1,x2,x3,x4\n",
        "\n",
        "\n",
        "#--------------------------------"
      ]
    },
    {
      "cell_type": "markdown",
      "id": "0a165f06-6aca-4ee5-b43e-ec2013ef43c2",
      "metadata": {
        "id": "0a165f06-6aca-4ee5-b43e-ec2013ef43c2"
      },
      "source": [
        "## Pregunta 2.2 (10 puntos)\n",
        "\n",
        "Escriba sus conclusiones con respecto a los resultados obtenidos en la Pregunta 2.1"
      ]
    },
    {
      "cell_type": "markdown",
      "id": "556a7522-c7f5-4a9f-b04d-6e11e367ea68",
      "metadata": {
        "id": "556a7522-c7f5-4a9f-b04d-6e11e367ea68"
      },
      "source": [
        "**Utilice esta celda para indicar sus conclusiones**\n",
        "\n",
        "**------------------------------------------------------------------**\n",
        "\n",
        "Para la función $f1$ dado que $sen(x)$ es diferenciable infinitas veces, no existe una cantidad de puntos que permita aproximar la integral de la función utilizando cuadratura gaussiana, por lo que no es un polinomio y el resultado de $check\\_poly$ fue -1\n",
        "\n",
        "Para las funciones $f2$ y $f4$, dado que estas si son polinomiales, se encontró el grado mayor que tienen al llamar a $check\\_poly$ donde corresponden a 15 y 5\n",
        "\n",
        "Para la función $f3$, por otra parte, la función $exp(x)$ también es diferenciable infinitas veces, por lo que no debiese poder aproximarse, pero dado que tenemos una tolerancia asociada, ocurre que encuentra un valor donde este es menor, por lo que si modificaramos la tolerancia a ser menor, aumentaría el grado del polinomio que debiese detectar, en este caso siendo 17\n",
        "\n",
        "\n",
        "\n",
        "\n",
        "**------------------------------------------------------------------**"
      ]
    },
    {
      "cell_type": "markdown",
      "id": "e79cd427-9777-45ec-b6af-b99731b81d96",
      "metadata": {
        "id": "e79cd427-9777-45ec-b6af-b99731b81d96"
      },
      "source": [
        "# Pregunta 3\n",
        "\n",
        "## Pregunta 3.1 (10 puntos)\n",
        "\n",
        "A continuación se muestra un gráfico del error relativo para las aproximaciones de la integral $I_1$ con $m$ nodos para $m = \\{2,\\dots,200\\}$. Explique lo que usted puede observar del gráfico en términos del error relativo en función de la cantidad de nodos que se utilizan para las aproximaciones."
      ]
    },
    {
      "cell_type": "code",
      "execution_count": 19,
      "id": "ad51d1ae-b3b0-4219-961c-fa37ebee0160",
      "metadata": {
        "colab": {
          "base_uri": "https://localhost:8080/",
          "height": 449
        },
        "id": "ad51d1ae-b3b0-4219-961c-fa37ebee0160",
        "outputId": "bd647bc8-a626-42fb-b3b5-6035adb18b4e"
      },
      "outputs": [
        {
          "output_type": "display_data",
          "data": {
            "text/plain": [
              "<Figure size 640x480 with 1 Axes>"
            ],
            "image/png": "[encoded data removed]"
          },
          "metadata": {}
        }
      ],
      "source": [
        "#No modificar la celda, solo ejecutar\n",
        "a,b = 0.,1.\n",
        "m_range = range(2,201)\n",
        "quad = gaussianquad_vec(f1,m_range,a,b)\n",
        "quad_diff = np.abs(np.diff(quad))/np.abs(quad[1:])\n",
        "plt.semilogy(m_range[:-1],quad_diff,'.b')\n",
        "plt.xlabel(r\"$m$\")\n",
        "plt.ylabel(r\"$\\text{Error}_{\\text{rel}}$\")\n",
        "plt.grid()\n",
        "plt.show()"
      ]
    },
    {
      "cell_type": "markdown",
      "id": "a9961bee-5cb8-4137-9783-0c1503833290",
      "metadata": {
        "id": "a9961bee-5cb8-4137-9783-0c1503833290"
      },
      "source": [
        "**Utilice esta celda para indicar su explicación**\n",
        "\n",
        "**------------------------------------------------------------------**\n",
        "\n",
        "Lo que ocurre es que en este caso, como no se puede obtener una aproximación exacta, el error relativo disminuye al aumentar el número de nodos, pero como la función no es polinomial, no se garantiza que con cuadratura gaussiana se pueda aproximar de manera exacta. Por eso ocurre también que hay mucha variación en el valor del error, en el gráfico al aumentar el número de nodos.\n",
        "\n",
        "**------------------------------------------------------------------**"
      ]
    },
    {
      "cell_type": "markdown",
      "id": "92ecc6bd-e1bb-4663-8497-dfcd5151f7ff",
      "metadata": {
        "id": "92ecc6bd-e1bb-4663-8497-dfcd5151f7ff"
      },
      "source": [
        "## Pregunta 3.2 (10 puntos)\n",
        "\n",
        "A continuación se muestra un gráfico del error relativo para las aproximaciones de la integral $I_2$ con $m$ nodos para $m = \\{2,\\dots,200\\}$. Explique lo que usted puede observar del gráfico en términos del error relativo en función de la cantidad de nodos que se utilizan para las aproximaciones."
      ]
    },
    {
      "cell_type": "code",
      "execution_count": 25,
      "id": "acd2205b-902f-4177-b6c8-7452825b4416",
      "metadata": {
        "colab": {
          "base_uri": "https://localhost:8080/",
          "height": 449
        },
        "id": "acd2205b-902f-4177-b6c8-7452825b4416",
        "outputId": "aeb96c10-e85c-410c-83a0-ffe0dab64518"
      },
      "outputs": [
        {
          "output_type": "display_data",
          "data": {
            "text/plain": [
              "<Figure size 640x480 with 1 Axes>"
            ],
            "image/png": "[encoded data removed]"
          },
          "metadata": {}
        }
      ],
      "source": [
        "#No modificar la celda, solo ejecutar\n",
        "a,b = 0.,1.\n",
        "m_range = range(2,201)\n",
        "quad = gaussianquad_vec(f2,m_range,a,b)\n",
        "quad_diff = np.abs(np.diff(quad))/np.abs(quad[1:])\n",
        "plt.semilogy(m_range[:-1],quad_diff,'.b')\n",
        "plt.xlabel(r\"$m$\")\n",
        "plt.ylabel(r\"$\\text{Error}_{\\text{rel}}$\")\n",
        "plt.grid()\n",
        "plt.show()"
      ]
    },
    {
      "cell_type": "markdown",
      "id": "c3054f77-ec2f-4067-9570-85b53f96d572",
      "metadata": {
        "id": "c3054f77-ec2f-4067-9570-85b53f96d572"
      },
      "source": [
        "**Utilice esta celda para indicar su explicación**\n",
        "\n",
        "**------------------------------------------------------------------**\n",
        "Se puede observar que al aumentar la cantidad de nodos, el error relativo se acerca a 0 en particular al valor de $10^{-16}$ que en presisión doble son valores que empieza a ocurrir pérdida de importancia, por eso se observa que después de que el error es casi 0, luego vuelve a ser un error superior pero cercano a 0. Esto ocurre porque cuadratura gaussiana aproxima de manera exacta a funciones polinomiales como es en este caso\n",
        "\n",
        "**------------------------------------------------------------------**"
      ]
    },
    {
      "cell_type": "markdown",
      "id": "6d76230b-0337-46e8-80c9-1d815325b66d",
      "metadata": {
        "id": "6d76230b-0337-46e8-80c9-1d815325b66d"
      },
      "source": [
        "**¡Ya ha llegado al final de la tarea 4! Ahora debe enviarla antes de las 14:00 hrs. del sábado 29 de junio!**"
      ]
    }
  ],
  "metadata": {
    "kernelspec": {
      "display_name": "Python 3 (ipykernel)",
      "language": "python",
      "name": "python3"
    },
    "language_info": {
      "codemirror_mode": {
        "name": "ipython",
        "version": 3
      },
      "file_extension": ".py",
      "mimetype": "text/x-python",
      "name": "python",
      "nbconvert_exporter": "python",
      "pygments_lexer": "ipython3",
      "version": "3.11.7"
    },
    "colab": {
      "provenance": []
    }
  },
  "nbformat": 4,
  "nbformat_minor": 5
}