{
  "nbformat": 4,
  "nbformat_minor": 0,
  "metadata": {
    "colab": {
      "provenance": []
    },
    "kernelspec": {
      "name": "python3",
      "display_name": "Python 3"
    },
    "language_info": {
      "name": "python"
    }
  },
  "cells": [
    {
      "cell_type": "code",
      "execution_count": 2,
      "metadata": {
        "id": "A-bxZTtkDN3B"
      },
      "outputs": [],
      "source": [
        "#@title imports\n",
        "import numpy as np\n",
        "import matplotlib.pyplot as plt"
      ]
    },
    {
      "cell_type": "markdown",
      "source": [
        "Tenemos que encontrar raices de la siguiente función:\n",
        "$f(x)=x^{3}-6x^{2}+11x-6$\n",
        "es decir buscamos $x$'s tales que $f(x)=0$, sin embargo, necesitamos una función para hacer iteración de punto fijo, osea, una función del tipo $g(x)=x$, por lo que tenemos que adaptar la función original:\n",
        "\n",
        "\n",
        "*   Opción 1:\n",
        "\n",
        "    $f(x)=x^{3}-6x^{2}+11x-6=0$\n",
        "\n",
        "    $x^{3}-6x^{2}-6=-11x$\n",
        "\n",
        "    $\\frac{x^{3}-6x^{2}-6}{-11}=x$\n",
        "\n",
        "    $g(x)=x=\\frac{6x^{2}+6-x^{3}}{11}$\n",
        "\n",
        "*   Opción 2:\n",
        "\n",
        "    $f(x)=x^{3}-6x^{2}+11x-6=0$\n",
        "\n",
        "    $x^{3}+11x-6=6x^{2}$\n",
        "\n",
        "    $g(x)=x=\\frac{x^{3}+11x-6}{6x}$\n",
        "\n",
        "*   Opción 3:\n",
        "\n",
        "    $f(x)=x^{3}-6x^{2}+11x-6=0$\n",
        "\n",
        "    $x^{3}+11x-6=6x^{2}$\n",
        "\n",
        "    $\\frac{x^{3}+11x-6}{6}=x^{2}$\n",
        "\n",
        "    $g(x)=x=\\sqrt{\\frac{x^{3}+11x-6}{6}}$\n",
        "\n",
        "*   Opcion 4:\n",
        "\n",
        "    $f(x)=x^{3}-6x^{2}+11x-6=0$\n",
        "\n",
        "    $6x^{2}-11x+6=x^{3}$\n",
        "\n",
        "    $g(x) = x =\\sqrt[3]{6x^{2} - 11x + 6}$\n",
        "\n",
        "*Notar que las opciones 2 y 3 son validas solo porque sabemos que las raices son todas mayor a 0.*\n",
        "\n",
        "Debemos buscar en el intervalo $(0,5)$ pero sería positivo primero visualizar la función."
      ],
      "metadata": {
        "id": "XYJrIiWEKqcD"
      }
    },
    {
      "cell_type": "code",
      "source": [
        "#@title grafica de f(x)\n",
        "f = lambda x: np.power(x,3) - 6*np.power(x,2) + 11*x - 6\n",
        "\n",
        "x=np.linspace(0,5,100)\n",
        "y=f(x)\n",
        "plt.plot(x,y, label='f(x)')\n",
        "plt.plot(x,[0]*len(x)) #una recta horizontal fijada en y=0\n",
        "plt.plot([0]*len(y),y) #una recta vertical fijada en x=0\n",
        "\n",
        "plt.grid(True)\n",
        "plt.ylabel('eje Y')\n",
        "plt.xlabel('eje X')\n",
        "plt.legend()\n",
        "plt.show()"
      ],
      "metadata": {
        "colab": {
          "base_uri": "https://localhost:8080/",
          "height": 449
        },
        "id": "O47dsUF5Piy3",
        "outputId": "460f9aca-d576-4ee9-d788-d4a6fcdaee97"
      },
      "execution_count": 3,
      "outputs": [
        {
          "output_type": "display_data",
          "data": {
            "text/plain": [
              "<Figure size 640x480 with 1 Axes>"
            ],
            "image/png": "[encoded data removed]"
          },
          "metadata": {}
        }
      ]
    },
    {
      "cell_type": "code",
      "source": [
        "#@title ipf\n",
        "def ipf(g,r, iters, prints=False):\n",
        "  for iter in np.arange(iters):\n",
        "    r=g(r)\n",
        "    if(prints):\n",
        "      print(iter, r)\n",
        "  return r"
      ],
      "metadata": {
        "id": "RaJWt_g38k-z"
      },
      "execution_count": 4,
      "outputs": []
    },
    {
      "cell_type": "code",
      "source": [
        "# Opción 1\n",
        "def g1(x):\n",
        "    return (6 * x**2 + 6 - x**3) / 11\n",
        "\n",
        "# Opción 2\n",
        "def g2(x):\n",
        "    return (x**3 + 11 * x - 6) / (6 * x)\n",
        "\n",
        "# Opción 3\n",
        "def g3(x):\n",
        "    return np.sqrt((x**3 + 11 * x - 6) / 6)\n",
        "\n",
        "# Opción 4\n",
        "def g4(x):\n",
        "    return np.cbrt(6 * x**2 - 11 * x + 6)"
      ],
      "metadata": {
        "id": "pzISMZx0Q9pp"
      },
      "execution_count": 5,
      "outputs": []
    },
    {
      "cell_type": "code",
      "source": [
        "#@title grafica de la raices encontradas\n",
        "x=np.linspace(0,5,100)\n",
        "y=f(x)\n",
        "s_point = 2.5\n",
        "iters = 25\n",
        "plt.plot(x,y, label='f(x)')\n",
        "\n",
        "plt.plot(ipf(g1,s_point,iters),f(ipf(g1,s_point,iters)), 'go', label='(ipf(g1,1),f(ipf(g1,1)))')\n",
        "plt.plot(ipf(g2,s_point,iters),f(ipf(g2,s_point,iters)), 'bo', label='(ipf(g2,1),f(ipf(g2,1)))')\n",
        "plt.plot(ipf(g3,s_point,iters),f(ipf(g3,s_point,iters)), 'yo', label='(ipf(g3,1),f(ipf(g3,1)))')\n",
        "plt.plot(ipf(g4,s_point,iters),f(ipf(g4,s_point,iters)), 'ro', label='(ipf(g4,1),f(ipf(g4,1)))')\n",
        "\n",
        "#graficando los ejes cartesianos\n",
        "plt.plot(x,[0]*len(x))\n",
        "plt.plot([0]*len(y),y)\n",
        "\n",
        "plt.grid(True)\n",
        "plt.ylabel('eje Y')\n",
        "plt.xlabel('eje X')\n",
        "plt.legend()\n",
        "plt.show()"
      ],
      "metadata": {
        "colab": {
          "base_uri": "https://localhost:8080/",
          "height": 449
        },
        "id": "LSw2xt-1T1W9",
        "outputId": "ee9c4e83-0553-4cc9-d399-2be6e38a7fa8"
      },
      "execution_count": 6,
      "outputs": [
        {
          "output_type": "display_data",
          "data": {
            "text/plain": [
              "<Figure size 640x480 with 1 Axes>"
            ],
            "image/png": "[encoded data removed]"
          },
          "metadata": {}
        }
      ]
    },
    {
      "cell_type": "code",
      "source": [
        "ipf(g1, 2.5, 15, prints=True)"
      ],
      "metadata": {
        "colab": {
          "base_uri": "https://localhost:8080/"
        },
        "id": "tvBF7p0ZZnm6",
        "outputId": "3bef8d64-eb56-4478-bf6f-8617cfa70e13"
      },
      "execution_count": 7,
      "outputs": [
        {
          "output_type": "stream",
          "name": "stdout",
          "text": [
            "0 2.534090909090909\n",
            "1 2.568794529275664\n",
            "2 2.6037739854974267\n",
            "3 2.638653293685399\n",
            "4 2.6730315342945654\n",
            "5 2.7065013040125026\n",
            "6 2.7386699723507477\n",
            "7 2.769181519351152\n",
            "8 2.7977363197089833\n",
            "9 2.8241063469154466\n",
            "10 2.8481439354560796\n",
            "11 2.8697833151889314\n",
            "12 2.889035335084756\n",
            "13 2.905976806409867\n",
            "14 2.920736488532503\n"
          ]
        },
        {
          "output_type": "execute_result",
          "data": {
            "text/plain": [
              "2.920736488532503"
            ]
          },
          "metadata": {},
          "execution_count": 7
        }
      ]
    },
    {
      "cell_type": "code",
      "source": [
        "(2.920736488532503-2.905976806409867)/(2.905976806409867-2.889035335084756)"
      ],
      "metadata": {
        "colab": {
          "base_uri": "https://localhost:8080/"
        },
        "id": "cATfX7bWMdHB",
        "outputId": "e7e8e18c-bdfc-4344-f1a7-9b0c69631df2"
      },
      "execution_count": 8,
      "outputs": [
        {
          "output_type": "execute_result",
          "data": {
            "text/plain": [
              "0.8712160732320079"
            ]
          },
          "metadata": {},
          "execution_count": 8
        }
      ]
    },
    {
      "cell_type": "code",
      "source": [
        "print(f'r1={ipf(g1,s_point,iters)}, r2={ipf(g2,s_point,iters)}, r3={ipf(g3,s_point,iters)}, r4={ipf(g4,s_point,iters)}')"
      ],
      "metadata": {
        "colab": {
          "base_uri": "https://localhost:8080/"
        },
        "id": "QPWrbxg43rwc",
        "outputId": "0af61f58-ff06-45fb-a16d-d8306ab9c4b2"
      },
      "execution_count": 9,
      "outputs": [
        {
          "output_type": "stream",
          "name": "stdout",
          "text": [
            "r1=2.987869496232092, r2=2.085527393829686, r3=2.229564885273353, r4=2.876710278390126\n"
          ]
        }
      ]
    },
    {
      "cell_type": "markdown",
      "source": [
        "g1 y g4 encontraron raices cercanas a 2 y g2 con g3 encontraron a raices cercanas a 3.\n",
        "\n",
        "Podemos calcular sus tasas de convergencia de forma teórica:\n",
        "\n",
        "\n",
        "$g_{1}'(x)=\\frac{\\partial}{\\partial x}\\frac{6x^{2}+6-x^{3}}{11}=\\frac{12x-3x^{2}}{11}$\n",
        "\n",
        "$g_{2}'(x)=\\frac{\\partial}{\\partial x}\\frac{x^{3}+11x-6}{6x}=\\frac{x^{3}+3}{3x^{2}}$\n",
        "\n",
        "$g_{3}'(x)=\\frac{\\partial}{\\partial x}\\sqrt{\\frac{x^{3}+11x-6}{6}}=\\frac{3x^{2}+11}{12}\\sqrt{\\frac{6}{x^3+11x-6}}$\n",
        "\n",
        "$g_{4}'(x)=\\frac{\\partial}{\\partial x}\\sqrt[3]{6x^{2} - 11x + 6}=\\frac{12x - 11}{3(6x^2 - 11x + 6)^{\\frac{2}{3}}}$\n",
        "\n"
      ],
      "metadata": {
        "id": "gkkbe1tN3leO"
      }
    },
    {
      "cell_type": "code",
      "source": [
        "def gp1(x):\n",
        "    return (12 * x - 3 * x**2) / 11\n",
        "\n",
        "def gp2(x):\n",
        "    return (x**3 + 3) / (3 * x**2)\n",
        "\n",
        "def gp3(x):\n",
        "    return ((3 * x**2 + 11) / 12) * np.sqrt(6 / (x**3 + 11 * x - 6))\n",
        "\n",
        "def gp4(x):\n",
        "    return (12 * x - 11) / (3 * ( (6 * x**2 - 11 * x + 6)**(2/3) ))\n",
        "\n",
        "print(f'S1={abs(gp1(ipf(g1,s_point,iters)))}, S2={abs(gp2(ipf(g2,s_point,iters)))}, S3={abs(gp3(ipf(g3,s_point,iters)))}, S4={abs(gp4(ipf(g4,s_point,iters)))}')"
      ],
      "metadata": {
        "colab": {
          "base_uri": "https://localhost:8080/"
        },
        "id": "wz-4Yob_7Rz6",
        "outputId": "7543ec8c-a453-484f-b0d0-0187b3282e0b"
      },
      "execution_count": 10,
      "outputs": [
        {
          "output_type": "stream",
          "name": "stdout",
          "text": [
            "S1=0.8247583250220416, S2=0.9250912724170701, S3=0.9720830579157022, S4=0.9420562565942086\n"
          ]
        }
      ]
    },
    {
      "cell_type": "code",
      "source": [
        "#@title Metodo de newton\n",
        "def newton(f,fp,r, iters, prints=False):\n",
        "  for iter in np.arange(iters):\n",
        "    r=r-f(r)/fp(r)\n",
        "    if(prints):\n",
        "      print(iter, r)\n",
        "  return r"
      ],
      "metadata": {
        "id": "z9BIUNzu7yBG"
      },
      "execution_count": 11,
      "outputs": []
    },
    {
      "cell_type": "code",
      "source": [
        "f = lambda x: np.power(x,3) - 6*np.power(x,2) + 11*x - 6\n",
        "fp = lambda x: 3*np.power(x,2) - 12*x + 11"
      ],
      "metadata": {
        "id": "NLn7xBrYhcCt"
      },
      "execution_count": 12,
      "outputs": []
    },
    {
      "cell_type": "code",
      "source": [
        "r=newton(f,fp, 0, 5, prints=True)"
      ],
      "metadata": {
        "colab": {
          "base_uri": "https://localhost:8080/"
        },
        "id": "gZ7dA_bw-vxA",
        "outputId": "7138a0c7-a367-4cb5-830b-300c6a5123d4"
      },
      "execution_count": 17,
      "outputs": [
        {
          "output_type": "stream",
          "name": "stdout",
          "text": [
            "0 0.5454545454545454\n",
            "1 0.8489532106224531\n",
            "2 0.9746740710233017\n",
            "3 0.9990915480569483\n",
            "4 0.9999987646910549\n"
          ]
        }
      ]
    },
    {
      "cell_type": "code",
      "source": [
        "r=newton(f,fp, 2.3, 5, prints=True)"
      ],
      "metadata": {
        "colab": {
          "base_uri": "https://localhost:8080/"
        },
        "id": "HcAeVDlC-0cN",
        "outputId": "1d40b73c-394d-463f-eed6-f7d942a4be0f"
      },
      "execution_count": 14,
      "outputs": [
        {
          "output_type": "stream",
          "name": "stdout",
          "text": [
            "0 1.9260273972602744\n",
            "1 2.0008230593781526\n",
            "2 1.999999998884877\n",
            "3 1.9999999999999991\n",
            "4 1.9999999999999991\n"
          ]
        }
      ]
    },
    {
      "cell_type": "code",
      "source": [
        "r=newton(f,fp, 4, 5, prints=True)"
      ],
      "metadata": {
        "colab": {
          "base_uri": "https://localhost:8080/"
        },
        "id": "JQ98QoXs-3OW",
        "outputId": "1696c8bb-bcc6-43f6-d288-a235db8e219a"
      },
      "execution_count": 15,
      "outputs": [
        {
          "output_type": "stream",
          "name": "stdout",
          "text": [
            "0 3.4545454545454546\n",
            "1 3.1510467893775456\n",
            "2 3.025325928976698\n",
            "3 3.000908451943051\n",
            "4 3.000001235308941\n"
          ]
        }
      ]
    },
    {
      "cell_type": "code",
      "source": [
        "r=newton(f,fp, 10, 10, prints=True)"
      ],
      "metadata": {
        "colab": {
          "base_uri": "https://localhost:8080/"
        },
        "id": "V5TiZRak-5oT",
        "outputId": "5be9e215-15e6-48d8-f5f3-e3c2317a407a"
      },
      "execution_count": 16,
      "outputs": [
        {
          "output_type": "stream",
          "name": "stdout",
          "text": [
            "0 7.361256544502618\n",
            "1 5.616107013954425\n",
            "2 4.473798972713952\n",
            "3 3.7442045071499304\n",
            "4 3.3058864364337897\n",
            "5 3.082103862795865\n",
            "6 3.008488407876976\n",
            "7 3.0001059809356567\n",
            "8 3.000000016843774\n",
            "9 3.0000000000000004\n"
          ]
        }
      ]
    },
    {
      "cell_type": "markdown",
      "source": [
        "el metodo de newton tiene convergencia **cuadrática**:\n",
        "\n",
        "$M=\\frac{f''(r)}{2f'(r)}$"
      ],
      "metadata": {
        "id": "N4TiAyut4eJs"
      }
    },
    {
      "cell_type": "markdown",
      "source": [
        "$f(x)=x^{3}-6x^{2}+11x-6$\n",
        "\n",
        "$f'(x)=3x^{2}-12x+11$\n",
        "\n",
        "$f''(x)=6x-12$"
      ],
      "metadata": {
        "id": "eZV1M83-_G4n"
      }
    }
  ]
}