{
  "nbformat": 4,
  "nbformat_minor": 0,
  "metadata": {
    "colab": {
      "provenance": []
    },
    "kernelspec": {
      "name": "python3",
      "display_name": "Python 3"
    },
    "language_info": {
      "name": "python"
    }
  },
  "cells": [
    {
      "cell_type": "code",
      "execution_count": null,
      "metadata": {
        "id": "fDuwFIC8Ym4Y"
      },
      "outputs": [],
      "source": [
        "import numpy as np"
      ]
    },
    {
      "cell_type": "code",
      "source": [
        "def find_critical_point_of_Sn(n, j):\n",
        "    x0 = 1\n",
        "\n",
        "    # np.arange(n) = [0, 1, 2, ..., n-1]\n",
        "    # np.arange(start, stop) = [start, start+1, start+2, ..., stop-1]\n",
        "    k = np.arange(1, n+1)  # [1, 2, 3, ..., n]\n",
        "\n",
        "    # k*x = [1, 2, 3, ..., n] * x\n",
        "    #     = [x, 2x, 3x, ..., nx]\n",
        "    #\n",
        "    # np.sin(k*x) = [sin(x), sin(2x), sin(3x), ..., sin(nx)]\n",
        "    #\n",
        "    # np.sum(np.sin(k*x)) = sin(x) + sin(2x) + sin(3x) + ... + sin(nx)\n",
        "    f = lambda x: -np.sum(np.sin(k*x))\n",
        "\n",
        "    # np.cos(k*x) = [cos(x), cos(2x), cos(3x), ..., cos(nx)]\n",
        "    #\n",
        "    # k * np.cos(k*x) = [1, 2, 3, ..., n] * [cos(x), cos(2x), cos(3x), ..., cos(nx)]\n",
        "    #                 = [cos(x), 2cos(2x), 3cos(3x), ..., ncos(nx)]\n",
        "    #\n",
        "    # np.sum(k * np.cos(k*x)) = cos(x) + 2cos(2x) + 3cos(3x) + ... + ncos(nx)\n",
        "    fp = lambda x: -np.sum(k * np.cos(k*x))\n",
        "\n",
        "    # Newton\n",
        "    xi = x0\n",
        "    xim1 = 0  # placeholder para xi anterior\n",
        "    xim2 = 0  # placeholder para xi anterior al anterior\n",
        "    for _ in range(j):\n",
        "        xim2 = xim1\n",
        "        xim1 = xi\n",
        "        xi = xi - f(xi) / fp(xi)\n",
        "\n",
        "    r = xi\n",
        "\n",
        "    ei = abs(xi - xim1)  # error actual\n",
        "    eim1 = abs(xim1 - xim2)  # error anterior\n",
        "    S = ei / eim1\n",
        "    M = ei / (eim1 * eim1)\n",
        "\n",
        "    return r, S, M"
      ],
      "metadata": {
        "id": "KUF2xTEkYptg"
      },
      "execution_count": 13,
      "outputs": []
    },
    {
      "cell_type": "code",
      "source": [
        "find_critical_point_of_Sn(10, 5)"
      ],
      "metadata": {
        "colab": {
          "base_uri": "https://localhost:8080/"
        },
        "id": "RGMgmzHRkT8-",
        "outputId": "86f40bf4-6bb3-48bc-abec-1526ca5ec0f3"
      },
      "execution_count": 14,
      "outputs": [
        {
          "output_type": "execute_result",
          "data": {
            "text/plain": [
              "(np.float64(1.1423973285781066),\n",
              " np.float64(0.00019806940545502341),\n",
              " np.float64(8.557668321962705))"
            ]
          },
          "metadata": {},
          "execution_count": 14
        }
      ]
    },
    {
      "cell_type": "code",
      "source": [],
      "metadata": {
        "id": "VYa-jCvLkVWa"
      },
      "execution_count": null,
      "outputs": []
    }
  ]
}