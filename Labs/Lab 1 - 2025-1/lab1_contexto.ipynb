{
  "cells": [
    {
      "cell_type": "markdown",
      "metadata": {
        "id": "gc4WPR3T23OC"
      },
      "source": [
        "# INF285 - Computación Científica\n",
        "# Laboratorio 1 - Contexto\n",
        "## 26 de marzo de 2025"
      ]
    },
    {
      "cell_type": "markdown",
      "metadata": {
        "id": "r_1P-X0G23OC"
      },
      "source": [
        "Ingenieros astroinformáticos de la Universidad Técnica Federico Santa María (USM) forman parte de un equipo especializado encargado del diseño, implementación y optimización de los sistemas computacionales a bordo de una nave espacial de última generación. Su trabajo se centra en garantizar la precisión y eficiencia de los cálculos realizados bajo el estándar de punto flotante IEEE 754, un pilar fundamental para las operaciones numéricas en entornos críticos como el espacio. Entre sus responsabilidades principales está el desarrollo del sistema de apuntado de las armas gaussianas integradas en la nave, un componente clave para la defensa y el combate en misiones interestelares.\n",
        "\n",
        "El sistema de apuntado depende de dos aspectos cruciales en los que estos ingenieros han enfocado sus esfuerzos. Primero, la correcta implementación del estándar IEEE 754 asegura que los cálculos de trayectorias y ajustes en tiempo real se realicen sin errores significativos de redondeo, algo vital cuando se opera con números extremadamente grandes o pequeños, como las distancias astronómicas o las velocidades relativistas. Segundo, el uso de métodos de diferencias finitas para aproximar la velocidad de las naves objetivo, basándose en datos provenientes de sensores de alta precisión. Este cálculo, que actúa como una derivada numérica, estima la tasa de cambio en la posición de los objetivos y es esencial para predecir su movimiento. Sin embargo, el equipo también tuvo que abordar el problema de la pérdida de importancia (o cancelación catastrófica), un fenómeno que ocurre al restar valores muy cercanos en punto flotante, lo que puede introducir errores en las predicciones y afectar la precisión del apuntado.\n",
        "\n",
        "Por último, las armas gaussianas, que disparan pulsos electromagnéticos concentrados siguiendo una distribución gaussiana, requieren una calibración extremadamente precisa. Los ingenieros han optimizado los algoritmos para ajustar la dispersión y el enfoque del arma, integrando los datos de velocidad aproximada con las correcciones en tiempo real del sistema de sensores. Este proceso no solo asegura que los disparos alcancen su objetivo con exactitud milimétrica, sino que también minimiza el consumo energético en un entorno donde cada recurso es crítico.\n",
        "\n",
        "En resumen, este equipo de astroinformáticos no solo ha enfrentado desafíos teóricos relacionados con el estándar IEEE 754 y las diferencias finitas, sino que ha aplicado estos conceptos a un problema práctico de ingenología espacial: el desarrollo de un sistema de armamento avanzado que combina precisión computacional y física avanzada para proteger la nave en el vasto y hostil entorno del espacio.\n",
        "\n",
        "<p align=\"center\">\n",
        "  <img src=\"nave.png\" alt=\"drawing\" style=\"margin:auto;width:400px;\"/>\n",
        "</p>"
      ]
    },
    {
      "cell_type": "markdown",
      "metadata": {
        "id": "9S0vk5BG23OD"
      },
      "source": [
        "## Ejemplo 1"
      ]
    },
    {
      "cell_type": "markdown",
      "metadata": {
        "id": "vRv1bbF023OD"
      },
      "source": [
        "Los ingenieros astroinformáticos de la USM están utilizando una función $f(k)$ para calibrar la intensidad de un pulso gaussiano en el arma de la nave, pero esta función está causando errores al usar *doble precisión*, ya que a medida que aumenta la precisión, llega un punto en el que la función retorna $0$.\n",
        "\n",
        "$$ f(k) = \\sqrt{1 + 4k} - 1 $$"
      ]
    },
    {
      "cell_type": "markdown",
      "metadata": {
        "id": "obxAZqst23OD"
      },
      "source": [
        "Dado esto, inicialmente los ingenieros desean obtener para qué valor de $k$, la función $f(k)$ retorna 0."
      ]
    },
    {
      "cell_type": "code",
      "execution_count": 2,
      "metadata": {
        "colab": {
          "base_uri": "https://localhost:8080/"
        },
        "id": "pqQUsdco23OD",
        "outputId": "17b06e7a-9f36-450c-c04b-239cf22ccdc2"
      },
      "outputs": [
        {
          "name": "stdout",
          "output_type": "stream",
          "text": [
            "Requirement already satisfied: numpy in c:\\python312\\lib\\site-packages (2.1.3)\n"
          ]
        },
        {
          "name": "stderr",
          "output_type": "stream",
          "text": [
            "\n",
            "[notice] A new release of pip is available: 24.3.1 -> 25.0.1\n",
            "[notice] To update, run: python.exe -m pip install --upgrade pip\n"
          ]
        },
        {
          "name": "stdout",
          "output_type": "stream",
          "text": [
            "Requirement already satisfied: ipywidgets in c:\\python312\\lib\\site-packages (8.1.5)\n",
            "Requirement already satisfied: comm>=0.1.3 in c:\\users\\etrtp\\appdata\\roaming\\python\\python312\\site-packages (from ipywidgets) (0.2.2)\n",
            "Requirement already satisfied: ipython>=6.1.0 in c:\\users\\etrtp\\appdata\\roaming\\python\\python312\\site-packages (from ipywidgets) (8.30.0)\n",
            "Requirement already satisfied: traitlets>=4.3.1 in c:\\users\\etrtp\\appdata\\roaming\\python\\python312\\site-packages (from ipywidgets) (5.14.3)\n",
            "Requirement already satisfied: widgetsnbextension~=4.0.12 in c:\\python312\\lib\\site-packages (from ipywidgets) (4.0.13)\n",
            "Requirement already satisfied: jupyterlab-widgets~=3.0.12 in c:\\python312\\lib\\site-packages (from ipywidgets) (3.0.13)\n",
            "Requirement already satisfied: colorama in c:\\python312\\lib\\site-packages (from ipython>=6.1.0->ipywidgets) (0.4.6)\n",
            "Requirement already satisfied: decorator in c:\\users\\etrtp\\appdata\\roaming\\python\\python312\\site-packages (from ipython>=6.1.0->ipywidgets) (5.1.1)\n",
            "Requirement already satisfied: jedi>=0.16 in c:\\users\\etrtp\\appdata\\roaming\\python\\python312\\site-packages (from ipython>=6.1.0->ipywidgets) (0.19.2)\n",
            "Requirement already satisfied: matplotlib-inline in c:\\users\\etrtp\\appdata\\roaming\\python\\python312\\site-packages (from ipython>=6.1.0->ipywidgets) (0.1.7)\n",
            "Requirement already satisfied: prompt_toolkit<3.1.0,>=3.0.41 in c:\\users\\etrtp\\appdata\\roaming\\python\\python312\\site-packages (from ipython>=6.1.0->ipywidgets) (3.0.48)\n",
            "Requirement already satisfied: pygments>=2.4.0 in c:\\users\\etrtp\\appdata\\roaming\\python\\python312\\site-packages (from ipython>=6.1.0->ipywidgets) (2.18.0)\n",
            "Requirement already satisfied: stack_data in c:\\users\\etrtp\\appdata\\roaming\\python\\python312\\site-packages (from ipython>=6.1.0->ipywidgets) (0.6.3)\n",
            "Requirement already satisfied: parso<0.9.0,>=0.8.4 in c:\\users\\etrtp\\appdata\\roaming\\python\\python312\\site-packages (from jedi>=0.16->ipython>=6.1.0->ipywidgets) (0.8.4)\n",
            "Requirement already satisfied: wcwidth in c:\\users\\etrtp\\appdata\\roaming\\python\\python312\\site-packages (from prompt_toolkit<3.1.0,>=3.0.41->ipython>=6.1.0->ipywidgets) (0.2.13)\n",
            "Requirement already satisfied: executing>=1.2.0 in c:\\users\\etrtp\\appdata\\roaming\\python\\python312\\site-packages (from stack_data->ipython>=6.1.0->ipywidgets) (2.1.0)\n",
            "Requirement already satisfied: asttokens>=2.1.0 in c:\\users\\etrtp\\appdata\\roaming\\python\\python312\\site-packages (from stack_data->ipython>=6.1.0->ipywidgets) (3.0.0)\n",
            "Requirement already satisfied: pure-eval in c:\\users\\etrtp\\appdata\\roaming\\python\\python312\\site-packages (from stack_data->ipython>=6.1.0->ipywidgets) (0.2.3)\n"
          ]
        },
        {
          "name": "stderr",
          "output_type": "stream",
          "text": [
            "\n",
            "[notice] A new release of pip is available: 24.3.1 -> 25.0.1\n",
            "[notice] To update, run: python.exe -m pip install --upgrade pip\n"
          ]
        }
      ],
      "source": [
        "#Borrar esta celda despues de ejecutarla\n",
        "!pip install numpy\n",
        "!pip install ipywidgets"
      ]
    },
    {
      "cell_type": "code",
      "execution_count": 3,
      "metadata": {
        "id": "ne4wX91G23OD"
      },
      "outputs": [],
      "source": [
        "import numpy as np\n",
        "import matplotlib.pyplot as plt\n",
        "import ipywidgets as widgets\n",
        "from ipywidgets import interact\n",
        "from IPython.display import display"
      ]
    },
    {
      "cell_type": "code",
      "execution_count": 4,
      "metadata": {
        "id": "y8DTMd2I23OD"
      },
      "outputs": [],
      "source": [
        "f = lambda k: np.sqrt(1 + 4*k) - 1"
      ]
    },
    {
      "cell_type": "code",
      "execution_count": 5,
      "metadata": {
        "colab": {
          "base_uri": "https://localhost:8080/",
          "height": 419
        },
        "id": "ZZVbY9Sa23OD",
        "outputId": "ba3ae295-6afb-403a-d4ee-8f9a0cb443e1"
      },
      "outputs": [
        {
          "data": {
            "image/png": "[encoded data removed]",
            "text/plain": [
              "<Figure size 800x400 with 1 Axes>"
            ]
          },
          "metadata": {},
          "output_type": "display_data"
        }
      ],
      "source": [
        "k = np.logspace(-60, -30, num=1000, base=2)\n",
        "\n",
        "plt.figure(figsize=(8, 4))\n",
        "plt.loglog(k, f(k), lw=1)\n",
        "plt.xscale('log', base=2)\n",
        "\n",
        "plt.xlabel(\"k-axis\", fontsize=12)\n",
        "plt.ylabel(\"y-axis\", fontsize=12)\n",
        "plt.title(\"Scientific Computing Plot\")\n",
        "\n",
        "plt.grid(True, which=\"both\", linestyle=\"--\", linewidth=0.5)\n",
        "plt.show()"
      ]
    },
    {
      "cell_type": "markdown",
      "metadata": {
        "id": "W-JVrm_T23OE"
      },
      "source": [
        "Al analizar el gráfico y la función con mayor detalle, se dan cuenta de que, para que la función de $0$ en *doble precisión*, el término $\\sqrt{1 + 4k} = 1$.\n",
        "\n",
        "Sabemos que $\\epsilon_{mach}$ es el valor más pequeño que, cuando se suma a $1$, produce un número mayor que $1$. Entonces, para que no se le pueda sumar un valor a $1$, este debe ser menor que $\\epsilon_{mach}$, el cual en *doble precisión* es $2^{-52}$. Por lo tanto, el valor de $k$ que necesitamos sería $2^{-53}$. Evaluemos $f(k=2^{-53})$:"
      ]
    },
    {
      "cell_type": "code",
      "execution_count": 6,
      "metadata": {
        "colab": {
          "base_uri": "https://localhost:8080/"
        },
        "id": "9T3xMV_123OE",
        "outputId": "98f21c91-636c-4168-d622-56b88a67654d"
      },
      "outputs": [
        {
          "data": {
            "text/plain": [
              "np.float64(2.220446049250313e-16)"
            ]
          },
          "execution_count": 6,
          "metadata": {},
          "output_type": "execute_result"
        }
      ],
      "source": [
        "f(2**-53)"
      ]
    },
    {
      "cell_type": "markdown",
      "metadata": {
        "id": "qojbCFVP23OE"
      },
      "source": [
        "Como podemos observar, $f(k=2^{-53}) \\neq 0$. Esto se debe a que, en la función, $k$ está siendo multiplicado por $4$, que es una potencia de $2$. Por lo tanto nuestro valor de $k$ debe ser aún menor.\n",
        "\n",
        "$$ 4 \\cdot k = 2^{-53} $$\n",
        "$$ k = \\frac{2^{-53}}{4} $$\n",
        "$$ k = \\frac{2^{-53}}{2^{2}} $$\n",
        "$$ k = 2^{-55} $$\n",
        "\n",
        "Comprobemos evaluando $f(k=2^{-55})$:"
      ]
    },
    {
      "cell_type": "code",
      "execution_count": 7,
      "metadata": {
        "colab": {
          "base_uri": "https://localhost:8080/"
        },
        "id": "8JLfkCyL23OE",
        "outputId": "8627f158-6b6d-49eb-b8c5-92c4980f077c"
      },
      "outputs": [
        {
          "data": {
            "text/plain": [
              "np.float64(0.0)"
            ]
          },
          "execution_count": 7,
          "metadata": {},
          "output_type": "execute_result"
        }
      ],
      "source": [
        "f(2**-55)"
      ]
    },
    {
      "cell_type": "markdown",
      "metadata": {
        "id": "y-IkLuHD23OE"
      },
      "source": [
        "Efectivamente, para un $k = 2^{-55}$ la función $f(k)$ da $0$.\n",
        "\n",
        "Ahora requerimos solucionar este problema, ya que no queremos ser incapaces de calibrar la intensidad de un pulso gaussiano en el arma de la nave. Nos damos cuenta de que el gran problema de la función es la resta, que es la causante del error de cancelación. Para eliminar esta resta, uno podría pensar en racionalizar la función:"
      ]
    },
    {
      "cell_type": "markdown",
      "metadata": {
        "id": "uMmGF9WN23OE"
      },
      "source": [
        "$$ f(k) = \\sqrt{1 + 4k} - 1 \\cdot \\frac{\\sqrt{1 + 4k} + 1}{\\sqrt{1 + 4k} + 1} $$\n",
        "$$ f(k) = \\frac{1 + 4k - 1}{\\sqrt{1 + 4k} + 1} $$\n",
        "$$ f(k) = \\frac{4k}{\\sqrt{1 + 4k} + 1} $$\n",
        "\n",
        "Evaluemos la nueva función:"
      ]
    },
    {
      "cell_type": "code",
      "execution_count": 8,
      "metadata": {
        "colab": {
          "base_uri": "https://localhost:8080/"
        },
        "id": "YG2pt-Rd23OE",
        "outputId": "12ee402b-eec8-4fc2-b564-f0d9f726eaa7"
      },
      "outputs": [
        {
          "data": {
            "text/plain": [
              "np.float64(5.551115123125783e-17)"
            ]
          },
          "execution_count": 8,
          "metadata": {},
          "output_type": "execute_result"
        }
      ],
      "source": [
        "f_fix = lambda k: 4*k/(np.sqrt(1 + 4*k) + 1)\n",
        "f_fix(2**-55)"
      ]
    },
    {
      "cell_type": "markdown",
      "metadata": {
        "id": "jQ_ttHnk23OE"
      },
      "source": [
        "Por lo tanto, hemos solucionado el problema de pérdida de importancia y error de cancelación."
      ]
    },
    {
      "cell_type": "markdown",
      "metadata": {
        "id": "VgqJGvPE23OE"
      },
      "source": [
        "## Ejemplo 2"
      ]
    },
    {
      "cell_type": "markdown",
      "metadata": {
        "id": "5sz9Upqz23OE"
      },
      "source": [
        "Los ingenieros astroinformáticos de la USM están calibrando el sistema de apuntado de las armas gaussianas y necesitan analizar cómo se representan diferentes distancias en distintas versiones de *estándar de punto flotante*. Para garantizar la robustez del sistema, deben estudiar las diferentes cantidades de bits que puede tener el *exponente* en *IEEE 754*, además de visualizar todos los casos especiales. Este análisis les permitirá optimizar el sistema para manejar con precisión tanto distancias grandes como pequeñas, evitando fallos en el apuntado del arma gaussiana durante misiones críticas."
      ]
    },
    {
      "cell_type": "code",
      "execution_count": 9,
      "metadata": {
        "colab": {
          "base_uri": "https://localhost:8080/",
          "height": 969,
          "referenced_widgets": [
            "dd274d9a977f4914911490f25e3220ba",
            "8bcaa1e3524545be961c6e186320aa61",
            "75160b28aa09473cbd2c2f7e29a20cbf",
            "ceb9e89e01814090add70894f4e31536",
            "3c0c7a49bb7046208fc5f7ce51c90839",
            "92cf6bd0f9f545efad2fb497ccd92d0a",
            "87554ef93d8d4b2592a7cb9922bca468"
          ]
        },
        "id": "vl5BXMN923OE",
        "outputId": "4a6fc884-d7c2-40f8-b7b9-a7a238e8b18e"
      },
      "outputs": [
        {
          "data": {
            "application/vnd.jupyter.widget-view+json": {
              "model_id": "7c2aad553b164edcb7414d35eae5a3b2",
              "version_major": 2,
              "version_minor": 0
            },
            "text/plain": [
              "interactive(children=(IntSlider(value=8, description='exp_bits', max=11, min=3), Output()), _dom_classes=('wid…"
            ]
          },
          "metadata": {},
          "output_type": "display_data"
        },
        {
          "data": {
            "text/plain": [
              "<function __main__.plot_exponent_mapping(exp_bits)>"
            ]
          },
          "execution_count": 9,
          "metadata": {},
          "output_type": "execute_result"
        }
      ],
      "source": [
        "def plot_exponent_mapping(exp_bits):\n",
        "\n",
        "    max_val = np.power(2, exp_bits) - 1\n",
        "    bias = np.power(2, exp_bits - 1) - 1\n",
        "\n",
        "    almacenados = np.arange(1, max_val)\n",
        "    utilizados = almacenados - bias\n",
        "\n",
        "    print(\"EXPLICACIÓN: \\n\")\n",
        "    print(f\"PASO 1: El exponente tiene {exp_bits} bits, por lo que puede representar 2^{exp_bits} = {np.power(2,exp_bits)} valores distintos.\")\n",
        "    print(f\"PASO 2: Esos {np.power(2,exp_bits)} valores van desde 1 hasta {np.power(2,exp_bits)} y queremos tener el número 0\" )\n",
        "    print(f\"PASO 3: Correr los numeros para agregar el 0: [0,1,...,{np.power(2,exp_bits)-1}]\" )\n",
        "    print(f\"Paso 4: Además tenemos 2 casos especiales cuando el exponente son puros 0's y puros 1's \" )\n",
        "    print(f\"Paso 5: Los casos espciales nos quitan un número por arriba y uno por abajo\" )\n",
        "    print(f\"Paso 6: Nuevos números disponibles = [1,2,..{np.power(2,exp_bits)-2}]\" )\n",
        "    print(f\"Paso 7: Calculamos el BIAS = 2^(bits_mantisa-1) -1 =  {bias}\" )\n",
        "    print(f\"Paso 8: Aplicamos el bias [1,2,..{np.power(2,exp_bits)-2}] => [{1-bias},{2-bias},...,{np.power(2,exp_bits)-2-bias}]\" )\n",
        "    print(\"\\n\\n Visualize la representación de 3 bits. Tanto el punto rojo subnormal como el primer punto azul normal tienen \\n\"\n",
        "    \"el mismo valor utilizado, pero distinto valor almacenado, ¿a qué se debe esto?\")\n",
        "\n",
        "    fig, ax = plt.subplots(figsize=(8, 6))\n",
        "\n",
        "    # Normales\n",
        "    ax.scatter(almacenados, utilizados, color='blue', label=\"Normales\")\n",
        "\n",
        "    # Casos especiales\n",
        "    ax.scatter(0, 1- bias, color='red', label=\"Subnormal (almacenado = [0...0])\", zorder=5)\n",
        "    ax.scatter(max_val, max_val - bias, color='red', label=\"Inf/NaN (almacenado = [1...1])\", zorder=5)\n",
        "\n",
        "    # Ejes\n",
        "    ax.spines['left'].set_position('zero')\n",
        "    ax.spines['bottom'].set_position('zero')\n",
        "    ax.spines['right'].set_color('none')\n",
        "    ax.spines['top'].set_color('none')\n",
        "    ax.xaxis.set_ticks_position('bottom')\n",
        "    ax.yaxis.set_ticks_position('left')\n",
        "    ax.plot(1, 0, \">k\", transform=ax.get_yaxis_transform(), clip_on=False)\n",
        "    ax.plot(0, 1, \"^k\", transform=ax.get_xaxis_transform(), clip_on=False)\n",
        "\n",
        "    ax.set_xlabel(\"Almacenado\", fontsize=12)\n",
        "    ax.set_ylabel(\"Utilizado = Almacenado - Bias\", fontsize=12)\n",
        "    ax.set_title(f\"ExpBits = {exp_bits} | Bias = {bias}\", fontsize=14)\n",
        "    ax.grid(True, linestyle='--', linewidth=0.5)\n",
        "    ax.legend()\n",
        "    plt.tight_layout()\n",
        "    plt.show()\n",
        "\n",
        "# Widget interactivo\n",
        "interact(plot_exponent_mapping, exp_bits=widgets.IntSlider(min=3, max=11, step=1, value=8))"
      ]
    }
  ],
  "metadata": {
    "colab": {
      "provenance": []
    },
    "kernelspec": {
      "display_name": "Python 3",
      "language": "python",
      "name": "python3"
    },
    "language_info": {
      "codemirror_mode": {
        "name": "ipython",
        "version": 3
      },
      "file_extension": ".py",
      "mimetype": "text/x-python",
      "name": "python",
      "nbconvert_exporter": "python",
      "pygments_lexer": "ipython3",
      "version": "3.12.6"
    },
    "widgets": {
      "application/vnd.jupyter.widget-state+json": {
        "3c0c7a49bb7046208fc5f7ce51c90839": {
          "model_module": "@jupyter-widgets/base",
          "model_module_version": "1.2.0",
          "model_name": "LayoutModel",
          "state": {
            "_model_module": "@jupyter-widgets/base",
            "_model_module_version": "1.2.0",
            "_model_name": "LayoutModel",
            "_view_count": null,
            "_view_module": "@jupyter-widgets/base",
            "_view_module_version": "1.2.0",
            "_view_name": "LayoutView",
            "align_content": null,
            "align_items": null,
            "align_self": null,
            "border": null,
            "bottom": null,
            "display": null,
            "flex": null,
            "flex_flow": null,
            "grid_area": null,
            "grid_auto_columns": null,
            "grid_auto_flow": null,
            "grid_auto_rows": null,
            "grid_column": null,
            "grid_gap": null,
            "grid_row": null,
            "grid_template_areas": null,
            "grid_template_columns": null,
            "grid_template_rows": null,
            "height": null,
            "justify_content": null,
            "justify_items": null,
            "left": null,
            "margin": null,
            "max_height": null,
            "max_width": null,
            "min_height": null,
            "min_width": null,
            "object_fit": null,
            "object_position": null,
            "order": null,
            "overflow": null,
            "overflow_x": null,
            "overflow_y": null,
            "padding": null,
            "right": null,
            "top": null,
            "visibility": null,
            "width": null
          }
        },
        "75160b28aa09473cbd2c2f7e29a20cbf": {
          "model_module": "@jupyter-widgets/output",
          "model_module_version": "1.0.0",
          "model_name": "OutputModel",
          "state": {
            "_dom_classes": [],
            "_model_module": "@jupyter-widgets/output",
            "_model_module_version": "1.0.0",
            "_model_name": "OutputModel",
            "_view_count": null,
            "_view_module": "@jupyter-widgets/output",
            "_view_module_version": "1.0.0",
            "_view_name": "OutputView",
            "layout": "IPY_MODEL_87554ef93d8d4b2592a7cb9922bca468",
            "msg_id": "",
            "outputs": [
              {
                "name": "stdout",
                "output_type": "stream",
                "text": [
                  "EXPLICACIÓN: \n",
                  "\n",
                  "PASO 1: El exponente tiene 8 bits, por lo que puede representar 2^8 = 256 valores distintos.\n",
                  "PASO 2: Esos 256 valores van desde 1 hasta 256 y queremos tener el número 0\n",
                  "PASO 3: Correr los numeros para agregar el 0: [0,1,...,255]\n",
                  "Paso 4: Además tenemos 2 casos especiales cuando el exponente son puros 0's y puros 1's \n",
                  "Paso 5: Los casos espciales nos quitan un número por arriba y uno por abajo\n",
                  "Paso 6: Nuevos números disponibles = [1,2,..254]\n",
                  "Paso 7: Calculamos el BIAS = 2^(bits_mantisa-1) -1 =  127\n",
                  "Paso 8: Alpicamos el bias [1,2,..254] => [-126,-125,...,127]\n",
                  "\n",
                  "\n",
                  " Visualize la representació de 3 bits. Tanto el punto rojo subnormal como el primer punto azul normal tienen \n",
                  "el mismo valor utilizado, pero distinto valor almacenado, ¿a qué se debe esto?\n"
                ]
              },
              {
                "data": {
                  "image/png": "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\n",
                  "text/plain": "<Figure size 800x600 with 1 Axes>"
                },
                "metadata": {},
                "output_type": "display_data"
              }
            ]
          }
        },
        "87554ef93d8d4b2592a7cb9922bca468": {
          "model_module": "@jupyter-widgets/base",
          "model_module_version": "1.2.0",
          "model_name": "LayoutModel",
          "state": {
            "_model_module": "@jupyter-widgets/base",
            "_model_module_version": "1.2.0",
            "_model_name": "LayoutModel",
            "_view_count": null,
            "_view_module": "@jupyter-widgets/base",
            "_view_module_version": "1.2.0",
            "_view_name": "LayoutView",
            "align_content": null,
            "align_items": null,
            "align_self": null,
            "border": null,
            "bottom": null,
            "display": null,
            "flex": null,
            "flex_flow": null,
            "grid_area": null,
            "grid_auto_columns": null,
            "grid_auto_flow": null,
            "grid_auto_rows": null,
            "grid_column": null,
            "grid_gap": null,
            "grid_row": null,
            "grid_template_areas": null,
            "grid_template_columns": null,
            "grid_template_rows": null,
            "height": null,
            "justify_content": null,
            "justify_items": null,
            "left": null,
            "margin": null,
            "max_height": null,
            "max_width": null,
            "min_height": null,
            "min_width": null,
            "object_fit": null,
            "object_position": null,
            "order": null,
            "overflow": null,
            "overflow_x": null,
            "overflow_y": null,
            "padding": null,
            "right": null,
            "top": null,
            "visibility": null,
            "width": null
          }
        },
        "8bcaa1e3524545be961c6e186320aa61": {
          "model_module": "@jupyter-widgets/controls",
          "model_module_version": "1.5.0",
          "model_name": "IntSliderModel",
          "state": {
            "_dom_classes": [],
            "_model_module": "@jupyter-widgets/controls",
            "_model_module_version": "1.5.0",
            "_model_name": "IntSliderModel",
            "_view_count": null,
            "_view_module": "@jupyter-widgets/controls",
            "_view_module_version": "1.5.0",
            "_view_name": "IntSliderView",
            "continuous_update": true,
            "description": "exp_bits",
            "description_tooltip": null,
            "disabled": false,
            "layout": "IPY_MODEL_3c0c7a49bb7046208fc5f7ce51c90839",
            "max": 11,
            "min": 3,
            "orientation": "horizontal",
            "readout": true,
            "readout_format": "d",
            "step": 1,
            "style": "IPY_MODEL_92cf6bd0f9f545efad2fb497ccd92d0a",
            "value": 8
          }
        },
        "92cf6bd0f9f545efad2fb497ccd92d0a": {
          "model_module": "@jupyter-widgets/controls",
          "model_module_version": "1.5.0",
          "model_name": "SliderStyleModel",
          "state": {
            "_model_module": "@jupyter-widgets/controls",
            "_model_module_version": "1.5.0",
            "_model_name": "SliderStyleModel",
            "_view_count": null,
            "_view_module": "@jupyter-widgets/base",
            "_view_module_version": "1.2.0",
            "_view_name": "StyleView",
            "description_width": "",
            "handle_color": null
          }
        },
        "ceb9e89e01814090add70894f4e31536": {
          "model_module": "@jupyter-widgets/base",
          "model_module_version": "1.2.0",
          "model_name": "LayoutModel",
          "state": {
            "_model_module": "@jupyter-widgets/base",
            "_model_module_version": "1.2.0",
            "_model_name": "LayoutModel",
            "_view_count": null,
            "_view_module": "@jupyter-widgets/base",
            "_view_module_version": "1.2.0",
            "_view_name": "LayoutView",
            "align_content": null,
            "align_items": null,
            "align_self": null,
            "border": null,
            "bottom": null,
            "display": null,
            "flex": null,
            "flex_flow": null,
            "grid_area": null,
            "grid_auto_columns": null,
            "grid_auto_flow": null,
            "grid_auto_rows": null,
            "grid_column": null,
            "grid_gap": null,
            "grid_row": null,
            "grid_template_areas": null,
            "grid_template_columns": null,
            "grid_template_rows": null,
            "height": null,
            "justify_content": null,
            "justify_items": null,
            "left": null,
            "margin": null,
            "max_height": null,
            "max_width": null,
            "min_height": null,
            "min_width": null,
            "object_fit": null,
            "object_position": null,
            "order": null,
            "overflow": null,
            "overflow_x": null,
            "overflow_y": null,
            "padding": null,
            "right": null,
            "top": null,
            "visibility": null,
            "width": null
          }
        },
        "dd274d9a977f4914911490f25e3220ba": {
          "model_module": "@jupyter-widgets/controls",
          "model_module_version": "1.5.0",
          "model_name": "VBoxModel",
          "state": {
            "_dom_classes": [
              "widget-interact"
            ],
            "_model_module": "@jupyter-widgets/controls",
            "_model_module_version": "1.5.0",
            "_model_name": "VBoxModel",
            "_view_count": null,
            "_view_module": "@jupyter-widgets/controls",
            "_view_module_version": "1.5.0",
            "_view_name": "VBoxView",
            "box_style": "",
            "children": [
              "IPY_MODEL_8bcaa1e3524545be961c6e186320aa61",
              "IPY_MODEL_75160b28aa09473cbd2c2f7e29a20cbf"
            ],
            "layout": "IPY_MODEL_ceb9e89e01814090add70894f4e31536"
          }
        }
      }
    }
  },
  "nbformat": 4,
  "nbformat_minor": 0
}
