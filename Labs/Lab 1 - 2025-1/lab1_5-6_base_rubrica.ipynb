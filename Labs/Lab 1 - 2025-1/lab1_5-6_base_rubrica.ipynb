{
 "cells": [
  {
   "cell_type": "code",
   "execution_count": 9,
   "metadata": {},
   "outputs": [
    {
     "name": "stdout",
     "output_type": "stream",
     "text": [
      "Requirement already satisfied: numpy in c:\\users\\gt\\appdata\\local\\programs\\python\\python310\\lib\\site-packages (2.1.1)\n"
     ]
    },
    {
     "name": "stderr",
     "output_type": "stream",
     "text": [
      "WARNING: Ignoring invalid distribution -atplotlib (c:\\users\\gt\\appdata\\local\\programs\\python\\python310\\lib\\site-packages)\n",
      "WARNING: Ignoring invalid distribution -atplotlib (c:\\users\\gt\\appdata\\local\\programs\\python\\python310\\lib\\site-packages)\n",
      "WARNING: Ignoring invalid distribution -atplotlib (c:\\users\\gt\\appdata\\local\\programs\\python\\python310\\lib\\site-packages)\n"
     ]
    },
    {
     "name": "stdout",
     "output_type": "stream",
     "text": [
      "Requirement already satisfied: matplotlib in c:\\users\\gt\\appdata\\local\\programs\\python\\python310\\lib\\site-packages (3.10.1)\n",
      "Requirement already satisfied: contourpy>=1.0.1 in c:\\users\\gt\\appdata\\local\\programs\\python\\python310\\lib\\site-packages (from matplotlib) (1.3.0)\n",
      "Requirement already satisfied: cycler>=0.10 in c:\\users\\gt\\appdata\\local\\programs\\python\\python310\\lib\\site-packages (from matplotlib) (0.12.1)\n",
      "Requirement already satisfied: fonttools>=4.22.0 in c:\\users\\gt\\appdata\\local\\programs\\python\\python310\\lib\\site-packages (from matplotlib) (4.54.1)\n",
      "Requirement already satisfied: kiwisolver>=1.3.1 in c:\\users\\gt\\appdata\\local\\programs\\python\\python310\\lib\\site-packages (from matplotlib) (1.4.7)\n",
      "Requirement already satisfied: numpy>=1.23 in c:\\users\\gt\\appdata\\local\\programs\\python\\python310\\lib\\site-packages (from matplotlib) (2.1.1)\n",
      "Requirement already satisfied: packaging>=20.0 in c:\\users\\gt\\appdata\\local\\programs\\python\\python310\\lib\\site-packages (from matplotlib) (24.1)\n",
      "Requirement already satisfied: pillow>=8 in c:\\users\\gt\\appdata\\local\\programs\\python\\python310\\lib\\site-packages (from matplotlib) (10.4.0)\n",
      "Requirement already satisfied: pyparsing>=2.3.1 in c:\\users\\gt\\appdata\\local\\programs\\python\\python310\\lib\\site-packages (from matplotlib) (3.1.4)\n",
      "Requirement already satisfied: python-dateutil>=2.7 in c:\\users\\gt\\appdata\\local\\programs\\python\\python310\\lib\\site-packages (from matplotlib) (2.9.0.post0)\n",
      "Requirement already satisfied: six>=1.5 in c:\\users\\gt\\appdata\\local\\programs\\python\\python310\\lib\\site-packages (from python-dateutil>=2.7->matplotlib) (1.16.0)\n"
     ]
    },
    {
     "name": "stderr",
     "output_type": "stream",
     "text": [
      "WARNING: Ignoring invalid distribution -atplotlib (c:\\users\\gt\\appdata\\local\\programs\\python\\python310\\lib\\site-packages)\n",
      "WARNING: Ignoring invalid distribution -atplotlib (c:\\users\\gt\\appdata\\local\\programs\\python\\python310\\lib\\site-packages)\n",
      "WARNING: Ignoring invalid distribution -atplotlib (c:\\users\\gt\\appdata\\local\\programs\\python\\python310\\lib\\site-packages)\n"
     ]
    }
   ],
   "source": [
    "#Borrar esta celda despues de ejecutarla\n",
    "!pip install numpy\n",
    "!pip install matplotlib"
   ]
  },
  {
   "cell_type": "code",
   "execution_count": 1,
   "metadata": {},
   "outputs": [],
   "source": [
    "import numpy as np\n",
    "import matplotlib.pyplot as plt\n",
    "from struct import pack, unpack"
   ]
  },
  {
   "cell_type": "markdown",
   "metadata": {},
   "source": [
    "# Funciones\n",
    "\n",
    "Para la implementación de las preguntas, considere que **solo** tiene a su disposición las siguientes funciones:\n",
    "\n",
    "* **np.array(x)**: Convierte **x** en un arreglo de NumPy.\n",
    "* **np.arange(n)**: Para **n** un número entero positivo entrega un vector de largo **n** con números enteros desde 0 a n-1.\n",
    "* **np.abs(x)**: Entrega el valor absoluto de **x**.\n",
    "* **np.power(x)**: Evalúa la expresión $x^n$ si **x** y **n** son escalares. En caso de que **x** e **n** sean vectores, deben tener la misma\n",
    "dimensión y entrega la evaluación elemento a elemento. Si solo uno de los términos es un vector, entrega el vector donde\n",
    "el término constante se consideró para cada término de vector.\n",
    "* **np.sqrt(x)**: Entrega la evaluación de la raíz cuadrada no negativa de un vector o escalar **x**.\n",
    "* **np.sum(x)**: Entrega la suma de los elementos de un vector **x**.\n",
    "* **np.sort(x, axis)**: Ordena los elementos de **x** de menor a mayor a lo largo del eje especificado. Si **x** es un vector, entrega un nuevo vector ordenado. Si **x** es una matriz, por defecto (**axis**=-1) ordena cada fila de forma independiente. Puedes usar **axis**=0 para ordenar por columnas y **axis**=1 para ordenar por filas.\n",
    "* **pack(_format_, _value 1_, _value 2_, ...)**: Retorna un **bytes object**, que permite obtener los octetos de la representacion binaria, el formato es una string formado de dos char, \"<\" para little-endian y \">\" para Big-endian, seguido de la siguiente tabla para los formatos:\n",
    "\n",
    "    | Format | C Type                | Python Type     | Standard Size |\n",
    "    |--------|-----------------------|----------------|---------------|\n",
    "    | x      | pad byte              | no value       |               ||\n",
    "    | c      | char                  | bytes of length 1 | 1         |\n",
    "    | b      | signed char           | integer        | 1             |\n",
    "    | B      | unsigned char         | integer        | 1             |\n",
    "    | ?      | _Bool                 | bool           | 1             |\n",
    "    | h      | short                 | integer        | 2             |\n",
    "    | H      | unsigned short        | integer        | 2             |\n",
    "    | i      | int                   | integer        | 4             |\n",
    "    | I      | unsigned int          | integer        | 4             |\n",
    "    | l      | long                  | integer        | 4             |\n",
    "    | L      | unsigned long         | integer        | 4             |\n",
    "    | q      | long long             | integer        | 8             |\n",
    "    | Q      | unsigned long long    | integer        | 8             |\n",
    "    | n      | ssize_t               | integer        |               |\n",
    "    | N      | size_t                | integer        |               |\n",
    "    | e      | (6)                   | float          | 2             |\n",
    "    | f      | float                 | float          | 4             |\n",
    "    | d      | double                | float          | 8             |\n",
    "    | s      | char[]                | bytes          |               |\n",
    "    | p      | char[]                | bytes          |               |\n",
    "    | P      | void*                 | integer        |               |\n",
    "\n",
    "* **bytes.zfill(_width_)**: Retorna una copia de la secuencia rellenando con \"0\" hasta hacer la secuencia del largo width.\n",
    "* **bin(x)**: Convierte un int a una cadena binaria con el prefijo “0b”"
   ]
  },
  {
   "cell_type": "markdown",
   "metadata": {},
   "source": [
    "# Pregunta 1\n",
    "\n",
    "1.1 **(35 puntos)** Conociendo el *estándar de punto flotante IEEE 754*, el cual tiene un bit implicito, un bit reservado para el signo, y dependiendo de la precision *x* bits de exponente e *y* bits de mantissa.\n",
    "Contruya la función `float_to_bin`, la cual recibe como parámetros `number` y `precision`. La función debe retornar el número dado por parámetro en *estándar de punto flotante* según la precisión dada.\n",
    "\n",
    "*Hint: Python cannot convert a float to an int natively, so the use of `pack()` is recommended. Additionally, you can use Python `f-strings` to manipulate the representation of data.*"
   ]
  },
  {
   "cell_type": "code",
   "execution_count": 2,
   "metadata": {},
   "outputs": [],
   "source": [
    "def float_to_bin(number, precision):\n",
    "    \"\"\"\n",
    "    input:\n",
    "    number          : (float) A number in float python type\n",
    "    precision       : (int) the representation to use, it can only be 16,\n",
    "                      32 or 64 bits\n",
    "\n",
    "    output:\n",
    "    result_tuple    : (tuple) A tuple containing three binary strings (sign, exponent, and mantissa) \n",
    "                              representing a number in the IEEE 754 16-bit, 32-bit or 64-bit floating-point standard.\n",
    "    \"\"\"\n",
    "    #acá va su codigo\n",
    "    #--------------------------------\n",
    "    if precision == 16: # Representación en 16 bits (half precision)\n",
    "        packed = pack(\">e\", number)  # Tomamos los bytes del numero 16b\n",
    "        bits = ''.join(f\"{byte:08b}\" for byte in packed) # los concatenamos binariamente en una str\n",
    "        sign, exponent, mantissa = bits[0], bits[1:6], bits[6:]\n",
    "    elif precision == 32: # Representación en 32 bits (single precision)\n",
    "        packed = pack(\">f\", number) #32b\n",
    "        bits = ''.join(f\"{byte:08b}\" for byte in packed)\n",
    "        sign, exponent, mantissa = bits[0], bits[1:9], bits[9:]\n",
    "    elif precision == 64: # Representación en 64 bits (double precision)\n",
    "        packed = pack(\">d\", number) #64b\n",
    "        bits = ''.join(f\"{byte:08b}\" for byte in packed)\n",
    "        sign, exponent, mantissa = bits[0], bits[1:12], bits[12:]\n",
    "    else:\n",
    "        raise ValueError(\"Precision must be 16, 32, or 64 bits.\")\n",
    "    #--------------------------------\n",
    "    result_tuple = (sign, exponent, mantissa)\n",
    "    return result_tuple"
   ]
  },
  {
   "cell_type": "markdown",
   "metadata": {},
   "source": [
    "1.2 **(10 puntos)** Dado el número decimal $\\pi$, obtenga su *error absoluto de redondeo* y su *cota superior* en *half precision*. Finalmente, explique por qué el *error absoluto* de representar un número es proporcional al tamaño del número original.\n",
    "\n",
    "$$ |fl(x) - x| \\leq \\frac{1}{2} \\cdot \\epsilon_{mach}|x| $$"
   ]
  },
  {
   "cell_type": "code",
   "execution_count": 3,
   "metadata": {},
   "outputs": [
    {
     "data": {
      "text/plain": [
       "('0', '10000', '1001001000')"
      ]
     },
     "execution_count": 3,
     "metadata": {},
     "output_type": "execute_result"
    }
   ],
   "source": [
    "#No modificar este código, solamente ejecute.\n",
    "float_to_bin(np.pi, 16)"
   ]
  },
  {
   "cell_type": "code",
   "execution_count": 4,
   "metadata": {},
   "outputs": [
    {
     "data": {
      "text/plain": [
       "(np.float64(0.000967653589793116), np.float64(0.0015339807878856412))"
      ]
     },
     "execution_count": 4,
     "metadata": {},
     "output_type": "execute_result"
    }
   ],
   "source": [
    "#acá va su codigo\n",
    "#--------------------------------\n",
    "err_abs = np.abs(3.140625 - np.pi)\n",
    "cota_sup = ((2**-10)*np.abs(np.pi))/2 \n",
    "#--------------------------------\n",
    "(err_abs, cota_sup)"
   ]
  },
  {
   "cell_type": "markdown",
   "metadata": {},
   "source": [
    "**---------------------------------------------------------------------------------------------------------------------------**\n",
    "\n",
    "**Respuesta:**\n",
    "\n",
    "En el estándar IEEE 754, los números se representan en un formato de punto flotante que divide el número en una mantisa y un exponente. La mantisa tiene una cantidad fija de bits (10 bits explícitos en este caso), lo que significa que solo podemos representar un número con una precisión limitada. Cuando redondeamos un número como $\\pi$ a este formato, el error absoluto surge porque no podemos capturar todos los dígitos del número original.\n",
    "\n",
    "El error absoluto es proporcional al tamaño del número original porque, en el formato de punto flotante, el espaciado entre números representables crece con la magnitud del número (debido al exponente). Un número más grande tiene un exponente mayor, lo que significa que los números representables están más separados, y el error de redondeo (que depende de este espaciado) será mayor. Por eso, el error absoluto aumenta a medida que el número original se hace más grande.\n",
    "\n",
    "**---------------------------------------------------------------------------------------------------------------------------**"
   ]
  },
  {
   "cell_type": "markdown",
   "metadata": {},
   "source": [
    "# Pregunta 2\n",
    "\n",
    "Dada la siguiente función:\n",
    "\n",
    "$$ f(k) = \\frac{\\sqrt{k} - 4}{k} $$\n",
    "\n",
    "Se requiere trabajar con su derivada, pero dado que derivar directamente esta función puede ser muy costoso computacionalmente, es necesario emplear el método de *Diferencias Finitas* para aproximar su derivada. En este caso, utilizaremos la fórmula de *Central Difference*, que se aplica a nuestra función de la siguiente manera:\n",
    "\n",
    "$$ f'(k, h) = \\lim_{h \\to 0} \\frac{f(k + h) - f(k - h)}{2h} $$\n",
    "\n",
    "Donde el valor de $h$, representa el tamaño del intervalo utilizado para aproximar la derivada, por lo tanto, $h$ debe ser lo suficientemente pequeño de modo que la aproximación sea precisa y la expresión se acerque al valor real del límite. Un $h$ pequeño reduce el error de la derivada, sin embargo, esta variable no puede ser arbitrariamente pequeña, ya que en *double precision* esto puede introducir problemas de pérdida de importancia y de error de cancelación.\n",
    "\n",
    "Debido a esto, se define $h$ como una función de una variable x:\n",
    "\n",
    "$$ h(x) = 2^{-x} $$\n",
    "\n",
    "Esto implica que a medida que $x$ aumenta, $h(x)$ se hace exponencialmente más pequeño.\n",
    "\n",
    "Dados estos cambios, se obtiene la siguiente función:\n",
    "\n",
    "$$ f'(k, x) = \\frac{\\frac{\\sqrt{k + 2^{-x}} - 4}{k + 2^{-x}} - \\frac{\\sqrt{k - 2^{-x}} - 4}{k - 2^{-x}}}{2 \\cdot 2^{-x}} $$\n",
    "\n",
    "Sean $g_1(k, h)$ y $g_2(k, h)$, el primer y segundo término del numerador de la función $f'(k, x)$, respectivamente. Estas funciones quedan definidas como:\n",
    "\n",
    "$$ g_1(k, x) = \\frac{\\sqrt{k + 2^{-x}} - 4}{k + 2^{-x}} $$\n",
    "\n",
    "$$ g_2(k, x) = \\frac{\\sqrt{k - 2^{-x}} - 4}{k - 2^{-x}} $$\n",
    "\n",
    "Donde se considerará un valor de *k* fijo y un valor de x variable con el objetivo de analizar el comportamiento de dicha función según el valor de este último parámetro."
   ]
  },
  {
   "cell_type": "code",
   "execution_count": 5,
   "metadata": {},
   "outputs": [],
   "source": [
    "#No modificar este código, solamente ejecute.\n",
    "g1 = lambda k, x: (np.sqrt(k + np.power(2., -x)) - 4)/(k + np.power(2., -x))\n",
    "g2 = lambda k, x: (np.sqrt(k - np.power(2., -x)) - 4)/(k - np.power(2., -x))\n",
    "f_prime = lambda k, x: (g1(k, x) - g2(k, x))/(2*np.power(2., -x))"
   ]
  },
  {
   "cell_type": "code",
   "execution_count": 6,
   "metadata": {},
   "outputs": [
    {
     "data": {
      "image/png": "[encoded data removed]",
      "text/plain": [
       "<Figure size 800x400 with 1 Axes>"
      ]
     },
     "metadata": {},
     "output_type": "display_data"
    }
   ],
   "source": [
    "#No modificar este código, solamente ejecute.\n",
    "k = 16\n",
    "x = np.arange(30, 55, 0.01)\n",
    "\n",
    "plt.figure(figsize=(8, 4))\n",
    "plt.plot(x, f_prime(k, x))\n",
    "\n",
    "plt.xlabel(\"$x$\")\n",
    "plt.ylabel(\"$f(k, x)$\")\n",
    "plt.title(\"Gráfico de la función $f'(k, x)$ para $k = 16$\")\n",
    "plt.xticks(np.arange(30, 55, 6))\n",
    "\n",
    "plt.grid(True, which=\"both\", linestyle=\"--\", linewidth=0.5)\n",
    "\n",
    "plt.show()"
   ]
  },
  {
   "cell_type": "markdown",
   "metadata": {},
   "source": [
    "2.1 **(40 puntos)** Encuentre el menor $x \\in \\mathbb{N}$ tal que las funciones $g_1(k, x)$, $g_2(k, x)$ y $f'(k, x)$ sean iguales a $0$ en *double precision* para un valor fijo $k = 16$ (Evalúe cada caso para cada función)."
   ]
  },
  {
   "cell_type": "markdown",
   "metadata": {},
   "source": [
    "**---------------------------------------------------------------------------------------------------------------------------**\n",
    "\n",
    "**Respuesta:**\n",
    "\n",
    "* Para $g_1(k, x)$:\n",
    "\n",
    "Dado que en este caso tenemos que $k=16$, nos queda la siguiente expresión:\n",
    "\n",
    "$$ g_1(k=16, x) = \\frac{\\sqrt{16 + 2^{-x}} - 4}{16 + 2^{-x}} $$\n",
    "\n",
    "Lo que nos interesa es el numerador, ya que si $2^{-x}$ es lo suficientemente pequeño, entonces $\\sqrt{16 + 2^{-x}} = 4$, lo que provocaría un error de cancelación en el numerador, dejándolo igual a $0$.\n",
    "\n",
    "Por lo tanto, debemos encontrar un valor de $x$ para el cual $16 + 2^{-x} = 16$. Dado lo anterior, el número más pequeño que se puede sumar a $16$ en doble precisión no es el mismo que se le puede sumar a $1$, ya que la distancia entre los numeros representables cambia según la magnitud de este.\n",
    "\n",
    "Para números en el rango $[2^{0}, 2^{1})$, la distancia es $\\epsilon_{mach} = 2^{-52}$, es decir, para que no se pueda sumar un número al $1$, su distancia debe de ser mayor a $52$. Para números en el rango $[2^{1}, 2^{2})$, la distancia es $2 \\times \\epsilon_{machine} = 2^{-51}$. Para números en el rango $[2^{2}, 2^{3})$, la distancia es $4 \\times \\epsilon_{mach} = 2^{-50}$ y así sucesivamente.\n",
    "\n",
    "En nuestro caso, $k$ está en el rango $[2^{4}, 2^{5})$, donde la distancia es $16 \\times \\epsilon_{machine} = 2^{-48}$. Para que no se pueda sumar un número a $k=16$, su distancia debe ser mayor a $48$. Con esto, podemos concluir que $x = 49$, para que $\\sqrt{16 + 2^{-x}} = 4$ y ocurra un error de cancelación.\n",
    "\n",
    "* Para $g_2(k, x)$:\n",
    "\n",
    "Ahora tenemos la siguiente expresión:\n",
    "\n",
    "$$ g_2(k=16, x) = \\frac{\\sqrt{16 - 2^{-x}} - 4}{16 - 2^{-x}} $$\n",
    "\n",
    "El único cambio que tenemos, es que ahora necesitamos encontrar un valor de $x$ para el cual $16 - 2^{-x} = 16$. Podemos darnos cuenta que $x$ ya no puede ser $49$, si no que ahora será $50$. Esto sucede ya que ahora estamos evaluando una resta donde $16$ pasará a ser $15.999...$, es decir, el rango donde estará nuestro número ya no es $[2^{4}, 2^{5})$, si no que ahora es $[2^{3}, 2^{4})$, con una distancia de $4 \\times \\epsilon_{mach} = 2^{-49}$.\n",
    "\n",
    "Por lo tanto, para que no se le pueda restar un número a $16$, su distancia debe ser mayor a $49$. Con esto, podemos que concluir que $x = 50$, para que $\\sqrt{16 - 2^{-x}} = 4$.\n",
    "\n",
    "* Para $f'(k, x)$:\n",
    "\n",
    "Como encontramos el valor de $x$ para que $g_1(k, x)$ y $g_2(k, x)$ se hagan $0$, debemos tomar el valor mayor de $x$ entre las dos funciones. Esto es debido a que si tomamos $f'(k=16, x=49)$, solo ocurrirá pérdida de importancia y error de cancelación en $g1(k, x)$, pero si tomamos un $x = 50$, ambas funciones darán $0$, llevando a $f'(k=16, x=50) = 0$.\n",
    "\n",
    "**---------------------------------------------------------------------------------------------------------------------------**"
   ]
  },
  {
   "cell_type": "markdown",
   "metadata": {},
   "source": [
    "2.2 **(15 puntos)** Construya la función `gap_non_representable`, la cual recibe como parámetro el número `num_ieee754` en *estándar de punto flotante de 64 bits*. La función debe retornar el tamaño del *gap* o *distancia* para la suma y la resta, donde ocurra *pérdida de importancia*."
   ]
  },
  {
   "cell_type": "code",
   "execution_count": 7,
   "metadata": {},
   "outputs": [],
   "source": [
    "def gap_non_representable(num_ieee754):\n",
    "    \"\"\"\n",
    "    input:\n",
    "    num_ieee754    : (tuple) A tuple containing three binary strings (sign, exponent, and mantissa) \n",
    "                             representing a number in the IEEE 754 64-bit floating-point standard.\n",
    "\n",
    "    output:\n",
    "    result_str     : (str) A string in the format \"2^(-exp_pos), 2^(-exp_neg)\", where:\n",
    "                            - exp_pos is the exponent that represents the gap between the number and the next non-representable number greater than it.\n",
    "                            - exp_neg is the exponent that represents the gap between the number and the next non-representable number less than it.\n",
    "    \"\"\"\n",
    "    #acá va su codigo\n",
    "    #--------------------------------\n",
    "    signo, exponente, mantissa = num_ieee754\n",
    "\n",
    "    signo_int = int(signo, 2)\n",
    "    exponente_int = int(exponente, 2)\n",
    "    mantissa_int = int(mantissa, 2)\n",
    "    mantissa_val = 1.0 + (mantissa_int / (2 ** 52))\n",
    "\n",
    "    sesgo = 1023\n",
    "\n",
    "    exponente_real = exponente_int - sesgo\n",
    "\n",
    "    exp_pos = 53 - exponente_real\n",
    "\n",
    "    num = (-1)**signo_int * mantissa_val * (2.0 ** exponente_real)\n",
    "\n",
    "    epsilon = 1.0\n",
    "    exp_neg = 0\n",
    "    while (num - epsilon) < num:\n",
    "        epsilon /= 2.0\n",
    "        exp_neg += 1\n",
    "    #--------------------------------\n",
    "    result_str = f\"2^{{-{exp_pos}}}, 2^{{-{exp_neg}}}\"\n",
    "    return result_str"
   ]
  },
  {
   "cell_type": "code",
   "execution_count": 8,
   "metadata": {},
   "outputs": [
    {
     "data": {
      "text/plain": [
       "'2^{-49}, 2^{-50}'"
      ]
     },
     "execution_count": 8,
     "metadata": {},
     "output_type": "execute_result"
    }
   ],
   "source": [
    "#No modificar este código, solamente ejecute.\n",
    "num_ieee754 = float_to_bin(16, 64)\n",
    "gap_non_representable(num_ieee754)"
   ]
  }
 ],
 "metadata": {
  "kernelspec": {
   "display_name": "Python 3",
   "language": "python",
   "name": "python3"
  },
  "language_info": {
   "codemirror_mode": {
    "name": "ipython",
    "version": 3
   },
   "file_extension": ".py",
   "mimetype": "text/x-python",
   "name": "python",
   "nbconvert_exporter": "python",
   "pygments_lexer": "ipython3",
   "version": "3.10.9"
  }
 },
 "nbformat": 4,
 "nbformat_minor": 2
}
