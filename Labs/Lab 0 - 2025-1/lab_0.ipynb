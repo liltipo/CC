{
 "cells": [
  {
   "cell_type": "markdown",
   "metadata": {
    "id": "UwEmdYX0nTEJ"
   },
   "source": [
    "# INF285 - Computación Científica\n",
    "# Laboratorio 0 - Código Base\n",
    "## 21 de marzo de 2025"
   ]
  },
  {
   "cell_type": "markdown",
   "metadata": {},
   "source": [
    "## Librerías y/o funciones "
   ]
  },
  {
   "cell_type": "code",
   "execution_count": 4,
   "metadata": {},
   "outputs": [],
   "source": [
    "import numpy as np\n",
    "import matplotlib.pyplot as plt\n",
    "from numpy.matlib import repmat"
   ]
  },
  {
   "cell_type": "markdown",
   "metadata": {},
   "source": [
    "**Generación de números pseudo-aleatorios**\n",
    "\n",
    "La librería `random` de Numpy permite generar números pseudo-aleatorios a través de un *generador* al cual se le puede indicar alguna *semilla (seed)*."
   ]
  },
  {
   "cell_type": "code",
   "execution_count": 2,
   "metadata": {},
   "outputs": [
    {
     "data": {
      "text/plain": [
       "0.9398022285073995"
      ]
     },
     "execution_count": 2,
     "metadata": {},
     "output_type": "execute_result"
    }
   ],
   "source": [
    "#sin indicar semilla\n",
    "rng = np.random.default_rng()\n",
    "rng.random()"
   ]
  },
  {
   "cell_type": "code",
   "execution_count": 3,
   "metadata": {},
   "outputs": [
    {
     "data": {
      "text/plain": [
       "0.5060306745483945"
      ]
     },
     "execution_count": 3,
     "metadata": {},
     "output_type": "execute_result"
    }
   ],
   "source": [
    "#indicando una semilla en particular\n",
    "rng = np.random.default_rng(seed=99)\n",
    "rng.random()"
   ]
  },
  {
   "cell_type": "code",
   "execution_count": 4,
   "metadata": {},
   "outputs": [
    {
     "data": {
      "text/plain": [
       "array([0.56509163, 0.51191596, 0.97218637, 0.61490314, 0.5682835 ])"
      ]
     },
     "execution_count": 4,
     "metadata": {},
     "output_type": "execute_result"
    }
   ],
   "source": [
    "#generamos un array con 5 elementos aleatorios en el intervalo [0.0,1.0)\n",
    "rng.random(5)"
   ]
  },
  {
   "cell_type": "code",
   "execution_count": 5,
   "metadata": {},
   "outputs": [
    {
     "data": {
      "text/plain": [
       "array([[0.28678672, 0.55451145, 0.46752353],\n",
       "       [0.61005801, 0.9304425 , 0.24588538],\n",
       "       [0.30943834, 0.39107965, 0.27027173],\n",
       "       [0.35001495, 0.93622969, 0.37788422]])"
      ]
     },
     "execution_count": 5,
     "metadata": {},
     "output_type": "execute_result"
    }
   ],
   "source": [
    "#generamos un array de dimension 4 x 3 con elementos aleatorios en el intervalo [0.0,1.0)\n",
    "rng.random((4,3))"
   ]
  },
  {
   "cell_type": "code",
   "execution_count": 6,
   "metadata": {},
   "outputs": [
    {
     "data": {
      "text/plain": [
       "array([3.54929842, 2.08113448, 2.59731119, 3.40518229, 2.90450524])"
      ]
     },
     "execution_count": 6,
     "metadata": {},
     "output_type": "execute_result"
    }
   ],
   "source": [
    "#¿Cómo generamos valores en algún intervalo [a,b)? \n",
    "#Simplemente realizamos un cambio de intervalo\n",
    "a,b = 2.,4.\n",
    "a + (b - a)*rng.random(5)"
   ]
  },
  {
   "cell_type": "markdown",
   "metadata": {
    "id": "7ls7_KJanbDM"
   },
   "source": [
    "## Estimación de $\\pi$\n",
    "\n",
    "\n",
    "Esta famosa constante matemática $\\pi = 3.14159265359\\dots$ podemos estimarla utilizando el método de Monte Carlo, el cual consiste en obtener una cantidad de muestras aleatorias para realizar un cálculo numérico. En este caso, obtendremos muestras aleatorias para obtener una estimación de $\\pi$.\n",
    "\n",
    "La idea es simular puntos aleatorios $(x,y)$ dentro de un cuarto de circunferencia de radio $1$. El objetivo es contar la cantidad de puntos que hay en el cuarto de circunferencia, de tal forma de encontrar una relación entre el área del cuarto de circunferencia y el área total de muestreo.\n",
    "\n",
    "En el siguiente gráfico se muestra una idea:\n"
   ]
  },
  {
   "cell_type": "markdown",
   "metadata": {},
   "source": [
    "![title](pi_estimation.png)"
   ]
  },
  {
   "cell_type": "markdown",
   "metadata": {
    "id": "G7malCjKnpkS"
   },
   "source": [
    "Sabemos que el área del espacio de muestreo es $1$, mientras que el área del cuarto de circunferencia es $\\pi/4$. Por lo tanto la razón entre las áreas es:\n",
    "\n",
    "$$\n",
    "\\dfrac{\\text{area cuarto de circunferencia}}{\\text{area total}} = \\dfrac{\\pi/4}{1}\n",
    "$$\n",
    "\n",
    "Luego si tomamos una gran cantidad de muestras aleatorias, entonces:\n",
    "\n",
    "$$\n",
    "\\dfrac{\\text{area cuarto de circunferencia}}{\\text{area total}} = \\dfrac{\\text{cantidad de puntos dentro del cuarto de circunferencia}}{\\text{cantidad de muestras totales}} = \\pi/4\n",
    "$$\n",
    "\n",
    "Entonces podemos estimar $\\pi$ como:\n",
    "\n",
    "$$\n",
    "\\pi \\approx \\dfrac{4 \\times \\text{cantidad de puntos dentro del cuarto de circunferencia}}{\\text{cantidad de muestras totales}}\n",
    "$$\n",
    "\n",
    "A continuación se muestra un código que estima $\\pi$ utilizando **list comprehension**:"
   ]
  },
  {
   "cell_type": "code",
   "execution_count": 7,
   "metadata": {
    "id": "SzjbOuiu9j6p"
   },
   "outputs": [],
   "source": [
    "'''\n",
    "input\n",
    "n    : (int)    number of random points.\n",
    "seed : (int)    a seed to initialize the random generator.\n",
    "\n",
    "output\n",
    "pi_a : (double) approximation of pi.\n",
    "'''\n",
    "def compute_pi_slow(n,seed=9_999):\n",
    "    rng = np.random.default_rng(seed=seed)\n",
    "    x = [rng.random() for i in range(n)]\n",
    "    y = [rng.random() for i in range(n)]\n",
    "    \n",
    "    d = [x[i]**2 + y[i]**2 for i in range(n)]\n",
    "    inside = 0\n",
    "    for i in range(n):\n",
    "        if d[i] < 1:\n",
    "            inside += 1\n",
    "    pi_a = 4*inside / n\n",
    "    return pi_a"
   ]
  },
  {
   "cell_type": "markdown",
   "metadata": {
    "id": "6Z-FVfYn9wIO"
   },
   "source": [
    "Calculamos el tiempo que se demora la función `calcular_pi_list` utilizando **list comprehension** con $n=10000$ muestras aleatorias para estimar $\\pi$."
   ]
  },
  {
   "cell_type": "code",
   "execution_count": 8,
   "metadata": {
    "id": "9LC4TIsV9w3V"
   },
   "outputs": [
    {
     "name": "stdout",
     "output_type": "stream",
     "text": [
      "13.2 ms ± 0 ns per loop (mean ± std. dev. of 1 run, 1,000 loops each)\n"
     ]
    }
   ],
   "source": [
    "#tiempo de función con lista\n",
    "t1 = %timeit -n 1000 -r 1 -o compute_pi_slow(10000)"
   ]
  },
  {
   "cell_type": "markdown",
   "metadata": {
    "id": "wkUdlG-6916m"
   },
   "source": [
    "## Pregunta 1\n",
    "\n",
    "### Pregunta 1.1 (40 puntos)\n",
    "\n",
    "Construya la función `compute_pi_fast(n)` que estime el valor de $\\pi$ utilizando `numpy array` y considerando $n$ muestras aleatorias. Usted debe utilizar la siguiente firma:"
   ]
  },
  {
   "cell_type": "code",
   "execution_count": 21,
   "metadata": {
    "id": "m6iAFbXu93z0"
   },
   "outputs": [
    {
     "name": "stdout",
     "output_type": "stream",
     "text": [
      "3.1772\n"
     ]
    }
   ],
   "source": [
    "'''\n",
    "input\n",
    "n    : (int)    number of random points.\n",
    "seed : (int)    a seed to initialize the random generator.\n",
    "\n",
    "output\n",
    "pi_a : (double) approximation of pi.\n",
    "'''\n",
    "\n",
    "def compute_pi_fast(n, seed=9_999):\n",
    "    rng = np.random.default_rng(seed=seed)\n",
    "    x = rng.random(n)\n",
    "    y = rng.random(n)\n",
    "\n",
    "    d = np.power(x,2) + np.power(y,2)\n",
    "    inside = np.sum(d < 1)\n",
    "    pi_a = 4*inside / n\n",
    "    return pi_a\n",
    "x = compute_pi_fast(10000)\n",
    "print(x)"
   ]
  },
  {
   "cell_type": "markdown",
   "metadata": {},
   "source": [
    "Podemos calcular el tiempo que se demora estimar $\\pi$ con `numpy array` utilizando $10000$ muestras aleatorias."
   ]
  },
  {
   "cell_type": "code",
   "execution_count": 11,
   "metadata": {},
   "outputs": [
    {
     "name": "stdout",
     "output_type": "stream",
     "text": [
      "136 μs ± 2.34 μs per loop (mean ± std. dev. of 7 runs, 10,000 loops each)\n"
     ]
    }
   ],
   "source": [
    "#tiempo de función con array\n",
    "t2 = %timeit -o compute_pi_fast(10000)"
   ]
  },
  {
   "cell_type": "markdown",
   "metadata": {},
   "source": [
    "Se calcula las veces que, estimar $\\pi$ con `numpy array`, es mejor que con **list comprehension**."
   ]
  },
  {
   "cell_type": "code",
   "execution_count": 12,
   "metadata": {},
   "outputs": [
    {
     "data": {
      "text/plain": [
       "97.13772176922173"
      ]
     },
     "execution_count": 12,
     "metadata": {},
     "output_type": "execute_result"
    }
   ],
   "source": [
    "t1.average/t2.average"
   ]
  },
  {
   "cell_type": "markdown",
   "metadata": {},
   "source": [
    "A continuación realizaremos una comparación entre el cálculo para $\\pi$ utilizando **list comprehension** y **Numpy**.\n",
    "\n",
    "Ejecute el siguiente código:"
   ]
  },
  {
   "cell_type": "code",
   "execution_count": 13,
   "metadata": {},
   "outputs": [
    {
     "data": {
      "image/png": "[encoded data removed]",
      "text/plain": [
       "<Figure size 1500x500 with 3 Axes>"
      ]
     },
     "metadata": {},
     "output_type": "display_data"
    }
   ],
   "source": [
    "def show_comparison_for_pi():\n",
    "    N = 10 # Sample size for 'n'\n",
    "    K = 5 # Sample size for different seeds used\n",
    "    n_array = np.logspace(2,6,N,dtype=int) # Array to store the logscale used for n\n",
    "    \n",
    "    comp_time_slow = np.zeros((N,K))\n",
    "    comp_error_slow = np.zeros((N,K))\n",
    "    \n",
    "    comp_time_fast = np.zeros((N,K))\n",
    "    comp_error_fast = np.zeros((N,K)) \n",
    "    \n",
    "    for i, n in np.ndenumerate(n_array):\n",
    "        for k in range(K):\n",
    "            time_n_k = %timeit -n 1 -r 1 -o -q compute_pi_slow(n,k)\n",
    "            out_n_k=compute_pi_slow(n,k)\n",
    "            comp_time_slow[i,k] = time_n_k.average\n",
    "            comp_error_slow[i,k] = np.abs(np.pi-out_n_k)\n",
    "            \n",
    "            time_n_k = %timeit -n 1 -r 1 -o -q compute_pi_fast(n,k)\n",
    "            out_n_k=compute_pi_fast(n,k)\n",
    "            comp_time_fast[i,k] = time_n_k.average\n",
    "            comp_error_fast[i,k] = np.abs(np.pi-out_n_k)\n",
    "\n",
    "    plt.figure(figsize=(15,5))\n",
    "    plt.subplot(133)\n",
    "    plt.loglog(comp_time_slow.flatten(),comp_error_slow.flatten(),'rd',label='slow')\n",
    "    plt.loglog(comp_time_fast.flatten(),comp_error_fast.flatten(),'b.',label='fast')\n",
    "    plt.legend(loc='best')\n",
    "    plt.xlabel('Time (s)')\n",
    "    plt.ylabel('Absolute Error')\n",
    "    plt.grid()\n",
    "    \n",
    "    plt.subplot(131)\n",
    "    nn = repmat(n_array[:,np.newaxis],1,K)\n",
    "    plt.loglog(nn.flatten(),comp_time_slow.flatten(),'rd',label='slow')\n",
    "    plt.loglog(nn.flatten(),comp_time_fast.flatten(),'b.',label='fast')\n",
    "    plt.legend(loc='best')\n",
    "    plt.xlabel('n')\n",
    "    plt.ylabel('Time (s)')\n",
    "    plt.grid()\n",
    "\n",
    "    plt.subplot(132)\n",
    "    plt.loglog(nn.flatten(),comp_error_slow.flatten(),'rd',label='slow')\n",
    "    plt.loglog(nn.flatten(),comp_error_fast.flatten(),'b.',label='fast')\n",
    "    plt.legend(loc='best')\n",
    "    plt.xlabel('n')\n",
    "    plt.ylabel('Absolute Error')\n",
    "    plt.grid()\n",
    "    plt.show()\n",
    "    \n",
    "show_comparison_for_pi()"
   ]
  },
  {
   "cell_type": "markdown",
   "metadata": {},
   "source": [
    "### Pregunta 1.2 (10 puntos)\n",
    "\n",
    "Como usted puede observar, en el gráfico central (Absolute Error v/s $n$) los valores entregados por `compute_pi_slow` y `compute_pi_fast` son iguales ¿Por qué ocurre este fenómeno?"
   ]
  },
  {
   "cell_type": "markdown",
   "metadata": {},
   "source": [
    "**Indique en esta celda su respuesta:**\n",
    "\n",
    "**-----------------------------------**\n",
    "\n",
    "**R:**\n",
    "\n",
    "**-----------------------------------**"
   ]
  },
  {
   "cell_type": "markdown",
   "metadata": {},
   "source": [
    "## Pregunta 2\n",
    "\n",
    "Sea la integral,\n",
    "$$\n",
    "I = \\int_{t_a}^{t_b} g(t)\\,dt \\quad \\text{donde} \\quad t_a \\leq t \\leq t_b \\quad \\text{ y } \\quad 0 \\leq g(t) \\leq C\n",
    "$$\n",
    "\n",
    "### Pregunta 2.1 (40 puntos)\n",
    "Utilizando el método de Monte Carlo aplicado anteriormente para la estimación de $\\pi$, estime la integral $I$ utilizando $n$ muestras aleatorias. Usted debe utilizar la siguiente firma:"
   ]
  },
  {
   "cell_type": "code",
   "execution_count": 24,
   "metadata": {},
   "outputs": [],
   "source": [
    "'''\n",
    "input\n",
    "g     :(callable) function to integrate.\n",
    "ta    :(double)   lower limit of integral.\n",
    "tb    :(double)   upper limit of integral.\n",
    "C     :(double)   upper limit of g(t) in the interval [ta,tb].\n",
    "n     :(int)      number of points.\n",
    "\n",
    "output\n",
    "e_int :(double)   estimation of integral.\n",
    "'''\n",
    "def estimate_integral(g, ta, tb, C, n):\n",
    "    rng = np.random.default_rng()\n",
    "    t = ta + (tb - ta)*rng.random(n)\n",
    "    y = C*rng.random(n)\n",
    "    g_t = g(t)\n",
    "    e_int = (tb - ta)*C*np.sum(y < g_t)/n\n",
    "    return e_int\n"
   ]
  },
  {
   "cell_type": "markdown",
   "metadata": {},
   "source": [
    "### Pregunta 2.2 (10 puntos)\n",
    "\n",
    "Estime el valor de la siguiente integral utilizando la función anterior para $n = 10000$ muestras:\n",
    "\n",
    "$$\n",
    "I = \\int_{2\\pi}^{11\\pi/4} (3\\sin(t) + \\cos(t))\\,dt \\quad \\text{donde} \\quad 2\\pi \\leq t \\leq 11\\pi/4 \\quad \\text{y} \\quad 0 \\leq g(t) \\leq 4\n",
    "$$"
   ]
  },
  {
   "cell_type": "code",
   "execution_count": 27,
   "metadata": {},
   "outputs": [
    {
     "name": "stdout",
     "output_type": "stream",
     "text": [
      "5.87823401413186\n"
     ]
    }
   ],
   "source": [
    "n = 10_000\n",
    "# Define the function g(t)\n",
    "g = lambda t: 3 * np.sin(t) + np.cos(t)\n",
    "ta = 2*np.pi\n",
    "tb = 11*np.pi/4\n",
    "C = 4\n",
    "#--------------------------------\n",
    "I = estimate_integral(g,ta,tb,C,n)\n",
    "print(I)"
   ]
  },
  {
   "cell_type": "code",
   "execution_count": null,
   "metadata": {},
   "outputs": [
    {
     "data": {
      "text/plain": [
       "array([0.88985789, 0.43510003, 0.6235598 , 0.58537972, 0.59913174,\n",
       "       0.65568566, 0.51128198, 0.19367975, 0.06896738, 0.25204569])"
      ]
     },
     "execution_count": 24,
     "metadata": {},
     "output_type": "execute_result"
    }
   ],
   "source": [
    "rng.random(10)"
   ]
  },
  {
   "cell_type": "code",
   "execution_count": null,
   "metadata": {},
   "outputs": [],
   "source": []
  }
 ],
 "metadata": {
  "colab": {
   "authorship_tag": "ABX9TyOCXpzxpUUzvonW35UrVpQT",
   "provenance": []
  },
  "kernelspec": {
   "display_name": "Python 3",
   "language": "python",
   "name": "python3"
  },
  "language_info": {
   "codemirror_mode": {
    "name": "ipython",
    "version": 3
   },
   "file_extension": ".py",
   "mimetype": "text/x-python",
   "name": "python",
   "nbconvert_exporter": "python",
   "pygments_lexer": "ipython3",
   "version": "3.12.6"
  }
 },
 "nbformat": 4,
 "nbformat_minor": 4
}
