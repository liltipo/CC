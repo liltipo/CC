{
 "cells": [
  {
   "cell_type": "markdown",
   "metadata": {
    "id": "i8CqoAm_3HT_"
   },
   "source": [
    "<center>\n",
    "    <img src=\"http://sct.inf.utfsm.cl/wp-content/uploads/2020/04/logo_di.png\" style=\"width:60%\">\n",
    "    <h1> INF285 - Computación Científica </h1>\n",
    "    <h2> Laboratorio 2</h2>\n",
    "    <h2> [S]cientific [C]omputing [T]eam </a> </h2>\n",
    "    <h2> 2025-1</h2>\n",
    "</center>"
   ]
  },
  {
   "cell_type": "code",
   "execution_count": 1,
   "metadata": {
    "id": "_EHlH4VK3PEP"
   },
   "outputs": [],
   "source": [
    "import numpy as np"
   ]
  },
  {
   "cell_type": "markdown",
   "metadata": {
    "id": "vuLq2x0C3t2y"
   },
   "source": [
    "# Funciones\n",
    "\n",
    "Para la implementación de las preguntas, considere que **solo** tiene a su disposición las siguientes funciones:\n",
    "\n",
    "* **np.array(x)**: Convierte **x** en un arreglo de NumPy.\n",
    "* **np.arange(n)**: Para **n** un número entero positivo entrega un vector de largo **n** con números enteros desde 0 a n-1.\n",
    "* **np.abs(x)**: Entrega el valor absoluto de **x**.\n",
    "* **np.power(x)**: Evalúa la expresión $x^n$ si **x** y **n** son escalares. En caso de que **x** e **n** sean vectores, deben tener la misma\n",
    "dimensión y entrega la evaluación elemento a elemento. Si solo uno de los términos es un vector, entrega el vector donde\n",
    "el término constante se consideró para cada término de vector.\n",
    "* **np.sqrt(x)**: Entrega la evaluación de la raíz cuadrada no negativa de un vector o escalar **x**.\n",
    "* **np.sum(x)**: Entrega la suma de los elementos de un vector **x**.\n",
    "* **solve_palu(A,b)**: Realiza el método PALU para resolver el sistema $A\\vec{x}=\\vec{b}$ y retorna la solución.\n",
    "* **jacobi(A,b)**: Realiza el método de Jacobi para resolver el sistema $A\\vec{x}=\\vec{b}$ y retorna la matriz de iteraciones del vector solución $\\vec{x}$.\n",
    "* **jacobi_Matricial(A, b, n_iter=50)**: Realiza el método iterativo de Jacobi para resolver el sistema $A\\vec{x}=\\vec{b}$. Retorna una matriz donde cada fila corresponde a una iteración del vector solución $\\vec{x}$.\n",
    "\n",
    "* **np.linalg.norm(A, ord=1)**: Calcula la norma 1 de la matriz **A**, es decir, la suma máxima de valores absolutos por columna.\n",
    "\n",
    "* **np.linalg.norm(A, ord=np.inf)**: Calcula la norma infinito de la matriz **A**, es decir, la suma máxima de valores absolutos por fila.\n",
    "\n",
    "* **np.linalg.norm(A, ord=2)**: Calcula la norma 2 (o espectral) de la matriz **A**, que corresponde al mayor valor singular.\n",
    "\n",
    "* **np.tril(A, k=0)**: Retorna una copia de la matriz **A** con todos los elementos por encima de la k-ésima diagonal puestos a cero. Por defecto, se obtiene la parte triangular inferior estricta con `k=-1`.\n",
    "\n",
    "* **np.triu(A, k=0)**: Similar a `np.tril`, pero retorna la parte triangular superior de la matriz **A**.\n",
    "\n",
    "* **np.diag(A)**: Si **A** es una matriz, retorna el vector con sus elementos diagonales. Si **A** es un vector, crea una matriz diagonal con esos elementos.\n",
    "\n",
    "\n"
   ]
  },
  {
   "cell_type": "code",
   "execution_count": 4,
   "metadata": {
    "id": "JW3QqzMz4s9c"
   },
   "outputs": [],
   "source": [
    "def solve_triangular(A, b, upper=True):\n",
    "    n = b.shape[0]\n",
    "    x = np.zeros_like(b)\n",
    "    if upper==True:\n",
    "        #perform backward-substitution\n",
    "        x[-1] = (1./A[-1,-1]) * b[-1]\n",
    "        for i in range(n-2, -1, -1):\n",
    "            x[i] = (1./A[i,i]) * (b[i] - np.sum(A[i,i+1:] * x[i+1:]))\n",
    "    else:\n",
    "        #perform forward-substitution\n",
    "        x[0] = (1./A[0,0]) * b[0]\n",
    "        for i in range(1,n):\n",
    "            x[i] = (1./A[i,i]) * (b[i] - np.sum(A[i,:i] * x[:i]))\n",
    "    return x\n",
    "\n",
    "\n",
    "#permutation between rows i and j on matrix A\n",
    "def row_perm(A, i, j):\n",
    "    tmp = np.copy(A[i])\n",
    "    A[i] = A[j]\n",
    "    A[j] = tmp\n",
    "\n",
    "\n",
    "def palu_decomp(A, show=False, print_precision=2):\n",
    "    N,_ = A.shape\n",
    "    P = np.identity(N)\n",
    "    L = np.zeros((N,N))\n",
    "    U = np.copy(A)\n",
    "    if show:\n",
    "        print('Initial matrices')\n",
    "        print('P = '); print(np.array_str(P, precision=print_precision, suppress_small=True))\n",
    "        print('L = '); print(np.array_str(L+np.eye(N), precision=print_precision, suppress_small=True))\n",
    "        print('U = '); print(np.array_str(U, precision=print_precision, suppress_small=True))\n",
    "        print('----------------------------------------')\n",
    "    #iterating through columns\n",
    "    for j in range(N-1):\n",
    "        #determine the new pivot\n",
    "        p_index = np.argmax(np.abs(U[j:,j]))\n",
    "        if p_index != 0:\n",
    "            row_perm(P, j, j+p_index)\n",
    "            row_perm(U, j, j+p_index)\n",
    "            row_perm(L, j, j+p_index)\n",
    "            if show:\n",
    "                print('A permutation has been made')\n",
    "                print('P = '); print(np.array_str(P, precision=print_precision, suppress_small=True))\n",
    "                print('L = '); print(np.array_str(L+np.eye(N), precision=print_precision, suppress_small=True))\n",
    "                print('U = '); print(np.array_str(U, precision=print_precision, suppress_small=True))\n",
    "                print('----------------------------------------')\n",
    "        #iterating through rows\n",
    "        for i in range(j+1,N):\n",
    "            L[i,j] = U[i,j]/U[j,j]\n",
    "            U[i] -= L[i,j]*U[j]\n",
    "            if show:\n",
    "                print('P = '); print(np.array_str(P, precision=print_precision, suppress_small=True))\n",
    "                print('L = '); print(np.array_str(L+np.eye(N), precision=print_precision, suppress_small=True))\n",
    "                print('U = '); print(np.array_str(U, precision=print_precision, suppress_small=True))\n",
    "                print('----------------------------------------')\n",
    "    np.fill_diagonal(L,1)\n",
    "    return P,L,U\n",
    "\n",
    "\n",
    "def solve_palu(A, b, show=False, print_precision=2):\n",
    "    P,L,U = palu_decomp(A, show, print_precision=print_precision)\n",
    "    # A.x = b -> P.A.x = P.b = b' -> L.U.x = b'\n",
    "    b = np.dot(P,b)\n",
    "    # L.c = b' with c = U.x\n",
    "    c = solve_triangular(L, b, upper=False)\n",
    "    x = solve_triangular(U, c)\n",
    "    return x\n",
    "\n",
    "\n",
    "def jacobi(A, b, n_iter=50):\n",
    "    n = A.shape[0]\n",
    "    #array with solutions\n",
    "    X = np.empty((n_iter, n))\n",
    "    #initial guess\n",
    "    X[0] = np.zeros(n)\n",
    "    #submatrices\n",
    "    D = np.diag(A)\n",
    "    Dinv = D**-1\n",
    "    R = A - np.diag(D) # R = (L+U)\n",
    "\n",
    "    for i in range(1, n_iter):\n",
    "        X[i] = Dinv*(b - np.dot(R, X[i-1]))\n",
    "\n",
    "    return X\n",
    "\n",
    "\n",
    "def jacobi_Matricial(A,b, n_iter=50):\n",
    "    n = A.shape[0]\n",
    "    #array with solutions\n",
    "    X = np.empty((n_iter, n))\n",
    "    #initial guess\n",
    "    X[0] = np.zeros(n)\n",
    "\n",
    "    L = np.tril(A,-1)\n",
    "    U = np.triu(A,1)\n",
    "    D = np.diag(np.diag(A))\n",
    "    M = -np.dot(np.linalg.inv(D),L+U)\n",
    "    b_hat= np.dot(np.linalg.inv(D),b)\n",
    "\n",
    "    for i in range(1, n_iter):\n",
    "        X[i] = np.dot(M,X[i-1]) + b_hat\n",
    "\n",
    "    return X"
   ]
  },
  {
   "cell_type": "markdown",
   "metadata": {
    "id": "IPoUAK0D2YFf"
   },
   "source": [
    "# Método de Jacobi Matricial\n",
    "Existen 2 formas alternativas de definir el método de *Jacobi*, y cada una tiene su utilidad propia. La segunda forma alternativa del método de Jacobi se basa en escribirlo en la siguiente forma $\\mathbf{x}_{i+1} = M\\,\\mathbf{x}_i +\\widehat{\\mathbf{b}}.$\n",
    "Es decir, la iteración de punto fijo se re-escribe como el producto de la matriz $M$ con el vector $x_i$ más un vector\n",
    "constante $\\widehat{\\mathbf{b}}$. La cual se obtiene el siguiente desarrollo:\n",
    "$$\n",
    "\\begin{align*}\n",
    "    \\mathbf{x}_{i+1} &= D^{-1}(\\mathbf{b}-(L+U)\\,\\mathbf{x}_i)\\\\\n",
    "    &= D^{-1}\\mathbf{b}-D^{-1}(L+U)\\,\\mathbf{x}_i\\\\\n",
    "    &= -D^{-1}(L+U)\\,\\mathbf{x}_i+D^{-1}\\mathbf{b}\n",
    "\\end{align*}\n",
    "$$\n",
    "\n",
    "Entonces, la matriz $M$ para el método de Jacobi corresponde a $M = −D^{−1}(L+U)$ y el vector constante a $\\widehat{\\mathbf{b}} = D^{−1}\\,\\mathbf{b}$.\n",
    "\n",
    "Si definimos el error como en $e_{n+1}= \\|x_{n+1} −x_n\\|$, obtenemos la siguiente relación:\n",
    "$$e_{n+1} \\leq \\|M\\|e_n$$\n",
    "\n",
    "De la desigualdad anterior podemos concluir que si $\\|M\\| \\le 1$, entonces el método reducirá el error, por lo tanto\n",
    "convergerá. Una posible norma a utilizar es $\\|M\\|_{∞}$, pero se puede utilizar cualquier norma matricial. En realidad,\n",
    "si se puede demostrar que para alguna norma matricial $\\|M\\| \\le 1$, entonces el método iterativo anteriormente\n",
    "descrito convergerá."
   ]
  },
  {
   "cell_type": "markdown",
   "metadata": {
    "id": "00eRIKPi48BI"
   },
   "source": [
    "# Materiales No Ohmicos\n",
    "\n",
    "Durante el contexto de este laboratorio, usted pudo visualizar como las leyes de Kirchoff servian como una herramienta para la resolución de circuitos eléctricos.\n",
    "\n",
    "Un paso clave que se utilizó para poder obtener las corrientes que circulan por el circuito corresponde a la ley de Ohm que asume una relación lineal entre la corriente y el voltaje en una resistencia, con una pendiente igual al valor de la resistencia. Esta ley se cumple solamente para algunos tipos de materiales, los cuales son conocidos como materiales Ohmicos, sin embargo existe otro grupo de materiales llamados No-Ohmicos, donde la relación entre el voltaje y la corriente que circula por una resistencia es no lineal (este tipo de resistencias las puede encontrar en diversas aplicaciones como por ejemplo sensores, elementos de electrónica, descargadores de sobretensión, entre otros)\n",
    "\n",
    "Una forma de modelar estas resistencias es por medio de la siguiente relación entre su valor y la corriente que circula por esta (puesto que se puede considerar a la corriente como un indicador de la disipación de calor de la resistencia):\n",
    "\n",
    "$$R(I)=R_i\\sqrt[3]{I^2}$$\n",
    "\n",
    "Ahora considere el circuito de la figura, donde las resistencias estan hechas de materiales No-Ohmicos y tienen los siguientes valores:\n",
    "$(R_1, R_2, R_3, R_4, R_5) = (20,10,20,20,10)$\n",
    "\n",
    "![diagrama](data:image/png;base64,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)\n",
    "\n",
    "Al realizar el analisis de mallas y nodos por medio de las leyes de Kirchoff se obtienen las siguientes ecuaciones:\n",
    "\n",
    "$$R_1 \\sqrt[3]{I_{1}^2} I_1+ R_3 \\sqrt[3]{I_{3}^2} I_3 = 24$$\n",
    "$$R_2 \\sqrt[3]{I_{2}^2} I_2+ R_4 \\sqrt[3]{I_{4}^2} I_4 = 2$$\n",
    "$$-R_3 \\sqrt[3]{I_{3}^2} I_3+ R_4 \\sqrt[3]{I_{4}^2} I_4 + R_5 \\sqrt[3]{I_{5}^2} I_5= 0$$\n",
    "$$I_1 + I_2 -I_3 - I_4 = 0$$\n",
    "$$-I_2 - I_4 + I_5 =0$$\n",
    "\n",
    "\n"
   ]
  },
  {
   "cell_type": "markdown",
   "metadata": {
    "id": "VEP_v5KsppFd"
   },
   "source": [
    "# Preguntas"
   ]
  },
  {
   "cell_type": "markdown",
   "metadata": {
    "id": "_VMaO1TAhhrD"
   },
   "source": [
    "1. **(10 puntos)** Como se ha observado en el contexto anterior, es posible utilizar métodos para resolver sistemas de ecuaciones lineales y así determinar los valores de corrientes $I$ en una red eléctrica. Suponga ahora que los valores de las fuentes del sistema cambian constantemente, mientras que la estructura del circuito permanece fija. ¿Cuál de los métodos conocidos recomendaría utilizar en este caso y por qué?\n",
    "*hint: Think about what changes in the system of equations*"
   ]
  },
  {
   "cell_type": "markdown",
   "metadata": {
    "id": "M2Ykt2uSk-XV"
   },
   "source": [
    "Si los valores dentro de nuestra matriz A cambiasen constantemente, pero se mantuviese la estructura, notaríamos que PALU no es una buena opción, dado que necesitaríamos recalcular nuestras L para cada cambio de valores. Esto nos deja con el método de Jacobi, que mediante una buena aproximación inicial podría obtener el resultado de manera óptima con un menor costo que PALU, solo deberíamos fijarnos en las restricciones presentes en Jacobi."
   ]
  },
  {
   "cell_type": "markdown",
   "metadata": {
    "id": "BG9FZ9e3ptLu"
   },
   "source": [
    "2. **(10 puntos)** Explique por qué los métodos implementados anteriormente (PALU y Jacobi) no funcionarían para resolver el sistema de ecuaciones asociado al modelo propuesto, y en cambio el método de *Newton* en $\\mathbb{R}^{n}$ sí lo haría, fundamente y discuta el por qué."
   ]
  },
  {
   "cell_type": "markdown",
   "metadata": {
    "id": "ioQ3zPIzzrdF"
   },
   "source": [
    "Esto se debe a que ambos deben cumplir ciertas condiciones que son necesarias para su funcionamiento, ya sea que su determinante sea distinto de 0 o que la matriz sea simétrica y positiva. En cambio, el método de Newton busca adaptarse para evitar esos problemas, obteniendo así un resultado fiable."
   ]
  },
  {
   "cell_type": "markdown",
   "metadata": {
    "id": "9S11VbLCzvq8"
   },
   "source": [
    "3. **(25 puntos)** implemente la función $\\mathbf{F}(\\mathbf{p})$ tal que $\\mathbf{F}(\\mathbf{p}) = \\mathbf{0}$, correspondiente a la función $\\mathbf{F}(\\mathbf{x})$ del método de *Newton*, para el sistema de ecuaciones asociado al circuito entregado."
   ]
  },
  {
   "cell_type": "code",
   "execution_count": 80,
   "metadata": {
    "id": "H-d5c1Ps0Ntq"
   },
   "outputs": [],
   "source": [
    "def F(x):\n",
    "    \"\"\"\n",
    "    input:\n",
    "    x         : (float) Initial Guess x\n",
    "\n",
    "    output:\n",
    "    F:(float) Vector F(x) = 0\n",
    "    \"\"\"\n",
    "    ###### acá va su código ######\n",
    "\n",
    "    I1, I2, I3, I4, I5 = x\n",
    "    R1, R2, R3, R4, R5 = 20, 10, 20, 20, 10\n",
    "\n",
    "    \n",
    "\n",
    "    ###### acá va su código ######\n",
    "    return f"
   ]
  },
  {
   "cell_type": "markdown",
   "metadata": {
    "id": "bJqgFgsw8tsy"
   },
   "source": [
    "4. **(25 puntos)** implemente la función **check_jacobi(A)** la cual dada una matríz A, verifica si es factible utilizar el método de *Jacobi Matricial*.\n",
    "*Hint: Think about the condition of this method.*"
   ]
  },
  {
   "cell_type": "code",
   "execution_count": 17,
   "metadata": {
    "id": "oZDHIX-t8t89"
   },
   "outputs": [],
   "source": [
    "def check_jacobi(A):\n",
    "    \"\"\"\n",
    "    input:\n",
    "    A         : (float) Matrix to determinate diagonal dominance.\n",
    "\n",
    "    output:\n",
    "    check_jacobi:(bool) Returns True if the Jacobi method is feasible; otherwise, returns False.\n",
    "    \"\"\"\n",
    "    ###### acá va su código ######\n",
    "    \n",
    "    check_jacobi = False\n",
    "    # Obtenemos la matriz M (nuestra condición)\n",
    "    L = np.tril(A,-1)\n",
    "    U = np.triu(A,1)\n",
    "    D = np.diag(np.diag(A))\n",
    "    M = -np.dot(np.linalg.inv(D),L+U) \n",
    "\n",
    "    # Comprobamos si M cumple la condición\n",
    "    m_n = np.linalg.norm(M, ord=2)\n",
    "    if(m_n <= 1):\n",
    "        check_jacobi = True\n",
    "        \n",
    "    ###### acá va su código ######\n",
    "\n",
    "    return check_jacobi"
   ]
  },
  {
   "cell_type": "markdown",
   "metadata": {
    "id": "cIyMTKWq_uFw"
   },
   "source": [
    "5. **(30 puntos)** Implemente la función ``adaptative_Newton(A,b,iter=50,tol=1e-6)`` que realiza el método iterativo de *Newton* para $\\mathbb{R}^n$, resolviendo el sistema de ecuaciones lineales en cada iteración utilizando *Jacobi Matricial* si es que se asegura la convergencia de este método, y PALU en otro caso, para ello considere que el Jacobiando de F es el siguiente:\n",
    "\n",
    "$$\n",
    "J =\n",
    "\\begin{bmatrix}\n",
    "\\frac{5}{3} R_1 |I_1|^{2/3} & 0 & \\frac{5}{3} R_3 |I_3|^{2/3} & 0 & 0 \\\\\n",
    "0 & \\frac{5}{3} R_2 |I_2|^{2/3} & 0 & \\frac{5}{3} R_4 |I_4|^{2/3} & 0 \\\\\n",
    "0 & 0 & -\\frac{5}{3} R_3 |I_3|^{2/3} & \\frac{5}{3} R_4 |I_4|^{2/3} & \\frac{5}{3} R_5 |I_5|^{2/3} \\\\\n",
    "1 & 1 & -1 & -1 & 0 \\\\\n",
    "0 & -1 & 0 & -1 & 1\n",
    "\\end{bmatrix}\n",
    "$$"
   ]
  },
  {
   "cell_type": "code",
   "execution_count": 21,
   "metadata": {
    "id": "8KH0v92iMCtA"
   },
   "outputs": [],
   "source": [
    "def JacF(x):\n",
    "    I1, I2, I3, I4, I5 = x\n",
    "    R1, R2, R3, R4, R5 = 20, 10, 20, 20, 10\n",
    "\n",
    "    def dfdI(I, R):\n",
    "        return (5/3) * R * np.power(abs(I), 2/3)\n",
    "\n",
    "    J_matrix = np.array([\n",
    "        [dfdI(I1, R1),           0, dfdI(I3, R3),           0,           0],\n",
    "        [          0, dfdI(I2, R2),           0, dfdI(I4, R4),           0],\n",
    "        [          0,           0, -dfdI(I3, R3), dfdI(I4, R4), dfdI(I5, R5)],\n",
    "        [          1,           1,          -1,         -1,           0],\n",
    "        [          0,          -1,           0,         -1,           1]\n",
    "    ])\n",
    "\n",
    "    return J_matrix"
   ]
  },
  {
   "cell_type": "code",
   "execution_count": null,
   "metadata": {
    "id": "r_LYqD9F3X0P"
   },
   "outputs": [],
   "source": [
    "def adaptative_Newton(x0, n, iter=50, tol=1e-6):\n",
    "    \"\"\"\n",
    "    input:\n",
    "    x0    : (ndarray) Initial guess for the pressure vector.\n",
    "    n     : (int) Number of nodes (length of the pressure vector).\n",
    "    iter  : (int) Maximum number of iterations for the Newton-Raphson method. Default is 50.\n",
    "    tol   : (float) Tolerance for convergence. Default is 1e-6.\n",
    "\n",
    "    output:\n",
    "    x     : (ndarray) ApproxiAmated solution vector after convergence of the Newton-Raphson method.\n",
    "    \"\"\"\n",
    "    ###### acá va su código ######\n",
    "\n",
    "    i = 0\n",
    "    # Obtenemos la matriz jacobiana \n",
    "    J = JacF(x0)\n",
    "    while(i < iter):\n",
    "        # Checkeamos si es posible usar Jacobi\n",
    "        jaco = check_jacobi(J)\n",
    "        if jaco:\n",
    "            x = jacobi_Matricial(J, x0)\n",
    "        # Si no es posible usar Jacobi\n",
    "        else:\n",
    "            x = solve_palu(J, x0)\n",
    "        # Salimos del loop si alcanzamos la tolerancia establecida\n",
    "        if(all(x0) - all(x) < tol):\n",
    "            break\n",
    "        # Obtenemos la siguiente matriz jacobiana y guardamos el valor anterior de x\n",
    "        J = JacF(x)\n",
    "        x0 = x\n",
    "        i += 1\n",
    "        \n",
    "    ###### acá va su código ######\n",
    "    return x"
   ]
  },
  {
   "cell_type": "markdown",
   "metadata": {
    "id": "bZb1TEgbJHhZ"
   },
   "source": [
    "*Ejecute siguiente Celda para comprobar sus resultados*"
   ]
  },
  {
   "cell_type": "code",
   "execution_count": 77,
   "metadata": {
    "colab": {
     "base_uri": "https://localhost:8080/"
    },
    "id": "2uHUNX1_7a9l",
    "outputId": "b351784e-6284-45c3-ac9e-580313cb6063"
   },
   "outputs": [
    {
     "data": {
      "text/plain": [
       "array([-0.23125,  1.015  ,  0.26125, -0.4775 ,  1.5375 ])"
      ]
     },
     "execution_count": 77,
     "metadata": {},
     "output_type": "execute_result"
    }
   ],
   "source": [
    "adaptative_Newton(np.array([1., 1.0, 1.0, 1.0, 1.0]),.1,0.1,5)"
   ]
  },
  {
   "cell_type": "code",
   "execution_count": null,
   "metadata": {},
   "outputs": [],
   "source": []
  }
 ],
 "metadata": {
  "colab": {
   "provenance": []
  },
  "kernelspec": {
   "display_name": "Python [conda env:base] *",
   "language": "python",
   "name": "conda-base-py"
  },
  "language_info": {
   "codemirror_mode": {
    "name": "ipython",
    "version": 3
   },
   "file_extension": ".py",
   "mimetype": "text/x-python",
   "name": "python",
   "nbconvert_exporter": "python",
   "pygments_lexer": "ipython3",
   "version": "3.12.7"
  }
 },
 "nbformat": 4,
 "nbformat_minor": 4
}
