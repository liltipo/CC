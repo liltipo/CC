{
  "cells": [
    {
      "cell_type": "markdown",
      "id": "e8c829d8",
      "metadata": {
        "id": "e8c829d8"
      },
      "source": [
        "<center>\n",
        "    <img src=\"http://sct.inf.utfsm.cl/wp-content/uploads/2020/04/logo_di.png\" style=\"width:60%\">\n",
        "    <h1> INF285 - Computación Científica </h1>\n",
        "    <h2> Contexto Laboratorio 2</h2>\n",
        "    <h2> [S]cientific [C]omputing [T]eam </a> </h2>\n",
        "    <h2> 2025-1</h2>\n",
        "</center>"
      ]
    },
    {
      "cell_type": "markdown",
      "id": "B7AyUHiWnQMI",
      "metadata": {
        "id": "B7AyUHiWnQMI"
      },
      "source": [
        "El objetivo del Laboratorio 2 es evaluar los contenidos de **Sistemas de Ecuaciones**, por lo que cualquiera o todos los métodos vistos en clases pueden ser requeridos."
      ]
    },
    {
      "cell_type": "code",
      "execution_count": 2,
      "id": "508f3b8e",
      "metadata": {
        "id": "508f3b8e"
      },
      "outputs": [],
      "source": [
        "\n",
        "import numpy as np"
      ]
    },
    {
      "cell_type": "markdown",
      "id": "O58kvtx9oHLo",
      "metadata": {
        "id": "O58kvtx9oHLo"
      },
      "source": [
        "*Las siguientes implementaciones de los métodos se encuentran en el repositorio en GitHub de los Jupyter Notebooks del curso, link disponible en AULA*."
      ]
    },
    {
      "cell_type": "code",
      "execution_count": 4,
      "id": "wXBuzwCFK4L6",
      "metadata": {
        "id": "wXBuzwCFK4L6"
      },
      "outputs": [],
      "source": [
        "def solve_triangular(A, b, upper=True):\n",
        "    n = b.shape[0]\n",
        "    x = np.zeros_like(b)\n",
        "    if upper==True:\n",
        "        #perform backward-substitution\n",
        "        x[-1] = (1./A[-1,-1]) * b[-1]\n",
        "        for i in range(n-2, -1, -1):\n",
        "            x[i] = (1./A[i,i]) * (b[i] - np.sum(A[i,i+1:] * x[i+1:]))\n",
        "    else:\n",
        "        #perform forward-substitution\n",
        "        x[0] = (1./A[0,0]) * b[0]\n",
        "        for i in range(1,n):\n",
        "            x[i] = (1./A[i,i]) * (b[i] - np.sum(A[i,:i] * x[:i]))\n",
        "    return x\n",
        "\n",
        "\n",
        "#permutation between rows i and j on matrix A\n",
        "def row_perm(A, i, j):\n",
        "    tmp = np.copy(A[i])\n",
        "    A[i] = A[j]\n",
        "    A[j] = tmp\n",
        "\n",
        "\n",
        "def palu_decomp(A, show=False, print_precision=2):\n",
        "    N,_ = A.shape\n",
        "    P = np.identity(N)\n",
        "    L = np.zeros((N,N))\n",
        "    U = np.copy(A)\n",
        "    if show:\n",
        "        print('Initial matrices')\n",
        "        print('P = '); print(np.array_str(P, precision=print_precision, suppress_small=True))\n",
        "        print('L = '); print(np.array_str(L+np.eye(N), precision=print_precision, suppress_small=True))\n",
        "        print('U = '); print(np.array_str(U, precision=print_precision, suppress_small=True))\n",
        "        print('----------------------------------------')\n",
        "    #iterating through columns\n",
        "    for j in range(N-1):\n",
        "        #determine the new pivot\n",
        "        p_index = np.argmax(np.abs(U[j:,j]))\n",
        "        if p_index != 0:\n",
        "            row_perm(P, j, j+p_index)\n",
        "            row_perm(U, j, j+p_index)\n",
        "            row_perm(L, j, j+p_index)\n",
        "            if show:\n",
        "                print('A permutation has been made')\n",
        "                print('P = '); print(np.array_str(P, precision=print_precision, suppress_small=True))\n",
        "                print('L = '); print(np.array_str(L+np.eye(N), precision=print_precision, suppress_small=True))\n",
        "                print('U = '); print(np.array_str(U, precision=print_precision, suppress_small=True))\n",
        "                print('----------------------------------------')\n",
        "        #iterating through rows\n",
        "        for i in range(j+1,N):\n",
        "            L[i,j] = U[i,j]/U[j,j]\n",
        "            U[i] -= L[i,j]*U[j]\n",
        "            if show:\n",
        "                print('P = '); print(np.array_str(P, precision=print_precision, suppress_small=True))\n",
        "                print('L = '); print(np.array_str(L+np.eye(N), precision=print_precision, suppress_small=True))\n",
        "                print('U = '); print(np.array_str(U, precision=print_precision, suppress_small=True))\n",
        "                print('----------------------------------------')\n",
        "    np.fill_diagonal(L,1)\n",
        "    return P,L,U\n",
        "\n",
        "\n",
        "def solve_palu(A, b, show=False, print_precision=2):\n",
        "    P,L,U = palu_decomp(A, show, print_precision=print_precision)\n",
        "    # A.x = b -> P.A.x = P.b = b' -> L.U.x = b'\n",
        "    b = np.dot(P,b)\n",
        "    # L.c = b' with c = U.x\n",
        "    c = solve_triangular(L, b, upper=False)\n",
        "    x = solve_triangular(U, c)\n",
        "    return x\n",
        "\n",
        "\n",
        "def jacobi(A, b, n_iter=50):\n",
        "    n = A.shape[0]\n",
        "    #array with solutions\n",
        "    X = np.empty((n_iter, n))\n",
        "    #initial guess\n",
        "    X[0] = np.zeros(n)\n",
        "    #submatrices\n",
        "    D = np.diag(A)\n",
        "    Dinv = D**-1\n",
        "    R = A - np.diag(D) # R = (L+U)\n",
        "    for i in range(1, n_iter):\n",
        "        # X[i] = Dinv*(b - np.dot(R, X[i-1]))\n",
        "        # v1.12\n",
        "        ri = b - np.dot(A, X[i-1])\n",
        "        X[i] = X[i-1]+Dinv*ri # = np.dot(np.linalg.inv(D),ri)\n",
        "    return X"
      ]
    },
    {
      "cell_type": "code",
      "execution_count": 10,
      "id": "d8d900d3",
      "metadata": {},
      "outputs": [
        {
          "name": "stdout",
          "output_type": "stream",
          "text": [
            "A:\n",
            " [[ 1.   -3.   -0.25  0.  ]\n",
            " [ 3.   -1.   -0.5  -1.  ]\n",
            " [ 0.5   0.25  3.   -0.5 ]\n",
            " [ 1.    0.    1.   -3.  ]]\n",
            "Palu solution:\n",
            " [-0.13636364  1.65656566 -0.42424242 -1.85353535]\n",
            "Jacobi solution:\n",
            " [-4.00140747e+23  1.34373671e+23  1.89333100e+21  1.58269187e+22]\n",
            "A:\n",
            " [[ 3.   -1.   -0.5  -1.  ]\n",
            " [ 1.   -3.   -0.25  0.  ]\n",
            " [ 0.5   0.25  3.   -0.5 ]\n",
            " [ 1.    0.    1.   -3.  ]]\n",
            "Palu solution:\n",
            " [-2.81818182 -0.94949495  0.12121212 -2.56565657]\n",
            "Jacobi solution:\n",
            " [-2.81818182 -0.94949495  0.12121212 -2.56565657]\n"
          ]
        }
      ],
      "source": [
        "A_prim = np.array([[3., -1., -.5, -1.],\n",
        "                 [1., -3., -.25, 0.],\n",
        "                 [.5, .25, 3., -.5],\n",
        "                 [1., 0., 1., -3.]])\n",
        "\n",
        "row_perm(A_prim, 0, 1)\n",
        "print(\"A:\\n\", A_prim)\n",
        "palu_a = solve_palu(A_prim, np.array([-5, 0, 0, 5]))\n",
        "jacobi_a = jacobi(A_prim, np.array([-5, 0, 0, 5]))[-1]\n",
        "print(\"Palu solution:\\n\", palu_a)\n",
        "print(\"Jacobi solution:\\n\", jacobi_a)\n",
        "row_perm(A_prim, 0, 1)\n",
        "print(\"A:\\n\", A_prim)\n",
        "palu_b = solve_palu(A_prim, np.array([-5, 0, 0, 5]))\n",
        "jacobi_b = jacobi(A_prim, np.array([-5, 0, 0, 5]))[-1]\n",
        "print(\"Palu solution:\\n\", palu_b)\n",
        "print(\"Jacobi solution:\\n\", jacobi_b)"
      ]
    },
    {
      "cell_type": "markdown",
      "id": "e24547a9",
      "metadata": {
        "id": "e24547a9"
      },
      "source": [
        "# Contexto\n",
        "\n",
        "En una red de canales hidráulicos, el flujo de agua entre nodos (conexiones entre embalses, estaciones o compuertas) depende de las diferencias de presión y de la resistencia de cada canal (por fricción, estrechamiento, etc.). Supondremos una red plana con nodos conectados entre sí, donde el flujo cumple una versión discreta de la **ley de conservación de masa** (la suma de los flujos entrantes menos los salientes es igual a cero).\n",
        "\n",
        "Dada una red de canales representada por un **grafo dirigido**, donde cada arista tiene una resistencia hidráulica $R_{ij}$, se requiere encontrar las presiones $p_{1}, p_{2}, \\dots, p_{n}$ en los nodos, tal que se conserve el flujo y se respeten los caudales conocidos.\n",
        "\n",
        "Cada canal (arista del grafo) entre los nodos $i$ y $j$ tiene un flujo que depende de la diferencia de presión entre sus extremos y su propia resistencia hidráulica:\n",
        "\n",
        "$$\n",
        "q_{ij} = \\frac{p_{i} - p_{j}}{R_{ij}}\n",
        "$$\n",
        "\n",
        "La **conservación de masa** para el nodo $i$ implica que para cada nodo:\n",
        "\n",
        "$$\n",
        "\\sum_{j \\in \\text{vecinos}(i)} q_{ij} = \\sum_{\\text{entradas}(i)} \\frac{p_{j} - p_{i}}{R_{ji}} + \\sum_{\\text{salidas}(i)} \\frac{p_{i} - p_{j}}{R_{ij}} = d_{i}\n",
        "$$\n",
        "\n",
        "donde $d_{i}$ es el **caudal neto** en el nodo $i$ (positivo si entra agua, negativo si sale).\n",
        "\n",
        "Considere el siguiente grafo dirigido que representa una red de canales hidráulicos:\n",
        "\n",
        "<p align=\"center\">\n",
        "  <img src=\"img/red.png\" alt=\"Red de canales hidráulicos\" style=\"margin:auto;width:500px;\"/>\n",
        "</p>\n",
        "\n",
        "Para esta red, el desarrollo de la conservación de masa en cada nodo entrega el siguiente sistema de ecuaciones:\n",
        "\n",
        "$$\n",
        "\\begin{align*}\n",
        "(\\text{Nodo } 1) \\quad & \\frac{p_{1} - p_{2}}{R_{12}} + \\frac{p_{1} - p_{3}}{R_{13}} + \\frac{p_{1} - p_{4}}{R_{14}} = -5 \\\\\n",
        "(\\text{Nodo } 2) \\quad & \\frac{p_{1} - p_{2}}{R_{12}} + \\frac{p_{2} - p_{3}}{R_{23}} = 0 \\\\\n",
        "(\\text{Nodo } 3) \\quad & \\frac{p_{2} - p_{3}}{R_{23}} + \\frac{p_{1} - p_{3}}{R_{13}} + \\frac{p_{3} - p_{4}}{R_{34}} = 0 \\\\\n",
        "(\\text{Nodo } 4) \\quad & \\frac{p_{1} - p_{4}}{R_{14}} + \\frac{p_{3} - p_{4}}{R_{34}} = 5\n",
        "\\end{align*}\n",
        "$$\n",
        "\n",
        "Al factorizar estas ecuaciones, obtenemos:\n",
        "\n",
        "$$\n",
        "\\begin{align*}\n",
        "(\\text{Nodo } 1) \\quad & p_{1} \\left(\\frac{1}{R_{12}} + \\frac{1}{R_{13}} + \\frac{1}{R_{14}}\\right) + p_{2} \\left(-\\frac{1}{R_{12}}\\right) + p_{3} \\left(-\\frac{1}{R_{13}}\\right) + p_{4} \\left(-\\frac{1}{R_{14}}\\right) = -5 \\\\\n",
        "(\\text{Nodo } 2) \\quad & p_{1} \\left(\\frac{1}{R_{12}}\\right) + p_{2} \\left(\\frac{1}{R_{23}} - \\frac{1}{R_{12}}\\right) + p_{3} \\left(-\\frac{1}{R_{23}}\\right) = 0 \\\\\n",
        "(\\text{Nodo } 3) \\quad & p_{1} \\left(\\frac{1}{R_{13}}\\right) + p_{2} \\left(\\frac{1}{R_{23}}\\right) + p_{3} \\left(-\\frac{1}{R_{23}} - \\frac{1}{R_{13}} - \\frac{1}{R_{34}}\\right) + p_{4} \\left(-\\frac{1}{R_{34}}\\right) = 0 \\\\\n",
        "(\\text{Nodo } 4) \\quad & p_{1} \\left(\\frac{1}{R_{14}}\\right) + p_{3} \\left(\\frac{1}{R_{34}}\\right) + p_{4} \\left(-\\frac{1}{R_{14}} - \\frac{1}{R_{34}}\\right) = 5\n",
        "\\end{align*}\n",
        "$$\n",
        "\n",
        "Esto permite expresar el sistema en forma matricial $A\\vec{x} = \\vec{b}$:\n",
        "\n",
        "$$\n",
        "\\begin{bmatrix}\n",
        "\\frac{1}{R_{12}} + \\frac{1}{R_{13}} + \\frac{1}{R_{14}} & -\\frac{1}{R_{12}} & -\\frac{1}{R_{13}} & -\\frac{1}{R_{14}} \\\\\n",
        "\\frac{1}{R_{12}} & \\frac{1}{R_{23}} - \\frac{1}{R_{12}} & -\\frac{1}{R_{23}} & 0 \\\\\n",
        "\\frac{1}{R_{13}} & \\frac{1}{R_{23}} & -\\frac{1}{R_{23}} - \\frac{1}{R_{13}} - \\frac{1}{R_{34}} & -\\frac{1}{R_{34}} \\\\\n",
        "\\frac{1}{R_{14}} & 0 & \\frac{1}{R_{34}} & -\\frac{1}{R_{14}} - \\frac{1}{R_{34}}\n",
        "\\end{bmatrix}\n",
        "\\begin{bmatrix}\n",
        "p_{1} \\\\\n",
        "p_{2} \\\\\n",
        "p_{3} \\\\\n",
        "p_{4}\n",
        "\\end{bmatrix}\n",
        "=\n",
        "\\begin{bmatrix}\n",
        "-5 \\\\\n",
        "0 \\\\\n",
        "0 \\\\\n",
        "5\n",
        "\\end{bmatrix}\n",
        "$$\n",
        "\n",
        "Este es un sistema lineal de $4 \\times 4$ que puede resolverse con métodos numéricos como **PALU** (descomposición LU con pivoteo) o **Jacobi**. Para ello, se asignarán los valores de resistencia:  \n",
        "$R_{12} = 1$, $R_{13} = 2$, $R_{14} = 1$, $R_{23} = 4$, $R_{34} = 1$."
      ]
    },
    {
      "cell_type": "code",
      "execution_count": 3,
      "id": "Xg_Ty4ydLays",
      "metadata": {
        "colab": {
          "base_uri": "https://localhost:8080/"
        },
        "id": "Xg_Ty4ydLays",
        "outputId": "5bcdf46e-e5f6-494c-e89a-0a60f2efe9c8"
      },
      "outputs": [
        {
          "name": "stdout",
          "output_type": "stream",
          "text": [
            "A:\n",
            " [[ 2.5  -1.   -0.5  -1.  ]\n",
            " [ 1.   -0.75 -0.25  0.  ]\n",
            " [ 0.5   0.25  0.25 -0.5 ]\n",
            " [ 1.    0.    1.   -2.  ]]\n",
            "b:\n",
            " [-5  0  0  5]\n"
          ]
        }
      ],
      "source": [
        "A = np.array([[2.5, -1., -.5, -1.],\n",
        "              [1., -.75, -.25, 0.],\n",
        "              [.5, .25, 0.25, -.5],\n",
        "              [1., 0., 1., -2.]])\n",
        "\n",
        "b = np.array([-5, 0, 0, 5])\n",
        "\n",
        "print(\"A:\\n\",A)\n",
        "print(\"b:\\n\",b)"
      ]
    },
    {
      "cell_type": "code",
      "execution_count": 4,
      "id": "4HjvRwOwPKXD",
      "metadata": {
        "colab": {
          "base_uri": "https://localhost:8080/"
        },
        "id": "4HjvRwOwPKXD",
        "outputId": "3911b8b3-08fe-4441-fa15-ce89abe00dd9"
      },
      "outputs": [
        {
          "name": "stdout",
          "output_type": "stream",
          "text": [
            "PALU; x: [-0.625 -4.375 10.625  2.5  ]\n"
          ]
        }
      ],
      "source": [
        "x_palu = solve_palu(A,b)\n",
        "print(\"PALU; x:\",x_palu)"
      ]
    },
    {
      "cell_type": "code",
      "execution_count": 5,
      "id": "0dy4GFipOPD7",
      "metadata": {
        "colab": {
          "base_uri": "https://localhost:8080/"
        },
        "id": "0dy4GFipOPD7",
        "outputId": "4e7ca113-bd8e-42b1-9e5e-ab577e7bdcd3"
      },
      "outputs": [
        {
          "name": "stdout",
          "output_type": "stream",
          "text": [
            "JACOBI; x: [11.35856885 13.33549134 -1.25947294 10.88728433]\n"
          ]
        }
      ],
      "source": [
        "x_jacobi = jacobi(A,b)[-1]\n",
        "print(\"JACOBI; x:\",x_jacobi)"
      ]
    },
    {
      "cell_type": "code",
      "execution_count": 6,
      "id": "Y1YoJzgwStLf",
      "metadata": {
        "colab": {
          "base_uri": "https://localhost:8080/"
        },
        "id": "Y1YoJzgwStLf",
        "outputId": "e8f06ae8-4e52-4642-83ef-cb964523b707"
      },
      "outputs": [
        {
          "name": "stdout",
          "output_type": "stream",
          "text": [
            "Error: 25.86222460380605\n"
          ]
        }
      ],
      "source": [
        "error = np.linalg.norm(x_palu-x_jacobi)\n",
        "print(\"Error:\",error)"
      ]
    },
    {
      "cell_type": "markdown",
      "id": "GAyFwPgsPhwe",
      "metadata": {
        "id": "GAyFwPgsPhwe"
      },
      "source": [
        "### Comparación entre PALU y Jacobi para el sistema hidráulico\n",
        "\n",
        "En este caso, el método de Jacobi no entregó el mismo resultado que PALU, lo cual se debe a que la matriz $A$ no es diagonal dominante (condición necesaria para Jacobi). Sin embargo, si por ejemplo la matriz $A$ hubiese resultado en:\n",
        "\n",
        "$$\n",
        "A' =\n",
        "\\begin{bmatrix}\n",
        "3 & -1 & -0.5 & -1 \\\\\n",
        "1 & -3 & -0.25 & 0 \\\\\n",
        "0.5 & 0.25 & 3 & -0.5 \\\\\n",
        "1 & 0 & 1 & -3 \\\\\n",
        "\\end{bmatrix}\n",
        "$$\n",
        "\n",
        "la cual sí es diagonal dominante, el método de Jacobi converge correctamente a la solución, utilizando menos recursos que PALU, especialmente en instancias grandes. A continuación se resuelve el sistema con $A'$."
      ]
    },
    {
      "cell_type": "code",
      "execution_count": 7,
      "id": "wT9T6J1OQ35l",
      "metadata": {
        "colab": {
          "base_uri": "https://localhost:8080/"
        },
        "id": "wT9T6J1OQ35l",
        "outputId": "062e2c7f-7af5-4109-dc31-f4dc830e67ad"
      },
      "outputs": [
        {
          "name": "stdout",
          "output_type": "stream",
          "text": [
            "A´:\n",
            " [[ 3.   -1.   -0.5  -1.  ]\n",
            " [ 1.   -3.   -0.25  0.  ]\n",
            " [ 0.5   0.25  3.   -0.5 ]\n",
            " [ 1.    0.    1.   -3.  ]]\n",
            "b:\n",
            " [-5  0  0  5]\n"
          ]
        }
      ],
      "source": [
        "A_prim = np.array([[3., -1., -.5, -1.],\n",
        "                 [1., -3., -.25, 0.],\n",
        "                 [.5, .25, 3., -.5],\n",
        "                 [1., 0., 1., -3.]])\n",
        "print(\"A´:\\n\",A_prim)\n",
        "print(\"b:\\n\",b)"
      ]
    },
    {
      "cell_type": "code",
      "execution_count": 8,
      "id": "ydXqqvyaREGk",
      "metadata": {
        "colab": {
          "base_uri": "https://localhost:8080/"
        },
        "id": "ydXqqvyaREGk",
        "outputId": "495907fc-875b-47b0-d93b-328a3b0c6069"
      },
      "outputs": [
        {
          "name": "stdout",
          "output_type": "stream",
          "text": [
            "PALU; x´: [-2.81818182 -0.94949495  0.12121212 -2.56565657]\n"
          ]
        }
      ],
      "source": [
        "x_prim_palu = solve_palu(A_prim,b)\n",
        "print(\"PALU; x´:\",x_prim_palu)"
      ]
    },
    {
      "cell_type": "code",
      "execution_count": 9,
      "id": "-XClA1tPREXj",
      "metadata": {
        "colab": {
          "base_uri": "https://localhost:8080/"
        },
        "id": "-XClA1tPREXj",
        "outputId": "9ab23382-242f-4474-f45a-9a0133f193df"
      },
      "outputs": [
        {
          "name": "stdout",
          "output_type": "stream",
          "text": [
            "JACOBI; x´: [-2.81818182 -0.94949495  0.12121212 -2.56565657]\n"
          ]
        }
      ],
      "source": [
        "x_prim_jacobi = jacobi(A_prim,b)[-1]\n",
        "print(\"JACOBI; x´:\",x_prim_jacobi)"
      ]
    },
    {
      "cell_type": "code",
      "execution_count": 10,
      "id": "_Yeemip-REpV",
      "metadata": {
        "colab": {
          "base_uri": "https://localhost:8080/"
        },
        "id": "_Yeemip-REpV",
        "outputId": "5a00c763-b9de-430f-ab93-7cf45eafbc21"
      },
      "outputs": [
        {
          "name": "stdout",
          "output_type": "stream",
          "text": [
            "Error: 1.1102230246251565e-16\n"
          ]
        }
      ],
      "source": [
        "error_prim = np.linalg.norm(x_prim_palu-x_prim_jacobi)\n",
        "print(\"Error:\",error_prim)"
      ]
    },
    {
      "cell_type": "markdown",
      "id": "ETi5oAbLtTNn",
      "metadata": {
        "id": "ETi5oAbLtTNn"
      },
      "source": [
        "Un problema análogo en el cual se puede realizar este análisis es al determinar las corrientes involucradas en un circuito eléctrico donde se conocen las conexiones y los voltajes, aplicando las leyes de Kirchhoff.\n",
        "\n",
        "Las leyes de Kirchhoff se basan en el principio de conservación de carga y energía, pero antes de estudiarlas, es necesario hacer algunas definiciones:\n",
        "\n",
        "* **Nodo**: Intersección de tres o más conductores.\n",
        "* **Malla**: Todo recorrido cerrado en un circuito.\n",
        "* **Rama**: Elemento o grupo de elementos conectados entre dos nodos.\n",
        "\n",
        "### Leyes fundamentales\n",
        "\n",
        "1. **Ley de Corrientes de Kirchhoff (LCK)**:\n",
        "   Basada en la conservación de carga en cada nodo:\n",
        "   $$ \\sum_{k=1}^{n} I_k = 0 $$\n",
        "\n",
        "2. **Ley de Voltajes de Kirchhoff (LVK)**:\n",
        "   Establece la conservación de energía en mallas:\n",
        "   $$ \\sum_{k=1}^{n} V_k = 0 $$\n",
        "\n",
        "3. **Ley de Ohm**:\n",
        "   Relación fundamental entre voltaje, corriente y resistencia:\n",
        "   $$ V_i = I_i \\cdot R_i $$\n",
        "\n",
        "### Análisis del circuito eléctrico\n",
        "\n",
        "Considere el siguiente circuito:\n",
        "<p align=\"center\">\n",
        "  <img src=\"img/circuito.png\" alt=\"Circuito eléctrico\" style=\"margin:auto;width:500px;\"/>\n",
        "</p>\n",
        "\n",
        "#### Ecuaciones derivadas:\n",
        "\n",
        "1. **Aplicando LVK a las mallas**:\n",
        "   $$ \\begin{align*}\n",
        "   (Malla\\;1) & \\quad V_1 + V_3 = 24 \\\\\n",
        "   (Malla\\;2) & \\quad V_2 - V_3 = -2\n",
        "   \\end{align*} $$\n",
        "\n",
        "2. **Aplicando LCK al nodo superior**:\n",
        "   $$ I_1 = I_2 + I_3 $$\n",
        "\n",
        "Aplicando la ley de Ohm y reordenando términos se puede llegar al siguiente sistema en forma matricial $A\\vec{x} = \\vec{b}$:  \n",
        "\n",
        "$$\n",
        "\\left[\\begin{array}{ccc}\n",
        "R_1 & 0 & R_3 \\\\\n",
        "0 & -R_2 & R_3 \\\\\n",
        "1 & -1 & -1\n",
        "\\end{array}\\right]\\left[\\begin{array}{l}\n",
        "I_1 \\\\\n",
        "I_2 \\\\\n",
        "I_3\n",
        "\\end{array}\\right]=\\left[\\begin{array}{c}\n",
        "24 \\\\\n",
        "2 \\\\\n",
        "0\n",
        "\\end{array}\\right]\n",
        "$$\n",
        "\n",
        "Este es un sistema lineal de $3 \\times 3$ que puede resolverse con métodos numéricos como **PALU** (descomposición LU con pivoteo) o **Jacobi**. Para ello:"
      ]
    },
    {
      "cell_type": "code",
      "execution_count": 11,
      "id": "qYSzjeT5zz2G",
      "metadata": {
        "colab": {
          "base_uri": "https://localhost:8080/"
        },
        "id": "qYSzjeT5zz2G",
        "outputId": "029dcb31-f551-474e-d2a3-24ece0c848c3"
      },
      "outputs": [
        {
          "name": "stdout",
          "output_type": "stream",
          "text": [
            "A:\n",
            " [[ 1.  0.  1.]\n",
            " [ 0. -2.  1.]\n",
            " [ 1. -1. -1.]]\n",
            "b:\n",
            " [24.  2.  0.]\n"
          ]
        }
      ],
      "source": [
        "A = np.array([\n",
        "    [1.,  0.,  1.],\n",
        "    [0., -2.,  1.],\n",
        "    [1., -1., -1.]])\n",
        "\n",
        "b = np.array([24., 2., 0.])\n",
        "\n",
        "print(\"A:\\n\",A)\n",
        "print(\"b:\\n\",b)"
      ]
    },
    {
      "cell_type": "code",
      "execution_count": 12,
      "id": "lMACJVoJz88T",
      "metadata": {
        "colab": {
          "base_uri": "https://localhost:8080/"
        },
        "id": "lMACJVoJz88T",
        "outputId": "a7ce873d-a5ee-4230-8bc6-b74a8938a000"
      },
      "outputs": [
        {
          "name": "stdout",
          "output_type": "stream",
          "text": [
            "PALU; x: [14.  4. 10.]\n"
          ]
        }
      ],
      "source": [
        "x_palu = solve_palu(A,b)\n",
        "print(\"PALU; x:\",x_palu)"
      ]
    },
    {
      "cell_type": "code",
      "execution_count": 13,
      "id": "-jpQtDlc0R-V",
      "metadata": {
        "colab": {
          "base_uri": "https://localhost:8080/"
        },
        "id": "-jpQtDlc0R-V",
        "outputId": "85a6dd62-5829-4da0-e659-a4c5552a849b"
      },
      "outputs": [
        {
          "name": "stdout",
          "output_type": "stream",
          "text": [
            "JACOBI; x: [ 168355.12196028  -84166.56098014 -168331.12196028]\n"
          ]
        }
      ],
      "source": [
        "x_jacobi = jacobi(A,b)[-1]\n",
        "print(\"JACOBI; x:\",x_jacobi)"
      ]
    },
    {
      "cell_type": "code",
      "execution_count": 14,
      "id": "u2K6pPOM0Urz",
      "metadata": {
        "colab": {
          "base_uri": "https://localhost:8080/"
        },
        "id": "u2K6pPOM0Urz",
        "outputId": "9d3daa9e-7bdb-4542-9214-0996a1eee580"
      },
      "outputs": [
        {
          "name": "stdout",
          "output_type": "stream",
          "text": [
            "Error: 252511.6829404235\n"
          ]
        }
      ],
      "source": [
        "error = np.linalg.norm(x_palu-x_jacobi)\n",
        "print(\"Error:\",error)"
      ]
    },
    {
      "cell_type": "markdown",
      "id": "d1bsgQXZ0ZP7",
      "metadata": {
        "id": "d1bsgQXZ0ZP7"
      },
      "source": [
        "### Comparación entre PALU y Jacobi para el circuito\n",
        "\n",
        "Nuevamente el método de jacobi no entregó el mismo resultado que PALU, debido a a que la matríz A no es diagonal dominante, si por ejemplo la matríz A hubiese resultado en:\n",
        "$$ A^{'} =\n",
        "\\left[\\begin{array}{ccc}\n",
        "2 & 0 & 1 \\\\\n",
        "0 & -2 & 1 \\\\\n",
        "1 & -1 & -4\n",
        "\\end{array}\\right]\n",
        "$$\n",
        "La cual sí es diagonal dominante, el método de Jacobi converge correctamente a la solución. A continuación se resuelve el sistema con $A^{'}$."
      ]
    },
    {
      "cell_type": "code",
      "execution_count": 15,
      "id": "Zt02XwtK0tix",
      "metadata": {
        "colab": {
          "base_uri": "https://localhost:8080/"
        },
        "id": "Zt02XwtK0tix",
        "outputId": "63f63073-d6d2-463b-e4ff-49a5b2b5940e"
      },
      "outputs": [
        {
          "name": "stdout",
          "output_type": "stream",
          "text": [
            "A´:\n",
            " [[ 2.  0.  1.]\n",
            " [ 0. -2.  1.]\n",
            " [ 1. -1. -4.]]\n",
            "b:\n",
            " [24.  2.  0.]\n"
          ]
        }
      ],
      "source": [
        "A_prim = np.array([\n",
        "    [2.,  0.,  1.],\n",
        "    [0., -2.,  1.],\n",
        "    [1., -1., -4.]])\n",
        "print(\"A´:\\n\",A_prim)\n",
        "print(\"b:\\n\",b)"
      ]
    },
    {
      "cell_type": "code",
      "execution_count": 16,
      "id": "pLrOEBmK01KV",
      "metadata": {
        "colab": {
          "base_uri": "https://localhost:8080/"
        },
        "id": "pLrOEBmK01KV",
        "outputId": "4f0ab551-194f-4b3e-c0d0-c8a7ae2e0985"
      },
      "outputs": [
        {
          "name": "stdout",
          "output_type": "stream",
          "text": [
            "PALU; x´: [10.7  0.3  2.6]\n"
          ]
        }
      ],
      "source": [
        "x_prim_palu = solve_palu(A_prim,b)\n",
        "print(\"PALU; x´:\",x_prim_palu)"
      ]
    },
    {
      "cell_type": "code",
      "execution_count": 17,
      "id": "psDF6-6V02oV",
      "metadata": {
        "colab": {
          "base_uri": "https://localhost:8080/"
        },
        "id": "psDF6-6V02oV",
        "outputId": "9349fbce-6d5d-401d-c225-16527ca65401"
      },
      "outputs": [
        {
          "name": "stdout",
          "output_type": "stream",
          "text": [
            "JACOBI; x´: [10.7  0.3  2.6]\n"
          ]
        }
      ],
      "source": [
        "x_prim_jacobi = jacobi(A_prim,b)[-1]\n",
        "print(\"JACOBI; x´:\",x_prim_jacobi)"
      ]
    },
    {
      "cell_type": "code",
      "execution_count": 18,
      "id": "2zSg1H73031h",
      "metadata": {
        "colab": {
          "base_uri": "https://localhost:8080/"
        },
        "id": "2zSg1H73031h",
        "outputId": "c1092e50-ca7d-44c5-9fbf-c5d7dc825027"
      },
      "outputs": [
        {
          "name": "stdout",
          "output_type": "stream",
          "text": [
            "Error: 1.1709563872695136e-14\n"
          ]
        }
      ],
      "source": [
        "error_prim = np.linalg.norm(x_prim_palu-x_prim_jacobi)\n",
        "print(\"Error:\",error_prim)"
      ]
    }
  ],
  "metadata": {
    "colab": {
      "provenance": []
    },
    "kernelspec": {
      "display_name": "Python 3",
      "language": "python",
      "name": "python3"
    },
    "language_info": {
      "codemirror_mode": {
        "name": "ipython",
        "version": 3
      },
      "file_extension": ".py",
      "mimetype": "text/x-python",
      "name": "python",
      "nbconvert_exporter": "python",
      "pygments_lexer": "ipython3",
      "version": "3.12.6"
    }
  },
  "nbformat": 4,
  "nbformat_minor": 5
}
