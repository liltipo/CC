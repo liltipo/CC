{
 "cells": [
  {
   "cell_type": "markdown",
   "id": "5965150c-7b80-49e0-9267-9560754c152d",
   "metadata": {},
   "source": [
    "<center>\n",
    "    <img src=\"http://sct.inf.utfsm.cl/wp-content/uploads/2020/04/logo_di.png\" style=\"width:60%\">\n",
    "    <h1> INF285 - Computación Científica </h1>\n",
    "    <h2> Tarea 2 v3 - Rúbrica</h2>\n",
    "    <h2> [S]cientific [C]omputing [T]eam </a> </h2>\n",
    "    <h2> 2024-2</h2>\n",
    "</center>"
   ]
  },
  {
   "cell_type": "markdown",
   "id": "2fc283ff-723a-409e-a198-4bea80ca2388",
   "metadata": {},
   "source": [
    "# Consultas\n",
    "\n",
    "* Enviar a: **tareas.inf285@gmail.com**\n",
    "* Se recibirán consultas en **tres** bloques:\n",
    "1. El primer bloque será desde las 12:15 hrs. hasta las 17:00 hrs. del día jueves, donde todas las preguntas recibidas dentro de este bloque se responderán con seguridad a partir de las 17:01 hrs. del día jueves.\n",
    "2. El segundo bloque de consultas será desde las 17:01 hrs. del día jueves hasta las 08:15 hrs. del día viernes, donde las preguntas recibidas dentro de este bloque horario se responderán con seguridad a partir de las 08:16 hrs. del día viernes.\n",
    "3. El tercer, y último bloque, de consultas será desde las 08:16 hrs. hasta las 14:30 hrs. del día viernes, donde las preguntas recibidas dentro de este bloque horario se responderán con seguridad a partir de las 14:31 hrs. del día viernes."
   ]
  },
  {
   "cell_type": "markdown",
   "id": "4beec7f5-9da4-498a-831f-8b229ce4bb9d",
   "metadata": {},
   "source": [
    "# Librerías (no utilizar liberías adicionales)"
   ]
  },
  {
   "cell_type": "code",
   "execution_count": null,
   "id": "4dc5b190",
   "metadata": {},
   "outputs": [],
   "source": [
    "# ejecute una sola vez en caso de estar en un entorno virtual (quizás se solicite instalar ipykernel previamente)\n",
    "!pip install -r requirements.txt"
   ]
  },
  {
   "cell_type": "code",
   "execution_count": null,
   "id": "1534d15d",
   "metadata": {},
   "outputs": [],
   "source": [
    "%matplotlib widget\n",
    "import matplotlib.pyplot as plt\n",
    "import numpy as np \n",
    "from matplotlib.widgets import Slider"
   ]
  },
  {
   "cell_type": "markdown",
   "id": "d8c06b3c-8ee8-40d2-9406-f43f4bf87a83",
   "metadata": {},
   "source": [
    "# Contexto\n",
    "\n",
    "¡Los marcianos han invadido la tierra!, su propósito final es descubrir los secretos de la especie humana para el dominio mundial. Actualmente están en fase de investigación, quieren estudiar la anatomía humana pero son muy flojos como para abducir personas y estudiarlos ellos mismos, por lo que recurren al robo de imágenes por resonancia magnética.\n",
    "\n",
    "La imagen por resonancia magnética (IRM) es una herramienta ampliamente utilizada en el área de la medicina para la obtención de características detalladas de distintas partes internas del cuerpo, lo cual permite diagnosticar y estudiar diversas condiciones de salud. Nos enfocaremos en la visualización tridimensional de una resonancia magnética de una cabeza, la cual se compone de un conjunto de imágenes bidimensionales en escala de grises.\n",
    "\n",
    "Los marcianos han escapado airosos de la faz de la tierra en su nave espacial con las imágenes, pero la especie humana fue capaz de codificar en PCA el conjunto imágenes obtenidas por el resonador magnético, tema que los marcianos ignoran y por lo que pedirán su ayuda por sus conocimientos de *Computación Científica*.\n",
    "\n",
    "El objetivo principal es explorar técnicas de compresión y reconstrucción de datos haciendo uso de herramientas como el Análisis de Componentes Principales (PCA), además de redimensionar a partir de un solo eje de imágenes la imagen completa tridimensional.\n",
    "\n",
    "<p align=\"center\">\n",
    "  <img src=\"img.jpeg\" alt=\"drawing\" style=\"margin:auto;width:500px;\"/>\n",
    "</p>"
   ]
  },
  {
   "cell_type": "markdown",
   "id": "d3305180-7215-4780-92f8-69f6a64667bf",
   "metadata": {},
   "source": [
    "# Funciones entregadas (no debe modificarlas)"
   ]
  },
  {
   "cell_type": "code",
   "execution_count": null,
   "id": "2a8c7d92",
   "metadata": {},
   "outputs": [],
   "source": [
    "class SliceViewer3D:\n",
    "    def __init__(self, H, fun):\n",
    "        self.H = H\n",
    "        self.shape = H.shape\n",
    "        self.fun = fun\n",
    "        self.current_slice_sagittal = self.shape[0] // 2\n",
    "        self.current_slice_axial = self.shape[1] // 2 \n",
    "        self.current_slice_coronal = self.shape[2] // 2\n",
    "\n",
    "        self.fig, (self.sagittal_ax, self.axial_ax, self.coronal_ax) = plt.subplots(1, 3, figsize=(15, 5))\n",
    "        \n",
    "        self.sagittal_slider_ax = self.fig.add_axes([0.1, 0.01, 0.2, 0.03])\n",
    "        self.axial_slider_ax = self.fig.add_axes([0.4, 0.01, 0.2, 0.03])\n",
    "        self.coronal_slider_ax = self.fig.add_axes([0.7, 0.01, 0.2, 0.03])\n",
    "\n",
    "        self.sagittal_slider = Slider(self.sagittal_slider_ax, 'Sagittal', 1, self.shape[0], valinit=self.current_slice_sagittal, valstep=1)\n",
    "        self.axial_slider = Slider(self.axial_slider_ax, 'Axial', 1, self.shape[1], valinit=self.current_slice_axial , valstep=1)\n",
    "        self.coronal_slider = Slider(self.coronal_slider_ax, 'Coronal', 1, self.shape[2], valinit=self.current_slice_coronal, valstep=1)\n",
    "\n",
    "        self.update_slices()\n",
    "\n",
    "        self.sagittal_slider.on_changed(self.update_sagittal_slice)\n",
    "        self.axial_slider.on_changed(self.update_axial_slice)\n",
    "        self.coronal_slider.on_changed(self.update_coronal_slice)\n",
    "\n",
    "    def update_slices(self):\n",
    "        # SAGITTAL, AXIAL, CORONAL\n",
    "        self.A, self.B, self.C = self.fun(self.H, coor=(self.current_slice_sagittal, self.current_slice_axial, self.current_slice_coronal))\n",
    "\n",
    "        self.sagittal_ax.clear()\n",
    "        self.sagittal_ax.imshow(self.A, cmap='gray')\n",
    "        self.sagittal_ax.axhline(self.current_slice_axial, color='r') \n",
    "        self.sagittal_ax.axvline(self.current_slice_coronal, color='g') \n",
    "        self.sagittal_ax.set_title(f'Sagittal Slice {self.current_slice_sagittal}/{self.shape[0]}')\n",
    "\n",
    "        self.axial_ax.clear()\n",
    "        self.axial_ax.imshow(self.B, cmap='gray')\n",
    "        self.axial_ax.axhline(self.current_slice_coronal, color='g')\n",
    "        self.axial_ax.axvline(self.current_slice_sagittal, color='b')\n",
    "        self.axial_ax.set_title(f'Axial Slice {self.current_slice_axial}/{self.shape[1]}')\n",
    "\n",
    "        self.coronal_ax.clear()\n",
    "        self.coronal_ax.imshow(self.C, cmap='gray')\n",
    "        self.coronal_ax.axhline(self.current_slice_axial, color='r')\n",
    "        self.coronal_ax.axvline(self.current_slice_sagittal, color='b')\n",
    "        self.coronal_ax.set_title(f'Coronal Slice {self.current_slice_coronal}/{self.shape[2]}')\n",
    "\n",
    "        plt.draw()\n",
    "\n",
    "    def update_axial_slice(self, value):\n",
    "        self.current_slice_axial = int(value)\n",
    "        self.update_slices()\n",
    "\n",
    "    def update_coronal_slice(self, value):\n",
    "        self.current_slice_coronal = int(value)\n",
    "        self.update_slices()\n",
    "\n",
    "    def update_sagittal_slice(self, value):\n",
    "        self.current_slice_sagittal = int(value)\n",
    "        self.update_slices()"
   ]
  },
  {
   "cell_type": "markdown",
   "id": "43d2f386",
   "metadata": {},
   "source": [
    "# Pregunta 1\n",
    "Se sabe que el conjunto de imágenes original estaba distribuido en un tensor, es decir, una matriz tridimensional $H \\in \\mathbb{R}^{p \\times q \\times r}$, donde $p$ es la cantidad de imágenes, $q$ representa el alto de la imagen y $r$ es el ancho de la imagen. Para aplicar *PCA*, las imágenes se colocaron sobre una grilla dentro de una matriz $M \\in \\mathbb{R}^{m \\times n}$ de la siguiente forma: la cantidad de imágenes hacia la derecha corresponde a $\\lfloor \\sqrt{p} \\rfloor$, y la cantidad de imágenes hacia abajo son tantas como sean necesarias para rellenar con las $p$ imágenes, las cuales se rellenan según su orden de llegada de izquierda a derecha y de arriba a abajo. Veamos un ejemplo con $p=13$:\n",
    "\n",
    "La cantidad de imágenes hacia la derecha corresponde a $\\lfloor \\sqrt{13} \\rfloor = 3$, la matriz $M$ se ve de la siguiente manera (tenga en cuenta que $I_{i} \\in \\mathbb{R}^{q \\times r},i=1,...,p$ es la i-ésima imagen):\n",
    "$$\n",
    "M = \\begin{pmatrix}\n",
    "I_1 & I_2 & I_3 \\\\\n",
    "I_4 & I_5 & I_6 \\\\\n",
    "I_7 & I_8 & I_9 \\\\\n",
    "I_{10} & I_{11} & I_{12} \\\\\n",
    "I_{13} &  & \n",
    "\\end{pmatrix}\n",
    "$$\n",
    "\n",
    "Note que se dejaron espacios en blanco al final. Si consideramos que cada imagen $I_{i}$ tiene dimensiones $q \\times r$ (sin RGB, es decir, un solo canal), entonces tendremos una matriz $M$ de dimensiones $m \\times n$, con $m=5q$ y $n=3r$. Finalmente aplicamos *PCA* a esta matriz $M$, obteniendo los siguientes resultados:\n",
    "\n",
    "- *Vh*: array con las componentes principales de $M$.\n",
    "- *Y*: array con los coeficientes proyectados de $M$.\n",
    "- *S*: array con los valores singulares de $M$.\n",
    "- *mu*: array con los promedios de las columnas de $M$\n",
    "\n",
    "Lamentablemente durante el escape marciano solo se pudieron recuperar las primeras 400 componentes principales, los primeros 400 coeficientes proyectados, los primeros 400 valores singulares y el array de los promedios de las columnas de $M$. Estas variables las puede cargar con el siguiente código:"
   ]
  },
  {
   "cell_type": "code",
   "execution_count": null,
   "id": "660af875",
   "metadata": {},
   "outputs": [],
   "source": [
    "# No modifique, solo ejecute\n",
    "\n",
    "# Carga los primeros 400 componentes principales\n",
    "with open(\"vars/Vhk400.npy\", 'rb') as f:\n",
    "  Vh = np.load(f)\n",
    "\n",
    "# Carga los primeros 400 coeficientes proyectados\n",
    "with open(\"vars/Yk400.npy\", 'rb') as f:\n",
    "  Y = np.load(f)\n",
    "\n",
    "# Carga los primeros 400 valores singulares\n",
    "with open(\"vars/Sk400.npy\", 'rb') as f:\n",
    "  S = np.load(f)\n",
    "\n",
    "# Carga un array con los promedios de las columnas\n",
    "with open(\"vars/muk400.npy\", 'rb') as f:\n",
    "  mu = np.load(f)"
   ]
  },
  {
   "cell_type": "markdown",
   "id": "2806fe08",
   "metadata": {},
   "source": [
    "1. **(10 puntos)** Implemente la función `rebuild_M` que reciba el array de componentes principales $Vh$, el array de coeficientes proyectados $Y$, el array con los promedios de las columnas $mu$ y la cantidad de componentes $k$ a considerar en la reconstrucción."
   ]
  },
  {
   "cell_type": "code",
   "execution_count": null,
   "id": "056a704b",
   "metadata": {},
   "outputs": [],
   "source": [
    "def rebuild_M(Vh, Y, mu, k):\n",
    "  \"\"\"\n",
    "  input:\n",
    "  Vh  :(ndarray) array of the principal components.\n",
    "  Y   :(ndarray) array of projected coefficients.\n",
    "  mu  :(ndarray) 1D array of averages per column of original data.\n",
    "  k   :(int)     number of principal components to use.\n",
    "\n",
    "  output:\n",
    "  M   :(ndarray) array with data of the reconstructed image with k principal components.\n",
    "  \"\"\"\n",
    "  # acá va su código\n",
    "  #--------------------------------\n",
    "  Zr = Y[:,:k] @ Vh[:k,:]\n",
    "  M = Zr + mu\n",
    "  #--------------------------------\n",
    "  return M"
   ]
  },
  {
   "cell_type": "markdown",
   "id": "8ec8e287",
   "metadata": {},
   "source": [
    "# Pregunta 2\n",
    "\n",
    "Como es sabido, la matriz original es un tensor tridimensional, a continuacion se debera lograr obtener la forma original de esta a partir de $M$, ademas de mostrar como se deberian ver los distintos cortes a traves de toda la imagen."
   ]
  },
  {
   "cell_type": "markdown",
   "id": "bc4697b4",
   "metadata": {},
   "source": [
    "2.1 **(20 puntos)** Implemente la función `M_to_tensor` la cual recibe la matriz $M \\in \\mathbb{R}^{m \\times n}$ y *original_shape* que corresponde a la forma original $(p,q,r)$ de $H$ y retorna la reconstrucción de $H \\in \\mathbb{R}^{p \\times q \\times r}$."
   ]
  },
  {
   "cell_type": "code",
   "execution_count": null,
   "id": "5cc28d5e",
   "metadata": {},
   "outputs": [],
   "source": [
    "def M_to_tensor(M, original_shape=(327, 480, 480)):\n",
    "  \"\"\"\n",
    "  input:\n",
    "  M              :(ndarray) rebuilt matrix with the images.\n",
    "  original_shape :(tuple)   original shape of the tensor in the form (p,q,r).\n",
    "\n",
    "  output:\n",
    "  H              :(ndarray) rebuilt tensor representing the head with shape (p,q,r).\n",
    "  \"\"\"\n",
    "  # acá va su código\n",
    "  #--------------------------------\n",
    "  H = np.empty(original_shape)\n",
    "  p, q, r = original_shape\n",
    "\n",
    "  cols = int(np.floor(np.sqrt(p)))\n",
    "\n",
    "  i, j = 0, 0\n",
    "  for slice in np.arange(p):\n",
    "    if j == cols:\n",
    "      i += 1\n",
    "      j = 0\n",
    "    H[slice] = M[i*q:(i+1)*q, j*r:(j+1)*r]\n",
    "    j+=1\n",
    "  #--------------------------------\n",
    "  return H"
   ]
  },
  {
   "cell_type": "markdown",
   "id": "ee418e05",
   "metadata": {},
   "source": [
    "2.2 **(5 puntos)** Implemente la funcion `get_views` la cual recibe la matriz reconstruida $H \\in \\mathbb{R}^{p \\times q \\times r}$ y la coordenada $(i,j,k) \\in \\mathbb{Z}³$ con $i \\in [1,p]$ , $j \\in [1,q]$ y $k \\in [1,r]$. Esta función retorna la i-ésima vista del plano sagital, j-ésima vista del plano axial y k-ésima vista del plano coronal, desde la reconstrucción $H$ que representa la cabeza tridimensional.\n",
    "\n",
    "*Hint: for more information about each plane visit https://en.wikipedia.org/wiki/Anatomical_plane and make sure the views are well oriented.*"
   ]
  },
  {
   "cell_type": "code",
   "execution_count": null,
   "id": "bf797a02",
   "metadata": {},
   "outputs": [],
   "source": [
    "def get_views(H, coor):\n",
    "  \"\"\"\n",
    "  input:\n",
    "  H              :(ndarray) rebuilt tensor representing the head.\n",
    "  coor           :(tuple)   coordinates of the views to be extracted, example: (164, 240, 240).\n",
    "\n",
    "  output:\n",
    "  SAGITTAL_VIEW  :(ndarray) i-th image from the sagittal plane.\n",
    "  AXIAL_VIEW     :(ndarray) j-th image from the axial plane.\n",
    "  CORONAL_VIEW   :(ndarray) k-th image from the coronal plane.\n",
    "  \"\"\"\n",
    "  # acá va su código\n",
    "  #--------------------------\n",
    "  i, j, k = coor\n",
    "  SAGITTAL_VIEW = H[i-1, :, :]\n",
    "  AXIAL_VIEW = H[:, j-1, :].T\n",
    "  CORONAL_VIEW = H[:, :, k-1].T\n",
    "  #--------------------------\n",
    "  return SAGITTAL_VIEW, AXIAL_VIEW, CORONAL_VIEW"
   ]
  },
  {
   "cell_type": "markdown",
   "id": "96ed7b0d",
   "metadata": {},
   "source": [
    "Ejecute esta celda para reconstruir la matriz $H$ con $k=200$ componentes principales:"
   ]
  },
  {
   "cell_type": "code",
   "execution_count": null,
   "id": "5b0d6b75",
   "metadata": {},
   "outputs": [],
   "source": [
    "# No modifique, solo ejecute\n",
    "M = rebuild_M(Vh, Y, mu, k=200)\n",
    "H = M_to_tensor(M)"
   ]
  },
  {
   "cell_type": "markdown",
   "id": "9e3aeb4c",
   "metadata": {},
   "source": [
    "Ejecute esta celda para comprobar su función `get_views`:"
   ]
  },
  {
   "cell_type": "code",
   "execution_count": null,
   "id": "add3d61c",
   "metadata": {},
   "outputs": [],
   "source": [
    "# No modifique, solo ejecute\n",
    "SAGITTAL_VIEW, AXIAL_VIEW, CORONAL_VIEW = get_views(H, coor=(164, 240, 240))\n",
    "\n",
    "fig, axes = plt.subplots(1, 3, figsize=(12, 4))\n",
    "\n",
    "axes[0].imshow(SAGITTAL_VIEW, cmap=plt.cm.gray)\n",
    "axes[0].set_title(\"Sagittal view\")\n",
    "\n",
    "axes[1].imshow(AXIAL_VIEW, cmap=plt.cm.gray)\n",
    "axes[1].set_title(\"Axial view\")\n",
    "\n",
    "axes[2].imshow(CORONAL_VIEW, cmap=plt.cm.gray)\n",
    "axes[2].set_title(\"Coronal view\")\n",
    "\n",
    "for ax in axes:\n",
    "  ax.axis('off')\n",
    "\n",
    "plt.tight_layout()\n",
    "plt.show()"
   ]
  },
  {
   "cell_type": "markdown",
   "id": "3fc21904",
   "metadata": {},
   "source": [
    "2.3 **(5 puntos)** A continuación se muestran todos los ejes y sus imágenes correspondientes reconstruidas con $k=200$ componentes principales."
   ]
  },
  {
   "cell_type": "code",
   "execution_count": null,
   "id": "260ffd31",
   "metadata": {},
   "outputs": [],
   "source": [
    "# No modifique, solo ejecute\n",
    "viewer = SliceViewer3D(H, fun=get_views)\n",
    "plt.show()"
   ]
  },
  {
   "cell_type": "markdown",
   "id": "94c60d5d",
   "metadata": {},
   "source": [
    "# Pregunta 3\n",
    "\n",
    "Debido a una colisión con un asteroide, la nave de los extraterrestres tendrá que desechar al espacio algunas de las unidades de información en las que están guardadas los componentes de la matriz $Vh$ para eliminar la turbulencia. Para esto, saben que usted es experto en la compresión de imágenes y lo teletransportan a su nave en busca de su ayuda."
   ]
  },
  {
   "cell_type": "markdown",
   "id": "2ad80336",
   "metadata": {},
   "source": [
    "3.1 **(10 puntos)** Exprese la función $f$ que describa el valor de la varianza preservada en términos de algunas de las variables entregadas, i.e. `(Vh, Y, S, mu)` y utilizando $k$ vectores singulares con $k=1,...,400$ de manera que pueda determinar cuantas unidades de información se deberán expulsar de la nave espacial."
   ]
  },
  {
   "cell_type": "markdown",
   "id": "83d3d7fd",
   "metadata": {},
   "source": [
    "**Respuesta:**\n",
    "\n",
    "---\n",
    "\n",
    "Sea $k$ el número de vectores singulares de $Vh$ utilizados y $\\sigma_i$ el i-ésimo valor singular (del vector S) correspondiente al i-ésimo vector singular, entonces podemos definir $f$ de la siguiente manera:\n",
    "$$f(k, S) = \\frac{\\sum^{k}_{i = 1} \\sigma_i^2}{\\sum^{400}_{i=1} \\sigma^{2}_{i}}$$\n",
    "Notar que simplemente es el cociente entre la suma acumulada de la varianza ($\\sigma^{2}_{i}$) de cada componente Vh y la varianza total para convertir en porcentaje.\n",
    "\n",
    "---"
   ]
  },
  {
   "cell_type": "markdown",
   "id": "939362aa",
   "metadata": {},
   "source": [
    "3.2 **(10 puntos)** Implemente la función $f$ utilizando la expresión anterior. Es tarea de usted determinar qué variables le serán de utilidad para el cálculo."
   ]
  },
  {
   "cell_type": "code",
   "execution_count": null,
   "id": "e2d47297",
   "metadata": {},
   "outputs": [],
   "source": [
    "def f(Vh, Y, S, mu, k):\n",
    "  \"\"\"\n",
    "  input:\n",
    "  Vh  :(ndarray) array of the principal components.\n",
    "  Y   :(ndarray) array of projected coefficients.\n",
    "  S   :(ndarray) array of singular values.\n",
    "  mu  :(ndarray) 1D array of averages per column of original data.\n",
    "  k   :(int)     number of principal components to use.\n",
    "\n",
    "  output:\n",
    "  r   :(float)   total variance preserved using k components.\n",
    "  \"\"\"\n",
    "  # acá va su código\n",
    "  #--------------------------\n",
    "  var = np.power(S, 2)\n",
    "  totalVar = np.sum(var)\n",
    "  ratio =  var[:k] / totalVar\n",
    "  r =  np.sum(ratio)\n",
    "  #--------------------------\n",
    "  return r"
   ]
  },
  {
   "cell_type": "code",
   "execution_count": null,
   "id": "def8a113",
   "metadata": {},
   "outputs": [],
   "source": [
    "# No modifique, solo ejecute\n",
    "\n",
    "# Creación del dominio\n",
    "dom = np.int16(np.linspace(1, 400, 400))\n",
    "\n",
    "# Vectorización de la función\n",
    "f_vec = np.vectorize(lambda k: f(Vh, Y, S, mu, k))"
   ]
  },
  {
   "cell_type": "markdown",
   "id": "6c403fb9",
   "metadata": {},
   "source": [
    "3.3 **(15 puntos)** Ejecute la siguiente celda para graficar la función $f$ en todo el dominio y analice los resultados. ¿Qué información puede extraer del gráfico? Fundamente."
   ]
  },
  {
   "cell_type": "code",
   "execution_count": null,
   "id": "b59c39af",
   "metadata": {},
   "outputs": [],
   "source": [
    "# No modifique, solo ejecute\n",
    "\n",
    "# Gráfico de la función\n",
    "plt.figure(figsize=(10, 6))\n",
    "\n",
    "plt.plot(dom, f_vec(dom), label='Recorrido f(x)', marker='o', linestyle='-', markersize=3)\n",
    "plt.ylabel('f(x)')\n",
    "plt.xlabel('x')\n",
    "\n",
    "plt.yticks(np.arange(0, 1.1, 0.05)) \n",
    "plt.ylim(0, 1) \n",
    "plt.grid(axis='both')\n",
    "\n",
    "plt.legend(loc='best')\n",
    "plt.title('Gráfico f(x)')\n",
    "plt.show()"
   ]
  },
  {
   "cell_type": "markdown",
   "id": "bce74a4d",
   "metadata": {},
   "source": [
    "**Respuesta:**\n",
    "\n",
    "---\n",
    "\n",
    "En el gráfico anterior podemos observar que con apróximadamente la mitad de los vectores singulares/componentes de la **matriz Vh**, se **conserva** cerca del **95% de la varianza de la información que describe las imágenes**. Además, se puede observar una tendencia en que los primeros 50 componentes son los que más % de varianza conservan, y luego de esos 50, cada componente va haciendo un aporte cada vez menor. Esto implica que el incremento de la curva sea mucho menor a medida que aumentan los componentes utilizados.\n",
    "\n",
    "---"
   ]
  },
  {
   "cell_type": "markdown",
   "id": "46f79a08",
   "metadata": {},
   "source": [
    "3.4 **(10 puntos)** Implemente la función `find_k`, la cual a partir de una función $f$ y un porcentaje $delta \\in [0,1]$ deseado de varianza a preservar, este calcule el valor $k$ de componentes necesarios.\n",
    "Finalmente, utilice esta función para darle una respuesta a los marcianos sobre cuántas unidades de información deben sacar de la nave, considerando que ellos necesitan preservar el $94.397316\\%$ de la información de los datos.\n",
    "\n",
    "*Hint: consider using the previous function and avoid exhaustive search having in mind that there are better methods.*"
   ]
  },
  {
   "cell_type": "code",
   "execution_count": null,
   "id": "2fe1716a",
   "metadata": {},
   "outputs": [],
   "source": [
    "def find_k(f, delta):\n",
    "    \"\"\"\n",
    "    input:\n",
    "    f       :(callable) vectorized function from 3.2.\n",
    "    delta   :(float)    percentage of information to be preserved.\n",
    "    \n",
    "    output:\n",
    "    k       :(int)      number of components to use to preserve delta of information.\n",
    "    \"\"\"\n",
    "    # acá va su código\n",
    "    #--------------------------\n",
    "    dom = np.int16(np.linspace(1, 400, 400))\n",
    "    index = np.where(np.float32(f(dom)) >= delta)\n",
    "    k = index[0][0]+1\n",
    "    #--------------------------\n",
    "    return k"
   ]
  },
  {
   "cell_type": "markdown",
   "id": "96e3c7ef",
   "metadata": {},
   "source": [
    "En la siguiente celda defina el valor de delta para luego evaluar la función anterior."
   ]
  },
  {
   "cell_type": "code",
   "execution_count": null,
   "id": "d5631776",
   "metadata": {},
   "outputs": [],
   "source": [
    "# Aquí definir el valor de delta. Solo cambie el 1 por el valor que usted está definiendo como delta.\n",
    "delta = .94397316"
   ]
  },
  {
   "cell_type": "code",
   "execution_count": null,
   "id": "37ee22eb",
   "metadata": {},
   "outputs": [],
   "source": [
    "# No modifique, solo ejecute\n",
    "best_k= find_k(f_vec, delta)\n",
    "best_k"
   ]
  },
  {
   "cell_type": "markdown",
   "id": "c3924093",
   "metadata": {},
   "source": [
    "**Respuesta:**\n",
    "\n",
    "---\n",
    "\n",
    "Dado lo anterior, si se quiere conservar la varianza descrita, se deben eliminar de la nave  las unidades de información que correspondan a los últimos $400-111 = 289$ vectores singulares.\n",
    "\n",
    "Puede haber una segunda respuesta debido a problemas de tipado: `best_k` podría ser igual a $112$ y se considerará como correcta.\n",
    "\n",
    "---"
   ]
  },
  {
   "cell_type": "markdown",
   "id": "3cdf43ed",
   "metadata": {},
   "source": [
    "3.5 **(15 puntos)** ¡Excelente!, ahora proponga un $k$ ocupando el método del *Ojímetro* respecto al gráfico en 3.3, reconstruya las imágenes y compare el $k$ que usted como profesional recomienda y el que quieren ocupar los marcianos para estabilizar la nave.\n",
    "\n",
    "Describa las diferencias que puede percibir y cuál es la mejor función a utilizar. Fundamente su respuesta en base a los contenidos.\n",
    "\n",
    "**A considerar**: el valor de $k$ elegido **debe** ser distinto del obtenido en la pregunta anterior y mostrar diferencia, pues el puntaje obtenido en esta pregunta será asignado en función de la calidad de su respuesta."
   ]
  },
  {
   "cell_type": "markdown",
   "id": "717f31f8",
   "metadata": {},
   "source": [
    "**Respuesta:**\n",
    "\n",
    "---\n",
    "\n",
    "Existen dos opciones:\n",
    "* Elegir un $k \\geq 200$ y $k \\neq$ best_k:  En este caso, tal como se puede en la gráfica de la pregunta 2.4, a medida que aumenta $k$, la cantidad de componentes aporta muy poca información. Si bien a mayor cantidad de componentes, se obtiene mejor calidad de la imagen a costa de requerir un mayor poder de cómputo y almacenamiento para su procesamiento. Por lo cual, se debería identificar que esta no es la mejor decisión para estabilizar la nave, i.e no es la mejor función a utilizar\n",
    "* Elegir un $k < 200$ y $k \\neq$ best_k: Para este otro caso, se espera todo lo contrario, es decir, que a medida que disminuye $k$, la cantidad de componentes aporta mucha información, con lo cual se empiezan a notar grandes cambios en la calidad de la imagen por cada componente que no se considera, tal y como se puede apreciar en el gráfico. A pesar de esto, se tiene la ventaja de no requerir mucho poder de cómputo ni mucho almacenamiento para procesarlas. Por lo tanto, aquí se debe identificar que esta es la mejor decisión para estabilizar la nave, i.e es la mejor función a utilizar.\n",
    "\n",
    "Para mostrar la gráfica a modo de ejemplo, se escogió un $k = 50$, el cual corresponde al segundo caso mencionado. Para ver los Slices con otro valor basta con cambiar el valor de en `rebuild_M`.\n",
    "\n",
    "** Si en su respuesta no habla acerca de la calidad se descuentan 4 puntos.\n",
    "\n",
    "** Si en su respuesta no habla acerca del poder de cómputo se descuentan 4 puntos.\n",
    "\n",
    "** Si en su respuesta no habla acerca del almacenamiento se descuentan 4 puntos.\n",
    "\n",
    "---"
   ]
  },
  {
   "cell_type": "code",
   "execution_count": null,
   "id": "443df359",
   "metadata": {},
   "outputs": [],
   "source": [
    "# slices con el k que proponen los marcianos\n",
    "# acá va su código\n",
    "#--------------------------\n",
    "newM_martians = rebuild_M(Vh, Y, mu, k=111)\n",
    "newH_martians = M_to_tensor(newM_martians)\n",
    "new_viewer_martians = SliceViewer3D(newH_martians, fun=get_views)\n",
    "plt.show()\n",
    "#--------------------------"
   ]
  },
  {
   "cell_type": "code",
   "execution_count": null,
   "id": "3efcd578",
   "metadata": {},
   "outputs": [],
   "source": [
    "# slices con el k que usted propone\n",
    "# acá va su código\n",
    "#--------------------------\n",
    "newM_yourself = rebuild_M(Vh, Y, mu, k=50)\n",
    "newH_yourself = M_to_tensor(newM_yourself)\n",
    "new_viewer_yourself = SliceViewer3D(newH_yourself, fun=get_views)\n",
    "plt.show()\n",
    "#--------------------------"
   ]
  },
  {
   "cell_type": "markdown",
   "id": "b5e93a61",
   "metadata": {},
   "source": [
    "**¡Ya ha llegado al final de la tarea 2! Ahora debe enviarla antes de las 23:55 hrs. del ~~viernes 4 de octubre~~ domingo 6 de octubre!**  \n",
    "\n",
    "**Solo debe entregar este notebook. Recuerde que el archivo de entrega debe seguir el siguiente formato: “apellido1_apellido2_tarea_numero.ipynb” en minúsculas, y no olvide revisar el reglamento de tareas.**"
   ]
  }
 ],
 "metadata": {
  "kernelspec": {
   "display_name": "Python 3 (ipykernel)",
   "language": "python",
   "name": "python3"
  },
  "language_info": {
   "codemirror_mode": {
    "name": "ipython",
    "version": 3
   },
   "file_extension": ".py",
   "mimetype": "text/x-python",
   "name": "python",
   "nbconvert_exporter": "python",
   "pygments_lexer": "ipython3",
   "version": "3.11.7"
  }
 },
 "nbformat": 4,
 "nbformat_minor": 5
}
