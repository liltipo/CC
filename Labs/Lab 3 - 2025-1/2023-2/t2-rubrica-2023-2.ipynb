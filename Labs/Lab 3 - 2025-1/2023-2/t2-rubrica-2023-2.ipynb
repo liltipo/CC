{
 "cells": [
  {
   "cell_type": "markdown",
   "metadata": {
    "cell_id": "607d378bc99d4758b4a82b81394d937f",
    "deepnote_cell_type": "markdown",
    "id": "dNvKzKqG5Ev0"
   },
   "source": [
    "<center>\n",
    "    <img src=\"http://sct.inf.utfsm.cl/wp-content/uploads/2020/04/logo_di.png\" style=\"width:60%\">\n",
    "    <h1> INF285 - Computación Científica </h1>\n",
    "    <h2> Tarea 2 - Rúbrica</h2>\n",
    "    <h2> [S]cientific [C]omputing [T]eam </a> </h2>\n",
    "    <h2> Version: 1.00</h2>\n",
    "</center>"
   ]
  },
  {
   "cell_type": "markdown",
   "metadata": {
    "cell_id": "5007f037b44845f3bac4c6e5a950af7a",
    "deepnote_cell_type": "markdown",
    "id": "rxp9HwV-5Ev1"
   },
   "source": [
    "# Contexto\n",
    "\n",
    "Los patrones de fractura aparecen en distintos campos desde la geología a la ciencia de materiales. A veces el foco está puesto en la forma de la fractura misma, pero otros investigadores están interesados en indicadores que permiten mostrar el comportamiento del patrón. Por ejemplo, la distribución de las áreas de cada celda, la distribución de los perímetros de cada celda, o la densidad del patrón, la cual consiste en conocer el porcentaje de \"fracturas\" presentes en el patrón versus el dominio. Si un patrón de fractura lo consideramos como una imagen, esta puede ser leída como una matriz binaria, por lo tanto, su densidad será la razón de pixeles negros sobre el dominio total.\n",
    "\n",
    "A continuación se entrega una serie de funciones y variables a utilizar en esta tarea."
   ]
  },
  {
   "cell_type": "markdown",
   "metadata": {
    "cell_id": "a7478430437a413d98cc735b045444f2",
    "deepnote_cell_type": "markdown",
    "id": "HwtUgM0v5Ev1"
   },
   "source": [
    "## Librerías, variables y funciones predefinidas (NO MODIFICAR)"
   ]
  },
  {
   "cell_type": "code",
   "execution_count": null,
   "metadata": {
    "id": "dsI-RjKc6jcz"
   },
   "outputs": [],
   "source": [
    "import matplotlib.image as mpimg\n",
    "import numpy as np\n",
    "import matplotlib.pyplot as plt"
   ]
  },
  {
   "cell_type": "code",
   "execution_count": null,
   "metadata": {
    "id": "vmQFDMHP8syZ"
   },
   "outputs": [],
   "source": [
    "SIZE=125\n",
    "M=100\n",
    "\n",
    "#loading mu vector\n",
    "mu = np.load(\"mu.npy\")\n",
    "\n",
    "#loading densities\n",
    "den = np.load(\"densities.npy\")"
   ]
  },
  {
   "cell_type": "code",
   "execution_count": null,
   "metadata": {
    "id": "XVoQxqsU5fyO"
   },
   "outputs": [],
   "source": [
    "def readImage(filename):\n",
    "  \"\"\"\n",
    "  Parameters\n",
    "  ----------\n",
    "  filename:  str\n",
    "             name of the file to read.\n",
    "  Returns\n",
    "  ----------\n",
    "  img:       ndarray\n",
    "             array with dimension SIZE x SIZE.\n",
    "  \"\"\"\n",
    "  img = mpimg.imread(filename)\n",
    "  img = img[:,:,0]\n",
    "  return img\n",
    "\n",
    "def binarize(img):\n",
    "  \"\"\"\n",
    "  Parameters\n",
    "  ----------\n",
    "  img:       ndarray\n",
    "             array with dimension SIZE x SIZE.\n",
    "\n",
    "  Returns\n",
    "  -------\n",
    "  img_bin:   ndarray\n",
    "             array with dimension SIZE x SIZE where\n",
    "             0's are black pixels and 1's white pixels.\n",
    "  \"\"\"\n",
    "  min_,max_ = np.min(img),np.max(img)\n",
    "  mean = .5*(min_ + max_)\n",
    "  img_bin = np.where(img < mean,0.,1.)\n",
    "  return img_bin\n",
    "\n",
    "def showImage(img):\n",
    "  \"\"\"\n",
    "  Parameters\n",
    "  ----------\n",
    "  img: ndarray\n",
    "       array with dimension SIZE x SIZE where\n",
    "       0's are black pixels and 1's white pixels.\n",
    "  \"\"\"\n",
    "  plt.imshow(img,cmap=plt.get_cmap(\"gray\"))\n",
    "  plt.show()\n",
    "\n",
    "def density(img):\n",
    "  \"\"\"\n",
    "  Parameters\n",
    "  ----------\n",
    "  img: ndarray\n",
    "        array with dimension SIZE x SIZE where\n",
    "        0's are black pixels and 1's white pixels.\n",
    "\n",
    "  Returns\n",
    "  ----------\n",
    "  img: double\n",
    "        percentage of black pixels over the total.\n",
    "  \"\"\"\n",
    "  nx,ny = img.shape\n",
    "  img = binarize(img)\n",
    "  return 1. - np.sum(img)/(nx*ny)\n",
    "\n",
    "def vectorToImage(vec):\n",
    "  \"\"\"\n",
    "  Parameters\n",
    "  ----------\n",
    "  vec: ndarray\n",
    "       1D array with dimension SIZE^2 where\n",
    "       0's are black pixels and 1's white pixels.\n",
    "\n",
    "  Returns\n",
    "  -------\n",
    "  img: ndarray\n",
    "       array with dimension SIZE x SIZE where\n",
    "       0's are black pixels and 1's white pixels.\n",
    "  \"\"\"\n",
    "  img = np.reshape(vec,(SIZE,SIZE))\n",
    "  return img"
   ]
  },
  {
   "cell_type": "markdown",
   "metadata": {
    "id": "i9XCIqAmZXLz"
   },
   "source": [
    "Usted cuenta con una carpeta de patrones de fractura que lamentablemente están con ruido. El objetivo de la tarea es reducir tal ruido lo que más se pueda. A continuación se muestra un patrón con ruido."
   ]
  },
  {
   "cell_type": "code",
   "execution_count": null,
   "metadata": {
    "colab": {
     "base_uri": "https://localhost:8080/",
     "height": 434
    },
    "id": "sOwsfDaTZbxB",
    "outputId": "e1fbc8c0-dd3c-4c45-e3d5-1b12a23f9128"
   },
   "outputs": [],
   "source": [
    "img = readImage(\"pattern/img-0.png\")\n",
    "showImage(img)"
   ]
  },
  {
   "cell_type": "markdown",
   "metadata": {
    "id": "zw8-Kw8tZvee"
   },
   "source": [
    "Una solución posible es binarizar directamente la imagen como se muestra a continuación:"
   ]
  },
  {
   "cell_type": "code",
   "execution_count": null,
   "metadata": {
    "colab": {
     "base_uri": "https://localhost:8080/",
     "height": 434
    },
    "id": "FCAC6th5Z_PR",
    "outputId": "0f6c19f5-260a-4a07-b983-182ebc5d10c8"
   },
   "outputs": [],
   "source": [
    "img = binarize(img)\n",
    "showImage(img)"
   ]
  },
  {
   "cell_type": "markdown",
   "metadata": {
    "id": "gVxSCHdVaItX"
   },
   "source": [
    "El problema es que aún queda ruido, por lo tanto se busca utilizar PCA para poder reducirlo de mejor manera."
   ]
  },
  {
   "cell_type": "markdown",
   "metadata": {
    "id": "HvyJoH84D7Qq"
   },
   "source": [
    "### Pregunta 1: construcción de la matriz X (20 puntos)\n",
    "\n",
    "Construya la función $\\verb|buildMatrix|$, la cual debe leer las imágenes ruidosas y guardar su información en la matriz X.\n",
    "\n",
    "*hint: the function $\\verb|img.flatten|$ may be useful to compact the information of a pattern.*"
   ]
  },
  {
   "cell_type": "code",
   "execution_count": null,
   "metadata": {
    "id": "Ynul_cRg6qIR"
   },
   "outputs": [],
   "source": [
    "def buildMatrix(M,SIZE):\n",
    "  \"\"\"\n",
    "  Parameters\n",
    "  ----------\n",
    "  M    :int\n",
    "        number of noisy images to read.\n",
    "  SIZE :int\n",
    "        SIZE x SIZE is the dimension of each noisy image.\n",
    "\n",
    "  Returns\n",
    "  -------\n",
    "  X   : ndarray\n",
    "        array with dimension M x SIZE^2 with data as row vectors.\n",
    "  \"\"\"\n",
    "  # No modificar\n",
    "  path = \"pattern/\"\n",
    "\n",
    "  # Escriba su código aquí\n",
    "  # -----------------------------------\n",
    "  X = np.zeros((M,SIZE**2))\n",
    "  for i in np.arange(M):\n",
    "    filename = path + \"img-{}.png\".format(i)\n",
    "    img = readImage(filename)\n",
    "    img = img.flatten()\n",
    "    X[i,:] = img\n",
    "  # -----------------------------------\n",
    "  return X\n",
    "X = buildMatrix(M,SIZE)"
   ]
  },
  {
   "cell_type": "markdown",
   "metadata": {
    "id": "YeuZSmVAIsNP"
   },
   "source": [
    "### Pregunta 2: PCA (20 puntos)\n",
    "\n",
    "Construya la función $\\verb|PCA|$, la cual recibe la matriz $X$ con la información de las imágenes ruidosas y la media por columna de las imágenes originales. Se debe aplicar SVD correctamente, y retornar la matriz resultante $Vh$ así como también los coeficientes proyectados $Y$."
   ]
  },
  {
   "cell_type": "code",
   "execution_count": null,
   "metadata": {
    "id": "ILFxADKaIxaC"
   },
   "outputs": [],
   "source": [
    "def PCA(X,mu):\n",
    "  \"\"\"\n",
    "  Parameters\n",
    "  ----------\n",
    "  X  :ndarray\n",
    "      array with data of the noisy images.\n",
    "  mu :ndarray\n",
    "      array of mean per column of original data.\n",
    "\n",
    "  Returns\n",
    "  ----------\n",
    "  Vh       :ndarray\n",
    "            array of the principal components.\n",
    "  Y        :ndarray\n",
    "            array of projected coefficients.\n",
    "  \"\"\"\n",
    "  # Escriba su código aquí\n",
    "  # -----------------------------------\n",
    "  Z = X - mu\n",
    "  _,_,Vh = np.linalg.svd(Z,full_matrices=False)\n",
    "  Y = Z @ Vh.T\n",
    "  # -----------------------------------\n",
    "  return Vh,Y\n",
    "Vh,Y = PCA(X,mu)"
   ]
  },
  {
   "cell_type": "markdown",
   "metadata": {
    "id": "_7leK04LMVV_"
   },
   "source": [
    "### Pregunta 3: Reconstrucción (20 puntos)\n",
    "\n",
    "Construya la función $\\verb|reconstruccion|$, la cual a partir de la información obtenida de la función $\\verb|PCA|$ debe obtener las imágenes reconstruidas con $k$ componentes principales."
   ]
  },
  {
   "cell_type": "code",
   "execution_count": null,
   "metadata": {
    "id": "2LJVNw8eMTvS"
   },
   "outputs": [],
   "source": [
    "def reconstruccion(Vh,Y,mu,k):\n",
    "  \"\"\"\n",
    "  Parameters\n",
    "  ----------\n",
    "  Vh  :ndarray\n",
    "       array of the principal components.\n",
    "  Y   :ndarray\n",
    "       array of projected coefficients.\n",
    "  mu  :double\n",
    "       1D array of averages per column of original data.\n",
    "  k   :int\n",
    "       number of principal components to use.\n",
    "\n",
    "  Returns\n",
    "  -------\n",
    "  Xr  :ndarray\n",
    "       array with data of the reconstructed images with k principal components.\n",
    "  \"\"\"\n",
    "  # Escriba su código aquí\n",
    "  # -----------------------------------\n",
    "  Zr = Y[:,:k] @ Vh[:k,:]\n",
    "  Xr = Zr + mu\n",
    "  # -----------------------------------\n",
    "  return Xr\n",
    "Xr = reconstruccion(Vh,Y,mu,20)"
   ]
  },
  {
   "cell_type": "markdown",
   "metadata": {
    "id": "Y3c6PzoBOYFo"
   },
   "source": [
    "### Pregunta 4: Mejor k (30 puntos)\n",
    "\n",
    "Construya la función $\\verb|mejorK|$, la cual determine la cantidad de $k$ componentes principales que se deben utilizar para reconstruir la $i$-ésima imagen, de tal manera que su densidad sea lo más cercano posible al valor de la $i$-ésima densidad teórica conocida almacenada en la $i$-ésima componente de la variable $\\verb|den|$. Evalúe esta función con $i = 0$."
   ]
  },
  {
   "cell_type": "code",
   "execution_count": null,
   "metadata": {
    "id": "NVH0TTFNOXvu"
   },
   "outputs": [],
   "source": [
    "def mejorK(i,Vh,Y,mu,den):\n",
    "  \"\"\"\n",
    "  Parameters\n",
    "  ----------\n",
    "  i   :int\n",
    "       i-th image to be denoised.\n",
    "  Vh  :ndarray\n",
    "       array of the principal components.\n",
    "  Y   :ndarray\n",
    "       array of projected coefficients.\n",
    "  mu  :double\n",
    "       1D array of averages per column of original data.\n",
    "  den :ndarray\n",
    "       1D array of target densities.\n",
    "\n",
    "  Returns\n",
    "  -------\n",
    "  kb  :int\n",
    "       best number of principal components.\n",
    "  Xd  :ndarray\n",
    "       array with data of the denoised image.\n",
    "  \"\"\"\n",
    "  # Escriba su código aquí\n",
    "  # -----------------------------------\n",
    "  den_i = den[i]\n",
    "  error = np.zeros(M)\n",
    "  for k in np.arange(M):\n",
    "    Xr = reconstruccion(Vh,Y,mu,k)\n",
    "    Xr_i = vectorToImage(Xr[i,:])\n",
    "    error[k] = np.abs(den_i - density(Xr_i))\n",
    "  kb = np.argmin(error)\n",
    "  Xr = reconstruccion(Vh,Y,mu,kb)\n",
    "  Xd = vectorToImage(Xr[i,:])\n",
    "  # -----------------------------------\n",
    "  return kb,Xd\n",
    "\n",
    "kb,Xd = mejorK(0,Vh,Y,mu,den)\n",
    "showImage(Xd)\n",
    "showImage(binarize(Xd))"
   ]
  },
  {
   "cell_type": "markdown",
   "metadata": {
    "cell_id": "abde950b0c784593a327786e4969e550",
    "deepnote_cell_type": "markdown",
    "id": "Yu384EIl5Ev5"
   },
   "source": [
    "**¡Ya ha llegado al final de la tarea número 2! Ahora debe enviarla antes de las 18:00 hrs.**"
   ]
  }
 ],
 "metadata": {
  "colab": {
   "provenance": []
  },
  "deepnote": {},
  "deepnote_execution_queue": [],
  "deepnote_notebook_id": "8e84f84a060e4062b39e59b2b670818c",
  "deepnote_persisted_session": {
   "createdAt": "2023-04-28T15:32:17.336Z"
  },
  "kernelspec": {
   "display_name": "Python 3 (ipykernel)",
   "language": "python",
   "name": "python3"
  },
  "language_info": {
   "codemirror_mode": {
    "name": "ipython",
    "version": 3
   },
   "file_extension": ".py",
   "mimetype": "text/x-python",
   "name": "python",
   "nbconvert_exporter": "python",
   "pygments_lexer": "ipython3",
   "version": "3.11.7"
  }
 },
 "nbformat": 4,
 "nbformat_minor": 4
}
