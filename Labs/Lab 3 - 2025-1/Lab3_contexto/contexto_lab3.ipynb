{
 "cells": [
  {
   "cell_type": "markdown",
   "id": "1e8efe43",
   "metadata": {},
   "source": [
    "<center>\n",
    "    <img src=\"http://sct.inf.utfsm.cl/wp-content/uploads/2020/04/logo_di.png\" style=\"width:60%\">\n",
    "    <h1> INF285 - Computación Científica </h1>\n",
    "    <h2> Laboratorio 3 - Contexto</h2>\n",
    "    <h2> [S]cientific [C]omputing [T]eam </a> </h2>\n",
    "    <h2> 2025-1</h2>\n",
    "</center>"
   ]
  },
  {
   "cell_type": "markdown",
   "id": "b99cbdc5",
   "metadata": {},
   "source": [
    "Correr el siguiente bloque solo 1 vez"
   ]
  },
  {
   "cell_type": "code",
   "execution_count": null,
   "id": "8a5dbd1b",
   "metadata": {},
   "outputs": [],
   "source": [
    "!pip install pillow"
   ]
  },
  {
   "cell_type": "code",
   "execution_count": null,
   "id": "000d0e74",
   "metadata": {},
   "outputs": [],
   "source": [
    "from PIL import Image\n",
    "import os\n",
    "import numpy as np\n",
    "import matplotlib.pyplot as plt\n",
    "from numpy.linalg import svd\n",
    "from scipy.ndimage import convolve1d\n",
    "from scipy.linalg import toeplitz"
   ]
  },
  {
   "cell_type": "markdown",
   "id": "88a53fbc",
   "metadata": {},
   "source": [
    "# Laboratorio 3: Modelado de desenfoque en imágenes mediante operadores lineales\n",
    "\n",
    "En este laboratorio exploraremos el proceso de desenfoque de una imagen utilizando operadores lineales en forma de **matrices de convolución**, específicamente matrices Toeplitz construidas a partir de un núcleo Gaussiano.\n",
    "\n",
    "El desenfoque de una imagen es una operación fundamental en procesamiento de imágenes y se puede modelar matemáticamente como una multiplicación matricial. En lugar de aplicar una función de convolución tradicional sobre una imagen, representaremos el desenfoque mediante una **operación lineal separable**, en la que una imagen bidimensional es multiplicada por matrices que difuminan por **filas** y por **columnas**.\n",
    "\n",
    "Adicionalmente, se agregará **ruido** a la imagen desenfocada, con el objetivo de obtener una versión degradada de la imagen original.\n",
    "\n",
    "El enfoque principal de este laboratorio, y el desafío que se plantea, consiste en que ustedes logren **restaurar la imagen degradada** aplicando conceptos de álgebra lineal. Para ello, deberán utilizar **operaciones matriciales** junto con las propiedades de la **descomposición en valores singulares (SVD)**, con el fin de reconstruir una versión lo más **cercana** posible de la imagen original.\n",
    "\n",
    "El procedimiento de desenfoque se modela con las matrices $A_c$ y $A_r$, las cuales operan sobre las columnas y filas de la imagen $X_{true}$, respectivamente. \n",
    "Es decir:\n",
    "$$\n",
    "\\underbrace{A_c\\,X_{\\text{true}}\\,A_r^\\top}_{\\displaystyle{B_{\\text{true}}}} + \\Xi = B_{\\text{data}},\n",
    "$$\n",
    "donde:\n",
    "- $X_{\\text{true}}$: imagen original (en escala de grises).\n",
    "- $A_c$ : matriz que aplica el desenfoque por columnas.\n",
    "- $A_r$: matriz que aplica el desenfoque por filas.\n",
    "- $\\Xi$: ruido Gaussiano aditivo asociado al proceso de captura de la imagen.\n",
    "- $B_{\\text{true}}$: imagen desenfocada resultante sin considerar el ruido $\\Xi$.\n",
    "- $B_{\\text{data}}$: imagen degradada que se quiere corregir. Esta es la data que se tiene a disposición.\n",
    "\n",
    "Ambas matrices  $A_c$ y $A_r $ son construidas a partir de un filtro gaussiano discreto, y suelen ser matrices Toeplitz simétricas, y por simplicidad se usará $A_c=A_r$.\n",
    "\n",
    "Este enfoque no solo permite aplicar desenfoques, sino también estudiar su inversión, lo que se utilizará más adelante para **restauración de imágenes** .\n",
    "\n",
    "---"
   ]
  },
  {
   "cell_type": "markdown",
   "id": "8684003b",
   "metadata": {},
   "source": [
    "Funcion que retorna las 2 matrices de convolución $A_c$ y $A_r$:"
   ]
  },
  {
   "cell_type": "code",
   "execution_count": null,
   "id": "252417b2",
   "metadata": {},
   "outputs": [],
   "source": [
    "# Construcción de operadores de 'desenfoque'\n",
    "def blur_operator(m, n, bl=1):\n",
    "    \"\"\"\n",
    "    Descripción: Genera los operadores de convolución 1-D empleados\n",
    "    ---------- \n",
    "    inputs:\n",
    "    ----------\n",
    "    m, n : int\n",
    "        Dimensiones de la imagen (filas = m, columnas = n).\n",
    "    bl : {1, 2}\n",
    "        1  → blur simétrico  (σ_r = σ_c = 0.01)\n",
    "        2  → blur asimétrico (σ_r = 0.02, σ_c = 0.01)\n",
    "    ----------\n",
    "    outputs:\n",
    "    ----------\n",
    "    Ac : ndarray (m, m)\n",
    "        Matriz Toeplitz que difumina horizontalmente (columnas).\n",
    "    Ar : ndarray (n, n)\n",
    "        Matriz Toeplitz que difumina verticalmente (filas).\n",
    "    \"\"\"\n",
    "    # --- 1. Parámetros ----------------------------------------------------\n",
    "    sigmac = 0.01\n",
    "    sigmar = 0.02 if bl == 2 else sigmac\n",
    "    # --- 2. Nucleos 1-D ---------------------------------------------------\n",
    "    c_pos = np.linspace(0, 1, m) # coordenadas normalizadas\n",
    "    r_pos = np.linspace(0, 1, n)\n",
    "\n",
    "    c = np.exp(-0.5 * (c_pos / sigmac) ** 2)\n",
    "    r = np.exp(-0.5 * (r_pos / sigmar) ** 2)\n",
    "    # umbral 1e-4 \n",
    "    c[c < 1e-4] = 0.0\n",
    "    r[r < 1e-4] = 0.0\n",
    "\n",
    "    # Normalización: división por (2·sum − valor central)\n",
    "    c /= (2 * c.sum() - c[0])\n",
    "    r /= (2 * r.sum() - r[0])\n",
    "    # --- 3. Matrices Toeplitz --------------------------------------------\n",
    "    Ac = toeplitz(c)          # (m × m)\n",
    "    Ar = toeplitz(r)          # (n × n)\n",
    "    return Ac, Ar\n"
   ]
  },
  {
   "cell_type": "markdown",
   "id": "170576b3",
   "metadata": {},
   "source": [
    "Cargamos la imagen y la desenfocamos"
   ]
  },
  {
   "cell_type": "code",
   "execution_count": null,
   "id": "96ab13e0",
   "metadata": {},
   "outputs": [],
   "source": [
    "# Paso 1: Cargar imagen original y convertir a escala de grises\n",
    "img = Image.open(\"img.jpg\").convert(\"L\")\n",
    "img = img.resize((512, 512))\n",
    "X_true = np.array(img) / 255.0  # Imagen original normalizada\n",
    "\n",
    "# Mostrar imagen original\n",
    "plt.figure(figsize=(5,4))\n",
    "plt.imshow(img, cmap='gray')\n",
    "plt.axis('off')\n",
    "plt.title('Imagen original (X_true)')\n",
    "plt.tight_layout()\n",
    "plt.show()"
   ]
  },
  {
   "cell_type": "code",
   "execution_count": null,
   "id": "2d218da9",
   "metadata": {},
   "outputs": [],
   "source": [
    "# Paso 2: Definir el operador de desenfoque\n",
    "Ac, Ar = blur_operator(512, 512, bl=1)\n",
    "\n",
    "# Paso 3: Aplicar el operador de desenfoque\n",
    "B_blur = Ac @ X_true @ Ar.T\n",
    "\n",
    "# Mostrar imagen desenfocada\n",
    "plt.figure(figsize=(5,4))\n",
    "plt.imshow(B_blur, cmap='gray')\n",
    "plt.axis('off')\n",
    "plt.title('Imagen original desenfocada (B_true)')\n",
    "plt.tight_layout()\n",
    "plt.show()"
   ]
  },
  {
   "cell_type": "code",
   "execution_count": null,
   "id": "e30bc234",
   "metadata": {},
   "outputs": [],
   "source": [
    "# Paso 4: Cargar ruido definido previamente\n",
    "ruido=np.load('ruido.npy')  # Ruido gaussiano dado\n",
    "\n",
    "# Paso 5: Agregar ruido a la imagen desenfocada\n",
    "B_data = B_blur + ruido\n",
    "\n",
    "# Mostrar imagen desenfocada más ruido Gaussiano\n",
    "plt.figure(figsize=(5,4))\n",
    "plt.imshow(B_blur, cmap='gray')\n",
    "plt.axis('off')\n",
    "plt.title('Imagen original desenfocada y con ruido (B_data)')\n",
    "plt.tight_layout()\n",
    "plt.show()"
   ]
  },
  {
   "cell_type": "markdown",
   "id": "45306a38",
   "metadata": {},
   "source": [
    "### Pasos para la reconstrucción\n",
    "\n",
    "Para la realización de la reconstrucción de una **aproximación** la imagen $X_{\\text{true}}$ desde la imagen $B$ se puede realizar _despejando_ $X_{\\text{true}}$, es decir,\n",
    "$$\n",
    "\\begin{align*}\n",
    "    A_c\\,X_{\\text{true}}\\,A_r^\\top+\\Xi &=B_{\\text{data}},\\tag{1.1}\\\\\n",
    "    A_c\\,X_{\\text{true}}\\,A_r^\\top &=B_{\\text{data}}-\\Xi,\\\\\n",
    "    X_{\\text{true}}\\,A_r^\\top &=A_c^{-1}\\left(B_{\\text{data}}-\\Xi\\right),\\\\\n",
    "    X_{\\text{true}} &=A_c^{-1}\\,\\left(B_{\\text{data}}-\\Xi\\right)\\,A_r^{-\\top},\\\\\n",
    "    X_{\\text{true}} &=\\left(A_c^{-1}\\,B_{\\text{data}}-A_c^{-1}\\,\\Xi\\right)\\,A_r^{-\\top},\\\\\n",
    "    X_{\\text{true}} &=A_c^{-1}\\,B_{\\text{data}}\\,A_r^{-\\top}-A_c^{-1}\\,\\Xi\\,A_r^{-\\top}.\\tag{1.2}\n",
    "\\end{align*}$$\n",
    "Esto nos indica que si computamos $A_c^{-1}\\,B_{\\text{data}}\\,A_r^{-\\top}$ directamente no obtendremos $X_{\\text{true}}$ dado que desconocemos el término $\\Xi$.\n",
    "Incluso podemos determinar que la diferencia entre $X_{\\text{true}}$ y $A_c^{-1}\\,B_{\\text{data}}\\,A_r^{-\\top}$ es exactamente $-A_c^{-1}\\,\\Xi\\,A_r^{-\\top}$, y si calculamos una norma matricial de la diferencia se obtiene,\n",
    "$$\n",
    "    \\left\\|X_{\\text{true}}-A_c^{-1}\\,B_{\\text{data}}\\,A_r^{-\\top}\\right\\| = \\left\\|A_c^{-1}\\,\\Xi\\,A_r^{-\\top}\\right\\|.\n",
    "$$\n",
    "Entonces, para poder lograr reducir esta diferencia entre la imagen original $X_{\\text{true}}$ y la imagen reconstruida se propone el siguiente procedimiento:\n",
    "1. Descomponer el operador $A_c^{-1}$, es decir $A_c^{-1}=A_{c,\\text{trunc}}^{-1}+A_{c,\\text{res}}^{-1}$\n",
    "2. Descomponer el operador $A_r^{-\\top}$, es decir $A_r^{-\\top}=A_{r,\\text{trunc}}^{-\\top}+A_{r,\\text{res}}^{-\\top}$\n",
    "\n",
    "donde `trunc` denota el truncamiento del operador y `res` denota el residuo resultante del truncamiento.\n",
    "El siguiente paso corresponde a reemplazar la descomposición de los operadores en el término $A_c^{-1}\\,B_{\\text{data}}\\,A_r^{-\\top}$ de la ecuación (1.2), es decir,\n",
    "$$\n",
    "\\begin{align*}\n",
    "    A_c^{-1}\\,B_{\\text{data}}\\,A_r^{-\\top} &= \\left(A_{c,\\text{trunc}}^{-1}+A_{c,\\text{res}}^{-1}\\right)\n",
    "                                                B_{\\text{data}}\n",
    "                                                \\left(A_{r,\\text{trunc}}^{-\\top}+A_{r,\\text{res}}^{-\\top}\\right)\\\\\n",
    "                                            &= A_{c,\\text{trunc}}^{-1}\\,B_{\\text{data}}\\,A_{r,\\text{trunc}}^{-\\top}+\\Lambda_{\\text{res}}, \\tag{1.3}\n",
    "\\end{align*}\n",
    "$$\n",
    "donde \n",
    "$\\Lambda_{\\text{res}}=\n",
    "A_{c,\\text{trunc}}^{-1}\\,B_{\\text{data}}\\,A_{r,\\text{res}}^{-\\top}\n",
    "+A_{c,\\text{res}}^{-1}\\,B_{\\text{data}}\\,A_{r,\\text{trunc}}^{-\\top}\n",
    "+A_{c,\\text{res}}^{-1}\\,B_{\\text{data}}\\,A_{r,\\text{res}}^{-\\top}$.\n",
    "Notar que si no existe truncamiento, entonces la matriz $\\Lambda_{\\text{res}}$ sería la matriz nula.\n",
    "Entonces, reemplazando la descomposición (1.3) en la ecuación (1.2) se obtiene,\n",
    "$$\n",
    "\\begin{align*}\n",
    "    X_{\\text{true}} &= A_c^{-1}\\,B_{\\text{data}}\\,A_r^{-\\top}-A_c^{-1}\\,\\Xi\\,A_r^{-\\top}\\\\\n",
    "                    &= \\underbrace{A_{c,\\text{trunc}}^{-1}\\,B_{\\text{data}}\\,A_{r,\\text{trunc}}^{-\\top}}_{\\displaystyle{X_{\\text{recon}}}}+\\Lambda_{\\text{res}}-A_c^{-1}\\,\\Xi\\,A_r^{-\\top}.\n",
    "\\end{align*}\n",
    "$$\n",
    "Ahora, denotando $X_{\\text{recon}}=A_{c,\\text{trunc}}^{-1}\\,B_{\\text{data}}\\,A_{r,\\text{trunc}}^{-\\top}$ como la imagen reconstruida, podemos obtener nuevamente la norma de la diferencia entre la imagen original y la imagen reconstruida de la siguiente forma,\n",
    "$$\n",
    "\\begin{align*}\n",
    "    \\left\\|X_{\\text{true}}-X_{\\text{recon}}\\right\\|=\\left\\|\\Lambda_{\\text{res}}-A_c^{-1}\\,\\Xi\\,A_r^{-\\top}\\right\\|.\n",
    "\\end{align*}\n",
    "$$\n",
    "Por lo tanto, si el truncamiento es exitoso se puede lograr que el error de la reconstrucción por medio de truncamiento sea menor que utilizar los operadores originales, es decir, estudiaremos las condiciones para que esto se logre lo siguiente,\n",
    "$$\n",
    "\\left\\|\\Lambda_{\\text{res}}-A_c^{-1}\\,\\Xi\\,A_r^{-\\top}\\right\\|=\\left\\|X_{\\text{true}}-X_{\\text{recon}}\\right\\|\\leq\\left\\|X_{\\text{true}}-A_c^{-1}\\,B_{\\text{data}}\\,A_r^{-\\top}\\right\\|= \\left\\|A_c^{-1}\\,\\Xi\\,A_r^{-\\top}\\right\\|.\n",
    "$$\n",
    "El éxito del procedimiento implica que se obtiene una imagen más cercana a la original por medio del truncamiento que utilizar los operadores sin truncar.\n",
    "_Este procedimiento de aproximación es lo que se estudiará en el laboratorio_.\n",
    "\n",
    "**Su objetivo será implementar esta expresión paso a paso utilizando operaciones matriciales y aplicar la descomposición SVD para obtener la mejor estimación posible de la imagen original para la problemática particular que se le entregue.**"
   ]
  },
  {
   "cell_type": "markdown",
   "id": "662bd85c",
   "metadata": {},
   "source": [
    "### Funciones que seran utilizadas\n"
   ]
  },
  {
   "cell_type": "markdown",
   "id": "46ccb714",
   "metadata": {},
   "source": [
    "Funcion `np.linalg.svd(A, full_matrices=False)` --> obtiene la descomposicion en valores singulares (svd) de la matriz A."
   ]
  },
  {
   "cell_type": "code",
   "execution_count": null,
   "id": "5eede640",
   "metadata": {},
   "outputs": [],
   "source": [
    "A = np.array([[1., 2., 3.],\n",
    "              [4., 5., 6.],\n",
    "              [7., 8., 9.]])\n",
    "\n",
    "Uc, Sc, VcT = np.linalg.svd(A, full_matrices=False)\n",
    "print('Uc:',Uc)\n",
    "print('Sc:',Sc)\n",
    "print('VcT:',VcT)\n"
   ]
  },
  {
   "cell_type": "markdown",
   "id": "54234009",
   "metadata": {},
   "source": [
    "Funcion `np.argsort()` --> obtiene los i`dices originales ordenados de los mayores o menores elementos."
   ]
  },
  {
   "cell_type": "code",
   "execution_count": null,
   "id": "4e110cb9",
   "metadata": {},
   "outputs": [],
   "source": [
    "a = np.array([30, 10, 50, 20])\n",
    "\n",
    "# Obtener los índices que ordenarían el array\n",
    "indices_ordenados = np.argsort(a)\n",
    "\n",
    "print(\"Índices ordenados menor a mayor:\", indices_ordenados)  # [1 3 0 2]\n",
    "print(\"Array ordenado:\", a[indices_ordenados])  # [10 20 30 50]\n",
    "\n",
    "indices_ordenados = np.argsort(a)[::-1]\n",
    "print(\"Índices ordenados de mayor a menor:\", indices_ordenados)  # [2 0 3 1]\n",
    "print(\"Array ordenado:\", a[indices_ordenados])  # [10 20 30 50]\n",
    "\n",
    "n_indices_ordenados= np.argsort(a)[::-1][:2] #n=2\n",
    "print(\"Los primeros n indices ordenados de mayor a menor:\", n_indices_ordenados)  # [2 0]\n",
    "print(\"Array ordenado:\", a[n_indices_ordenados])  # [50 30]\n"
   ]
  },
  {
   "cell_type": "markdown",
   "id": "d5fc0a83",
   "metadata": {},
   "source": [
    "Funcion `.ravel()` --> aplana un arreglo multidimensional, conviritendolo en un arreglo plano 1D, cada fila se concatena con la que sigue."
   ]
  },
  {
   "cell_type": "code",
   "execution_count": null,
   "id": "2c3d0189",
   "metadata": {},
   "outputs": [],
   "source": [
    "A = np.array([[1., 2., 3.],\n",
    "              [4., 5., 6.],\n",
    "              [7., 8., 9.]])\n",
    "\n",
    "r = A.ravel()\n",
    "print(r)\n",
    "\n",
    "# funciona solo como vista, es decir, no se copia el array y A no se modifica, sigue siendo una matriz\n",
    "print(A)"
   ]
  },
  {
   "cell_type": "markdown",
   "id": "874e1d0e",
   "metadata": {},
   "source": [
    "Funcion `np.zeros_like(A,dtype)` --> crea una matriz de ceros de la misma dimension que A."
   ]
  },
  {
   "cell_type": "code",
   "execution_count": null,
   "id": "71bd3618",
   "metadata": {},
   "outputs": [],
   "source": [
    "copy=np.zeros_like(A)\n",
    "print(copy)\n",
    "#matriz booleana\n",
    "copy=np.zeros_like(A, dtype=bool)\n",
    "print(copy)\n"
   ]
  },
  {
   "cell_type": "markdown",
   "id": "f390ab52",
   "metadata": {},
   "source": [
    "Funciones utilizadas en conjunto\n"
   ]
  },
  {
   "cell_type": "code",
   "execution_count": null,
   "id": "20dcb450",
   "metadata": {},
   "outputs": [],
   "source": [
    "# Quiero marcar los primeros 3 elementos de la matriz mas grandes y dividirlo por 2\n",
    "\n",
    "indices_ordenados = np.argsort(A.ravel())[::-1][:3]\n",
    "print(A.ravel()[indices_ordenados], \"\\n\")\n",
    "B=A.ravel()[indices_ordenados] / 2\n",
    "print(B,\"\\n\")\n",
    "\n",
    "# Dejar solo los 3 elementos que dividi por 2 en una matriz\n",
    "Acopy = np.zeros_like(A)\n",
    "Acopy.ravel()[indices_ordenados] = B\n",
    "print(\"Matriz con los 3 elementos que dividi por 2\")\n",
    "print(Acopy,\"\\n\")\n",
    "\n",
    "# Dejar todos lo elementos mas los que dividi por 2\n",
    "A.ravel()[indices_ordenados] = B\n",
    "print(\"Matriz con los 3 elementos que dividi por 2\")\n",
    "print(A,\"\\n\")    "
   ]
  },
  {
   "cell_type": "code",
   "execution_count": null,
   "id": "6f1e5fba",
   "metadata": {},
   "outputs": [],
   "source": []
  }
 ],
 "metadata": {
  "kernelspec": {
   "display_name": "base",
   "language": "python",
   "name": "python3"
  },
  "language_info": {
   "codemirror_mode": {
    "name": "ipython",
    "version": 3
   },
   "file_extension": ".py",
   "mimetype": "text/x-python",
   "name": "python",
   "nbconvert_exporter": "python",
   "pygments_lexer": "ipython3",
   "version": "3.12.2"
  }
 },
 "nbformat": 4,
 "nbformat_minor": 5
}
